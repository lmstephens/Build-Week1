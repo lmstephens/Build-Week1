{
  "nbformat": 4,
  "nbformat_minor": 0,
  "metadata": {
    "colab": {
      "name": "2013-2019weather.ipynb",
      "provenance": [],
      "toc_visible": true
    },
    "kernelspec": {
      "name": "python3",
      "display_name": "Python 3"
    }
  },
  "cells": [
    {
      "cell_type": "code",
      "metadata": {
        "id": "IBTWMv5fe7d3",
        "colab_type": "code",
        "colab": {}
      },
      "source": [
        "#Import all the stuff\n",
        "import pandas as pd\n",
        "import numpy as np\n",
        "import matplotlib.pyplot as plt\n",
        "import random\n",
        "\n",
        "\n",
        "import plotly\n",
        "import plotly.graph_objs as go\n",
        "from plotly.offline import init_notebook_mode, plot, iplot"
      ],
      "execution_count": 0,
      "outputs": []
    },
    {
      "cell_type": "code",
      "metadata": {
        "id": "ICJRinnFfG-O",
        "colab_type": "code",
        "colab": {}
      },
      "source": [
        "# for colab:\n",
        "def enable_plotly_in_cell():\n",
        "    import IPython\n",
        "    from plotly.offline import init_notebook_mode\n",
        "    display(IPython.core.display.HTML('''<script src=\"/static/components/requirejs/require.js\"></script>'''))\n",
        "    init_notebook_mode(connected=False)"
      ],
      "execution_count": 0,
      "outputs": []
    },
    {
      "cell_type": "code",
      "metadata": {
        "id": "8fwzHIUOjmUV",
        "colab_type": "code",
        "colab": {}
      },
      "source": [
        "import altair as alt"
      ],
      "execution_count": 0,
      "outputs": []
    },
    {
      "cell_type": "code",
      "metadata": {
        "id": "eL3qApa8deDC",
        "colab_type": "code",
        "colab": {
          "base_uri": "https://localhost:8080/",
          "height": 34
        },
        "outputId": "6db50f7d-7a51-4546-c36a-13f7a5398a6d"
      },
      "source": [
        "pip install -e git+https://github.com/altair-viz/altair.git"
      ],
      "execution_count": 19,
      "outputs": [
        {
          "output_type": "stream",
          "text": [
            "\u001b[31mERROR: Could not detect requirement name for 'git+https://github.com/altair-viz/altair.git', please specify one with #egg=your_package_name\u001b[0m\n"
          ],
          "name": "stdout"
        }
      ]
    },
    {
      "cell_type": "markdown",
      "metadata": {
        "id": "rcOs4YzgfMrj",
        "colab_type": "text"
      },
      "source": [
        "#**2013**"
      ]
    },
    {
      "cell_type": "code",
      "metadata": {
        "id": "K_tS5GgefwUr",
        "colab_type": "code",
        "colab": {}
      },
      "source": [
        "Weather_url_2013 = \"https://www1.ncdc.noaa.gov/pub/data/swdi/stormevents/csvfiles/StormEvents_details-ftp_v1.0_d2013_c20170519.csv.gz\"\n",
        "#!curl https://www1.ncdc.noaa.gov/pub/data/swdi/stormevents/csvfiles/StormEvents_details-ftp_v1.0_d2013_c20170519.csv.gz"
      ],
      "execution_count": 0,
      "outputs": []
    },
    {
      "cell_type": "code",
      "metadata": {
        "id": "bPmmBIoUf0sz",
        "colab_type": "code",
        "outputId": "7275a594-0966-45a1-8bad-44226ce1a1d6",
        "colab": {
          "base_uri": "https://localhost:8080/",
          "height": 34
        }
      },
      "source": [
        "weather_data_2013 = pd.read_csv(Weather_url_2013)\n",
        "weather_data_2013.shape"
      ],
      "execution_count": 26,
      "outputs": [
        {
          "output_type": "execute_result",
          "data": {
            "text/plain": [
              "(59985, 51)"
            ]
          },
          "metadata": {
            "tags": []
          },
          "execution_count": 26
        }
      ]
    },
    {
      "cell_type": "code",
      "metadata": {
        "id": "gU0mRz5Df4kq",
        "colab_type": "code",
        "outputId": "a68254d8-7ade-452d-ac8c-56b92057e2e1",
        "colab": {
          "base_uri": "https://localhost:8080/",
          "height": 394
        }
      },
      "source": [
        "weather_data_2013.head()"
      ],
      "execution_count": 27,
      "outputs": [
        {
          "output_type": "execute_result",
          "data": {
            "text/html": [
              "<div>\n",
              "<style scoped>\n",
              "    .dataframe tbody tr th:only-of-type {\n",
              "        vertical-align: middle;\n",
              "    }\n",
              "\n",
              "    .dataframe tbody tr th {\n",
              "        vertical-align: top;\n",
              "    }\n",
              "\n",
              "    .dataframe thead th {\n",
              "        text-align: right;\n",
              "    }\n",
              "</style>\n",
              "<table border=\"1\" class=\"dataframe\">\n",
              "  <thead>\n",
              "    <tr style=\"text-align: right;\">\n",
              "      <th></th>\n",
              "      <th>BEGIN_YEARMONTH</th>\n",
              "      <th>BEGIN_DAY</th>\n",
              "      <th>BEGIN_TIME</th>\n",
              "      <th>END_YEARMONTH</th>\n",
              "      <th>END_DAY</th>\n",
              "      <th>END_TIME</th>\n",
              "      <th>EPISODE_ID</th>\n",
              "      <th>EVENT_ID</th>\n",
              "      <th>STATE</th>\n",
              "      <th>STATE_FIPS</th>\n",
              "      <th>YEAR</th>\n",
              "      <th>MONTH_NAME</th>\n",
              "      <th>EVENT_TYPE</th>\n",
              "      <th>CZ_TYPE</th>\n",
              "      <th>CZ_FIPS</th>\n",
              "      <th>CZ_NAME</th>\n",
              "      <th>WFO</th>\n",
              "      <th>BEGIN_DATE_TIME</th>\n",
              "      <th>CZ_TIMEZONE</th>\n",
              "      <th>END_DATE_TIME</th>\n",
              "      <th>INJURIES_DIRECT</th>\n",
              "      <th>INJURIES_INDIRECT</th>\n",
              "      <th>DEATHS_DIRECT</th>\n",
              "      <th>DEATHS_INDIRECT</th>\n",
              "      <th>DAMAGE_PROPERTY</th>\n",
              "      <th>DAMAGE_CROPS</th>\n",
              "      <th>SOURCE</th>\n",
              "      <th>MAGNITUDE</th>\n",
              "      <th>MAGNITUDE_TYPE</th>\n",
              "      <th>FLOOD_CAUSE</th>\n",
              "      <th>CATEGORY</th>\n",
              "      <th>TOR_F_SCALE</th>\n",
              "      <th>TOR_LENGTH</th>\n",
              "      <th>TOR_WIDTH</th>\n",
              "      <th>TOR_OTHER_WFO</th>\n",
              "      <th>TOR_OTHER_CZ_STATE</th>\n",
              "      <th>TOR_OTHER_CZ_FIPS</th>\n",
              "      <th>TOR_OTHER_CZ_NAME</th>\n",
              "      <th>BEGIN_RANGE</th>\n",
              "      <th>BEGIN_AZIMUTH</th>\n",
              "      <th>BEGIN_LOCATION</th>\n",
              "      <th>END_RANGE</th>\n",
              "      <th>END_AZIMUTH</th>\n",
              "      <th>END_LOCATION</th>\n",
              "      <th>BEGIN_LAT</th>\n",
              "      <th>BEGIN_LON</th>\n",
              "      <th>END_LAT</th>\n",
              "      <th>END_LON</th>\n",
              "      <th>EPISODE_NARRATIVE</th>\n",
              "      <th>EVENT_NARRATIVE</th>\n",
              "      <th>DATA_SOURCE</th>\n",
              "    </tr>\n",
              "  </thead>\n",
              "  <tbody>\n",
              "    <tr>\n",
              "      <th>0</th>\n",
              "      <td>201302</td>\n",
              "      <td>23</td>\n",
              "      <td>1900</td>\n",
              "      <td>201302</td>\n",
              "      <td>25</td>\n",
              "      <td>400</td>\n",
              "      <td>71313</td>\n",
              "      <td>436163</td>\n",
              "      <td>NEW HAMPSHIRE</td>\n",
              "      <td>33</td>\n",
              "      <td>2013</td>\n",
              "      <td>February</td>\n",
              "      <td>Winter Weather</td>\n",
              "      <td>Z</td>\n",
              "      <td>12</td>\n",
              "      <td>EASTERN HILLSBOROUGH</td>\n",
              "      <td>BOX</td>\n",
              "      <td>23-FEB-13 19:00:00</td>\n",
              "      <td>EST-5</td>\n",
              "      <td>25-FEB-13 04:00:00</td>\n",
              "      <td>0</td>\n",
              "      <td>0</td>\n",
              "      <td>0</td>\n",
              "      <td>0</td>\n",
              "      <td>0.00K</td>\n",
              "      <td>0.00K</td>\n",
              "      <td>NWS Employee</td>\n",
              "      <td>NaN</td>\n",
              "      <td>NaN</td>\n",
              "      <td>NaN</td>\n",
              "      <td>NaN</td>\n",
              "      <td>NaN</td>\n",
              "      <td>NaN</td>\n",
              "      <td>NaN</td>\n",
              "      <td>NaN</td>\n",
              "      <td>NaN</td>\n",
              "      <td>NaN</td>\n",
              "      <td>NaN</td>\n",
              "      <td>NaN</td>\n",
              "      <td>NaN</td>\n",
              "      <td>NaN</td>\n",
              "      <td>NaN</td>\n",
              "      <td>NaN</td>\n",
              "      <td>NaN</td>\n",
              "      <td>NaN</td>\n",
              "      <td>NaN</td>\n",
              "      <td>NaN</td>\n",
              "      <td>NaN</td>\n",
              "      <td>A coastal low moved southeast of southern New ...</td>\n",
              "      <td>Three to five inches of snow fell across easte...</td>\n",
              "      <td>CSV</td>\n",
              "    </tr>\n",
              "    <tr>\n",
              "      <th>1</th>\n",
              "      <td>201312</td>\n",
              "      <td>14</td>\n",
              "      <td>2100</td>\n",
              "      <td>201312</td>\n",
              "      <td>15</td>\n",
              "      <td>1300</td>\n",
              "      <td>81847</td>\n",
              "      <td>491388</td>\n",
              "      <td>NEW HAMPSHIRE</td>\n",
              "      <td>33</td>\n",
              "      <td>2013</td>\n",
              "      <td>December</td>\n",
              "      <td>Heavy Snow</td>\n",
              "      <td>Z</td>\n",
              "      <td>12</td>\n",
              "      <td>EASTERN HILLSBOROUGH</td>\n",
              "      <td>BOX</td>\n",
              "      <td>14-DEC-13 21:00:00</td>\n",
              "      <td>EST-5</td>\n",
              "      <td>15-DEC-13 13:00:00</td>\n",
              "      <td>0</td>\n",
              "      <td>0</td>\n",
              "      <td>0</td>\n",
              "      <td>0</td>\n",
              "      <td>0.00K</td>\n",
              "      <td>0.00K</td>\n",
              "      <td>Trained Spotter</td>\n",
              "      <td>NaN</td>\n",
              "      <td>NaN</td>\n",
              "      <td>NaN</td>\n",
              "      <td>NaN</td>\n",
              "      <td>NaN</td>\n",
              "      <td>NaN</td>\n",
              "      <td>NaN</td>\n",
              "      <td>NaN</td>\n",
              "      <td>NaN</td>\n",
              "      <td>NaN</td>\n",
              "      <td>NaN</td>\n",
              "      <td>NaN</td>\n",
              "      <td>NaN</td>\n",
              "      <td>NaN</td>\n",
              "      <td>NaN</td>\n",
              "      <td>NaN</td>\n",
              "      <td>NaN</td>\n",
              "      <td>NaN</td>\n",
              "      <td>NaN</td>\n",
              "      <td>NaN</td>\n",
              "      <td>NaN</td>\n",
              "      <td>Low pressure moved out of the midwest, off the...</td>\n",
              "      <td>Eight to nine inches of snow fell across easte...</td>\n",
              "      <td>CSV</td>\n",
              "    </tr>\n",
              "    <tr>\n",
              "      <th>2</th>\n",
              "      <td>201303</td>\n",
              "      <td>7</td>\n",
              "      <td>1500</td>\n",
              "      <td>201303</td>\n",
              "      <td>9</td>\n",
              "      <td>900</td>\n",
              "      <td>72356</td>\n",
              "      <td>440167</td>\n",
              "      <td>NEW HAMPSHIRE</td>\n",
              "      <td>33</td>\n",
              "      <td>2013</td>\n",
              "      <td>March</td>\n",
              "      <td>Heavy Snow</td>\n",
              "      <td>Z</td>\n",
              "      <td>12</td>\n",
              "      <td>EASTERN HILLSBOROUGH</td>\n",
              "      <td>BOX</td>\n",
              "      <td>07-MAR-13 15:00:00</td>\n",
              "      <td>EST-5</td>\n",
              "      <td>09-MAR-13 09:00:00</td>\n",
              "      <td>0</td>\n",
              "      <td>0</td>\n",
              "      <td>0</td>\n",
              "      <td>0</td>\n",
              "      <td>0.00K</td>\n",
              "      <td>0.00K</td>\n",
              "      <td>COOP Observer</td>\n",
              "      <td>NaN</td>\n",
              "      <td>NaN</td>\n",
              "      <td>NaN</td>\n",
              "      <td>NaN</td>\n",
              "      <td>NaN</td>\n",
              "      <td>NaN</td>\n",
              "      <td>NaN</td>\n",
              "      <td>NaN</td>\n",
              "      <td>NaN</td>\n",
              "      <td>NaN</td>\n",
              "      <td>NaN</td>\n",
              "      <td>NaN</td>\n",
              "      <td>NaN</td>\n",
              "      <td>NaN</td>\n",
              "      <td>NaN</td>\n",
              "      <td>NaN</td>\n",
              "      <td>NaN</td>\n",
              "      <td>NaN</td>\n",
              "      <td>NaN</td>\n",
              "      <td>NaN</td>\n",
              "      <td>NaN</td>\n",
              "      <td>This storm brought heavy snow and significant ...</td>\n",
              "      <td>Five to sixteen inches of snow fell across eas...</td>\n",
              "      <td>CSV</td>\n",
              "    </tr>\n",
              "    <tr>\n",
              "      <th>3</th>\n",
              "      <td>201310</td>\n",
              "      <td>7</td>\n",
              "      <td>1830</td>\n",
              "      <td>201310</td>\n",
              "      <td>7</td>\n",
              "      <td>1830</td>\n",
              "      <td>78671</td>\n",
              "      <td>473492</td>\n",
              "      <td>NEW HAMPSHIRE</td>\n",
              "      <td>33</td>\n",
              "      <td>2013</td>\n",
              "      <td>October</td>\n",
              "      <td>Strong Wind</td>\n",
              "      <td>Z</td>\n",
              "      <td>12</td>\n",
              "      <td>EASTERN HILLSBOROUGH</td>\n",
              "      <td>BOX</td>\n",
              "      <td>07-OCT-13 18:30:00</td>\n",
              "      <td>EST-5</td>\n",
              "      <td>07-OCT-13 18:30:00</td>\n",
              "      <td>0</td>\n",
              "      <td>0</td>\n",
              "      <td>0</td>\n",
              "      <td>0</td>\n",
              "      <td>3.00K</td>\n",
              "      <td>0.00K</td>\n",
              "      <td>Amateur Radio</td>\n",
              "      <td>40.0</td>\n",
              "      <td>EG</td>\n",
              "      <td>NaN</td>\n",
              "      <td>NaN</td>\n",
              "      <td>NaN</td>\n",
              "      <td>NaN</td>\n",
              "      <td>NaN</td>\n",
              "      <td>NaN</td>\n",
              "      <td>NaN</td>\n",
              "      <td>NaN</td>\n",
              "      <td>NaN</td>\n",
              "      <td>NaN</td>\n",
              "      <td>NaN</td>\n",
              "      <td>NaN</td>\n",
              "      <td>NaN</td>\n",
              "      <td>NaN</td>\n",
              "      <td>NaN</td>\n",
              "      <td>NaN</td>\n",
              "      <td>NaN</td>\n",
              "      <td>NaN</td>\n",
              "      <td>NaN</td>\n",
              "      <td>A warm front moved northward across southern N...</td>\n",
              "      <td>A tree on Harbor Avenue was downed.</td>\n",
              "      <td>CSV</td>\n",
              "    </tr>\n",
              "    <tr>\n",
              "      <th>4</th>\n",
              "      <td>201302</td>\n",
              "      <td>8</td>\n",
              "      <td>1500</td>\n",
              "      <td>201302</td>\n",
              "      <td>9</td>\n",
              "      <td>1700</td>\n",
              "      <td>71943</td>\n",
              "      <td>435880</td>\n",
              "      <td>NEW HAMPSHIRE</td>\n",
              "      <td>33</td>\n",
              "      <td>2013</td>\n",
              "      <td>February</td>\n",
              "      <td>Heavy Snow</td>\n",
              "      <td>Z</td>\n",
              "      <td>12</td>\n",
              "      <td>EASTERN HILLSBOROUGH</td>\n",
              "      <td>BOX</td>\n",
              "      <td>08-FEB-13 15:00:00</td>\n",
              "      <td>EST-5</td>\n",
              "      <td>09-FEB-13 17:00:00</td>\n",
              "      <td>0</td>\n",
              "      <td>0</td>\n",
              "      <td>0</td>\n",
              "      <td>0</td>\n",
              "      <td>0.00K</td>\n",
              "      <td>0.00K</td>\n",
              "      <td>Amateur Radio</td>\n",
              "      <td>NaN</td>\n",
              "      <td>NaN</td>\n",
              "      <td>NaN</td>\n",
              "      <td>NaN</td>\n",
              "      <td>NaN</td>\n",
              "      <td>NaN</td>\n",
              "      <td>NaN</td>\n",
              "      <td>NaN</td>\n",
              "      <td>NaN</td>\n",
              "      <td>NaN</td>\n",
              "      <td>NaN</td>\n",
              "      <td>NaN</td>\n",
              "      <td>NaN</td>\n",
              "      <td>NaN</td>\n",
              "      <td>NaN</td>\n",
              "      <td>NaN</td>\n",
              "      <td>NaN</td>\n",
              "      <td>NaN</td>\n",
              "      <td>NaN</td>\n",
              "      <td>NaN</td>\n",
              "      <td>NaN</td>\n",
              "      <td>An historic winter storm deposited tremendous ...</td>\n",
              "      <td>Sixteen to twenty-four inches of snow fell acr...</td>\n",
              "      <td>CSV</td>\n",
              "    </tr>\n",
              "  </tbody>\n",
              "</table>\n",
              "</div>"
            ],
            "text/plain": [
              "   BEGIN_YEARMONTH  ...  DATA_SOURCE\n",
              "0           201302  ...          CSV\n",
              "1           201312  ...          CSV\n",
              "2           201303  ...          CSV\n",
              "3           201310  ...          CSV\n",
              "4           201302  ...          CSV\n",
              "\n",
              "[5 rows x 51 columns]"
            ]
          },
          "metadata": {
            "tags": []
          },
          "execution_count": 27
        }
      ]
    },
    {
      "cell_type": "code",
      "metadata": {
        "id": "h4Uk_7Fuf7Wa",
        "colab_type": "code",
        "colab": {}
      },
      "source": [
        "dfweather_data_2013 = weather_data_2013[['STATE','DAMAGE_PROPERTY']].copy()"
      ],
      "execution_count": 0,
      "outputs": []
    },
    {
      "cell_type": "code",
      "metadata": {
        "id": "5Cw-4rwggFGi",
        "colab_type": "code",
        "colab": {}
      },
      "source": [
        "#dropping NaN values\n",
        "dfweather_data_2013 = dfweather_data_2013.dropna()"
      ],
      "execution_count": 0,
      "outputs": []
    },
    {
      "cell_type": "code",
      "metadata": {
        "id": "_sp94eYugSmF",
        "colab_type": "code",
        "colab": {}
      },
      "source": [
        "#look at https://stackoverflow.com/questions/39684548/convert-the-string-2-90k-to-2900-or-5-2m-to-5200000-in-pandas-dataframe\n",
        "DAMAGE_PROPERTY_2013 = dfweather_data_2013['DAMAGE_PROPERTY'].replace({'K': '*1e3', 'M': '*1e6', 'B': '1e9'}, regex=True).map(pd.eval).astype(int)"
      ],
      "execution_count": 0,
      "outputs": []
    },
    {
      "cell_type": "code",
      "metadata": {
        "id": "znV9fSbjgZ3B",
        "colab_type": "code",
        "colab": {}
      },
      "source": [
        "dfweather_data_2013['DAMAGE_PROPERTY'] = DAMAGE_PROPERTY_2013"
      ],
      "execution_count": 0,
      "outputs": []
    },
    {
      "cell_type": "markdown",
      "metadata": {
        "id": "nWHXgn-UJRxo",
        "colab_type": "text"
      },
      "source": [
        "**State Totals**"
      ]
    },
    {
      "cell_type": "code",
      "metadata": {
        "id": "km1hN_SbBDmw",
        "colab_type": "code",
        "colab": {}
      },
      "source": [
        "#adds together the state totals\n",
        "newdf2013 = dfweather_data_2013.groupby(['STATE'], as_index=False).sum()\n"
      ],
      "execution_count": 0,
      "outputs": []
    },
    {
      "cell_type": "code",
      "metadata": {
        "id": "-STf-NPSDEx7",
        "colab_type": "code",
        "outputId": "9ac1bfdc-83d1-4a56-9605-f38b20072d05",
        "colab": {
          "base_uri": "https://localhost:8080/",
          "height": 204
        }
      },
      "source": [
        "#creates a new dataframe\n",
        "df2013 = pd.DataFrame(newdf2013)\n",
        "df2013.head()"
      ],
      "execution_count": 33,
      "outputs": [
        {
          "output_type": "execute_result",
          "data": {
            "text/html": [
              "<div>\n",
              "<style scoped>\n",
              "    .dataframe tbody tr th:only-of-type {\n",
              "        vertical-align: middle;\n",
              "    }\n",
              "\n",
              "    .dataframe tbody tr th {\n",
              "        vertical-align: top;\n",
              "    }\n",
              "\n",
              "    .dataframe thead th {\n",
              "        text-align: right;\n",
              "    }\n",
              "</style>\n",
              "<table border=\"1\" class=\"dataframe\">\n",
              "  <thead>\n",
              "    <tr style=\"text-align: right;\">\n",
              "      <th></th>\n",
              "      <th>STATE</th>\n",
              "      <th>DAMAGE_PROPERTY</th>\n",
              "    </tr>\n",
              "  </thead>\n",
              "  <tbody>\n",
              "    <tr>\n",
              "      <th>0</th>\n",
              "      <td>ALABAMA</td>\n",
              "      <td>8394450</td>\n",
              "    </tr>\n",
              "    <tr>\n",
              "      <th>1</th>\n",
              "      <td>ALASKA</td>\n",
              "      <td>30415600</td>\n",
              "    </tr>\n",
              "    <tr>\n",
              "      <th>2</th>\n",
              "      <td>AMERICAN SAMOA</td>\n",
              "      <td>0</td>\n",
              "    </tr>\n",
              "    <tr>\n",
              "      <th>3</th>\n",
              "      <td>ARIZONA</td>\n",
              "      <td>154201200</td>\n",
              "    </tr>\n",
              "    <tr>\n",
              "      <th>4</th>\n",
              "      <td>ARKANSAS</td>\n",
              "      <td>72299100</td>\n",
              "    </tr>\n",
              "  </tbody>\n",
              "</table>\n",
              "</div>"
            ],
            "text/plain": [
              "            STATE  DAMAGE_PROPERTY\n",
              "0         ALABAMA          8394450\n",
              "1          ALASKA         30415600\n",
              "2  AMERICAN SAMOA                0\n",
              "3         ARIZONA        154201200\n",
              "4        ARKANSAS         72299100"
            ]
          },
          "metadata": {
            "tags": []
          },
          "execution_count": 33
        }
      ]
    },
    {
      "cell_type": "markdown",
      "metadata": {
        "id": "d--CAlbWJjeb",
        "colab_type": "text"
      },
      "source": [
        "**Plots**"
      ]
    },
    {
      "cell_type": "code",
      "metadata": {
        "id": "-ERa5t3SJjFR",
        "colab_type": "code",
        "outputId": "7f0c53ac-26fa-4f2c-a5c8-385434ed9c63",
        "colab": {
          "base_uri": "https://localhost:8080/",
          "height": 419
        }
      },
      "source": [
        "df2013.sort_values(by='DAMAGE_PROPERTY', ascending=False)"
      ],
      "execution_count": 0,
      "outputs": [
        {
          "output_type": "execute_result",
          "data": {
            "text/html": [
              "<div>\n",
              "<style scoped>\n",
              "    .dataframe tbody tr th:only-of-type {\n",
              "        vertical-align: middle;\n",
              "    }\n",
              "\n",
              "    .dataframe tbody tr th {\n",
              "        vertical-align: top;\n",
              "    }\n",
              "\n",
              "    .dataframe thead th {\n",
              "        text-align: right;\n",
              "    }\n",
              "</style>\n",
              "<table border=\"1\" class=\"dataframe\">\n",
              "  <thead>\n",
              "    <tr style=\"text-align: right;\">\n",
              "      <th></th>\n",
              "      <th>STATE</th>\n",
              "      <th>DAMAGE_PROPERTY</th>\n",
              "    </tr>\n",
              "  </thead>\n",
              "  <tbody>\n",
              "    <tr>\n",
              "      <th>48</th>\n",
              "      <td>OKLAHOMA</td>\n",
              "      <td>2023424300</td>\n",
              "    </tr>\n",
              "    <tr>\n",
              "      <th>20</th>\n",
              "      <td>ILLINOIS</td>\n",
              "      <td>1562382000</td>\n",
              "    </tr>\n",
              "    <tr>\n",
              "      <th>56</th>\n",
              "      <td>TEXAS</td>\n",
              "      <td>1410698000</td>\n",
              "    </tr>\n",
              "    <tr>\n",
              "      <th>8</th>\n",
              "      <td>COLORADO</td>\n",
              "      <td>1003891750</td>\n",
              "    </tr>\n",
              "    <tr>\n",
              "      <th>36</th>\n",
              "      <td>MISSISSIPPI</td>\n",
              "      <td>609917000</td>\n",
              "    </tr>\n",
              "    <tr>\n",
              "      <th>...</th>\n",
              "      <td>...</td>\n",
              "      <td>...</td>\n",
              "    </tr>\n",
              "    <tr>\n",
              "      <th>12</th>\n",
              "      <td>E PACIFIC</td>\n",
              "      <td>0</td>\n",
              "    </tr>\n",
              "    <tr>\n",
              "      <th>27</th>\n",
              "      <td>LAKE MICHIGAN</td>\n",
              "      <td>0</td>\n",
              "    </tr>\n",
              "    <tr>\n",
              "      <th>28</th>\n",
              "      <td>LAKE ST CLAIR</td>\n",
              "      <td>0</td>\n",
              "    </tr>\n",
              "    <tr>\n",
              "      <th>29</th>\n",
              "      <td>LAKE SUPERIOR</td>\n",
              "      <td>0</td>\n",
              "    </tr>\n",
              "    <tr>\n",
              "      <th>2</th>\n",
              "      <td>AMERICAN SAMOA</td>\n",
              "      <td>0</td>\n",
              "    </tr>\n",
              "  </tbody>\n",
              "</table>\n",
              "<p>65 rows × 2 columns</p>\n",
              "</div>"
            ],
            "text/plain": [
              "             STATE  DAMAGE_PROPERTY\n",
              "48        OKLAHOMA       2023424300\n",
              "20        ILLINOIS       1562382000\n",
              "56           TEXAS       1410698000\n",
              "8         COLORADO       1003891750\n",
              "36     MISSISSIPPI        609917000\n",
              "..             ...              ...\n",
              "12       E PACIFIC                0\n",
              "27   LAKE MICHIGAN                0\n",
              "28   LAKE ST CLAIR                0\n",
              "29   LAKE SUPERIOR                0\n",
              "2   AMERICAN SAMOA                0\n",
              "\n",
              "[65 rows x 2 columns]"
            ]
          },
          "metadata": {
            "tags": []
          },
          "execution_count": 271
        }
      ]
    },
    {
      "cell_type": "code",
      "metadata": {
        "id": "a7tSpqZy0j6u",
        "colab_type": "code",
        "colab": {}
      },
      "source": [
        "states = {\n",
        "        'AK': 'Alaska',\n",
        "        'AL': 'Alabama',\n",
        "        'AR': 'Arkansas',\n",
        "        'AS': 'American Samoa',\n",
        "        'AZ': 'Arizona',\n",
        "        'CA': 'California',\n",
        "        'CO': 'Colorado',\n",
        "        'CT': 'Connecticut',\n",
        "        'DC': 'District of Columbia',\n",
        "        'DE': 'Delaware',\n",
        "        'FL': 'Florida',\n",
        "        'GA': 'Georgia',\n",
        "        'GU': 'Guam',\n",
        "        'HI': 'Hawaii',\n",
        "        'IA': 'Iowa',\n",
        "        'ID': 'Idaho',\n",
        "        'IL': 'Illinois',\n",
        "        'IN': 'Indiana',\n",
        "        'KS': 'Kansas',\n",
        "        'KY': 'Kentucky',\n",
        "        'LA': 'Louisiana',\n",
        "        'MA': 'Massachusetts',\n",
        "        'MD': 'Maryland',\n",
        "        'ME': 'Maine',\n",
        "        'MI': 'Michigan',\n",
        "        'MN': 'Minnesota',\n",
        "        'MO': 'Missouri',\n",
        "        'MP': 'Northern Mariana Islands',\n",
        "        'MS': 'Mississippi',\n",
        "        'MT': 'Montana',\n",
        "        'NA': 'National',\n",
        "        'NC': 'North Carolina',\n",
        "        'ND': 'North Dakota',\n",
        "        'NE': 'Nebraska',\n",
        "        'NH': 'New Hampshire',\n",
        "        'NJ': 'New Jersey',\n",
        "        'NM': 'New Mexico',\n",
        "        'NV': 'Nevada',\n",
        "        'NY': 'New York',\n",
        "        'OH': 'Ohio',\n",
        "        'OK': 'Oklahoma',\n",
        "        'OR': 'Oregon',\n",
        "        'PA': 'Pennsylvania',\n",
        "        'PR': 'Puerto Rico',\n",
        "        'RI': 'Rhode Island',\n",
        "        'SC': 'South Carolina',\n",
        "        'SD': 'South Dakota',\n",
        "        'TN': 'Tennessee',\n",
        "        'TX': 'Texas',\n",
        "        'UT': 'Utah',\n",
        "        'VA': 'Virginia',\n",
        "        'VI': 'Virgin Islands',\n",
        "        'VT': 'Vermont',\n",
        "        'WA': 'Washington',\n",
        "        'WI': 'Wisconsin',\n",
        "        'WV': 'West Virginia',\n",
        "        'WY': 'Wyoming'\n",
        "}\n"
      ],
      "execution_count": 0,
      "outputs": []
    },
    {
      "cell_type": "code",
      "metadata": {
        "id": "JBZq2q0ZNpuJ",
        "colab_type": "code",
        "colab": {}
      },
      "source": [
        "mycolumn='DAMAGE_PROPERTY'\n",
        "myheading1 = f\"Wow! That's a lot of {mycolumn}!\"\n",
        "mygraphtitle = '2013 US Storm Damage Cost by State'\n",
        "mycolorscale = 'ylorrd' # Note: The error message will list possible color scales.\n",
        "mycolorbartitle = \"USD Currency\""
      ],
      "execution_count": 0,
      "outputs": []
    },
    {
      "cell_type": "code",
      "metadata": {
        "id": "jVA5wLJ_OARa",
        "colab_type": "code",
        "outputId": "e71f1843-4868-4d3a-c0bc-7bdd253c950f",
        "colab": {
          "base_uri": "https://localhost:8080/",
          "height": 817
        }
      },
      "source": [
        "fig = go.Figure(data=go.Choropleth(\n",
        "    locations=df2013['STATE'], # Spatial coordinates\n",
        "    z = df2013[mycolumn].astype(float), # Data to be color-coded\n",
        "    locationmode = 'USA-states', # set of locations match entries in `locations`\n",
        "    colorscale = mycolorscale,\n",
        "    colorbar_title = mycolorbartitle,\n",
        "))\n",
        "\n",
        "fig.update_layout(\n",
        "    title_text = mygraphtitle,\n",
        "    geo_scope='usa',\n",
        "    width=1200,\n",
        "    height=800\n",
        ")\n",
        "fig.show()"
      ],
      "execution_count": 0,
      "outputs": [
        {
          "output_type": "display_data",
          "data": {
            "text/html": [
              "<div>\n",
              "        \n",
              "        \n",
              "            <div id=\"72319ccf-5173-4394-8600-cb360a37747f\" class=\"plotly-graph-div\" style=\"height:800px; width:1200px;\"></div>\n",
              "            <script type=\"text/javascript\">\n",
              "                require([\"plotly\"], function(Plotly) {\n",
              "                    window.PLOTLYENV=window.PLOTLYENV || {};\n",
              "                    \n",
              "                if (document.getElementById(\"72319ccf-5173-4394-8600-cb360a37747f\")) {\n",
              "                    Plotly.newPlot(\n",
              "                        '72319ccf-5173-4394-8600-cb360a37747f',\n",
              "                        [{\"colorbar\": {\"title\": {\"text\": \"USD Currency\"}}, \"colorscale\": [[0.0, \"rgb(255,255,204)\"], [0.125, \"rgb(255,237,160)\"], [0.25, \"rgb(254,217,118)\"], [0.375, \"rgb(254,178,76)\"], [0.5, \"rgb(253,141,60)\"], [0.625, \"rgb(252,78,42)\"], [0.75, \"rgb(227,26,28)\"], [0.875, \"rgb(189,0,38)\"], [1.0, \"rgb(128,0,38)\"]], \"locationmode\": \"USA-states\", \"locations\": [\"ALABAMA\", \"ALASKA\", \"AMERICAN SAMOA\", \"ARIZONA\", \"ARKANSAS\", \"ATLANTIC NORTH\", \"ATLANTIC SOUTH\", \"CALIFORNIA\", \"COLORADO\", \"CONNECTICUT\", \"DELAWARE\", \"DISTRICT OF COLUMBIA\", \"E PACIFIC\", \"FLORIDA\", \"GEORGIA\", \"GUAM\", \"GULF OF MEXICO\", \"HAWAII\", \"HAWAII WATERS\", \"IDAHO\", \"ILLINOIS\", \"INDIANA\", \"IOWA\", \"KANSAS\", \"KENTUCKY\", \"LAKE ERIE\", \"LAKE HURON\", \"LAKE MICHIGAN\", \"LAKE ST CLAIR\", \"LAKE SUPERIOR\", \"LOUISIANA\", \"MAINE\", \"MARYLAND\", \"MASSACHUSETTS\", \"MICHIGAN\", \"MINNESOTA\", \"MISSISSIPPI\", \"MISSOURI\", \"MONTANA\", \"NEBRASKA\", \"NEVADA\", \"NEW HAMPSHIRE\", \"NEW JERSEY\", \"NEW MEXICO\", \"NEW YORK\", \"NORTH CAROLINA\", \"NORTH DAKOTA\", \"OHIO\", \"OKLAHOMA\", \"OREGON\", \"PENNSYLVANIA\", \"PUERTO RICO\", \"RHODE ISLAND\", \"SOUTH CAROLINA\", \"SOUTH DAKOTA\", \"TENNESSEE\", \"TEXAS\", \"UTAH\", \"VERMONT\", \"VIRGIN ISLANDS\", \"VIRGINIA\", \"WASHINGTON\", \"WEST VIRGINIA\", \"WISCONSIN\", \"WYOMING\"], \"type\": \"choropleth\", \"z\": [8394450.0, 30415600.0, 0.0, 154201200.0, 72299100.0, 5500.0, 4000.0, 87660500.0, 1003891750.0, 5757500.0, 410000.0, 2000.0, 0.0, 64192000.0, 151231220.0, 20860000.0, 12404000.0, 114500.0, 0.0, 3430700.0, 1562382000.0, 6276600.0, 112032700.0, 39914750.0, 15895500.0, 0.0, 0.0, 0.0, 0.0, 0.0, 268151300.0, 3656500.0, 444500.0, 30760900.0, 197171500.0, 112088200.0, 609917000.0, 95535500.0, 1197600.0, 43769000.0, 17693100.0, 11251500.0, 3799750.0, 20613300.0, 65748000.0, 48276450.0, 12841000.0, 74367000.0, 2023424300.0, 8926000.0, 24947250.0, 127900.0, 1981000.0, 18369000.0, 153441500.0, 92006000.0, 1410698000.0, 5766200.0, 13455500.0, 22600.0, 7510250.0, 12839030.0, 9586250.0, 47620600.0, 18609000.0]}],\n",
              "                        {\"geo\": {\"scope\": \"usa\"}, \"height\": 800, \"template\": {\"data\": {\"bar\": [{\"error_x\": {\"color\": \"#2a3f5f\"}, \"error_y\": {\"color\": \"#2a3f5f\"}, \"marker\": {\"line\": {\"color\": \"#E5ECF6\", \"width\": 0.5}}, \"type\": \"bar\"}], \"barpolar\": [{\"marker\": {\"line\": {\"color\": \"#E5ECF6\", \"width\": 0.5}}, \"type\": \"barpolar\"}], \"carpet\": [{\"aaxis\": {\"endlinecolor\": \"#2a3f5f\", \"gridcolor\": \"white\", \"linecolor\": \"white\", \"minorgridcolor\": \"white\", \"startlinecolor\": \"#2a3f5f\"}, \"baxis\": {\"endlinecolor\": \"#2a3f5f\", \"gridcolor\": \"white\", \"linecolor\": \"white\", \"minorgridcolor\": \"white\", \"startlinecolor\": \"#2a3f5f\"}, \"type\": \"carpet\"}], \"choropleth\": [{\"colorbar\": {\"outlinewidth\": 0, \"ticks\": \"\"}, \"type\": \"choropleth\"}], \"contour\": [{\"colorbar\": {\"outlinewidth\": 0, \"ticks\": \"\"}, \"colorscale\": [[0.0, \"#0d0887\"], [0.1111111111111111, \"#46039f\"], [0.2222222222222222, \"#7201a8\"], [0.3333333333333333, \"#9c179e\"], [0.4444444444444444, \"#bd3786\"], [0.5555555555555556, \"#d8576b\"], [0.6666666666666666, \"#ed7953\"], [0.7777777777777778, \"#fb9f3a\"], [0.8888888888888888, \"#fdca26\"], [1.0, \"#f0f921\"]], \"type\": \"contour\"}], \"contourcarpet\": [{\"colorbar\": {\"outlinewidth\": 0, \"ticks\": \"\"}, \"type\": \"contourcarpet\"}], \"heatmap\": [{\"colorbar\": {\"outlinewidth\": 0, \"ticks\": \"\"}, \"colorscale\": [[0.0, \"#0d0887\"], [0.1111111111111111, \"#46039f\"], [0.2222222222222222, \"#7201a8\"], [0.3333333333333333, \"#9c179e\"], [0.4444444444444444, \"#bd3786\"], [0.5555555555555556, \"#d8576b\"], [0.6666666666666666, \"#ed7953\"], [0.7777777777777778, \"#fb9f3a\"], [0.8888888888888888, \"#fdca26\"], [1.0, \"#f0f921\"]], \"type\": \"heatmap\"}], \"heatmapgl\": [{\"colorbar\": {\"outlinewidth\": 0, \"ticks\": \"\"}, \"colorscale\": [[0.0, \"#0d0887\"], [0.1111111111111111, \"#46039f\"], [0.2222222222222222, \"#7201a8\"], [0.3333333333333333, \"#9c179e\"], [0.4444444444444444, \"#bd3786\"], [0.5555555555555556, \"#d8576b\"], [0.6666666666666666, \"#ed7953\"], [0.7777777777777778, \"#fb9f3a\"], [0.8888888888888888, \"#fdca26\"], [1.0, \"#f0f921\"]], \"type\": \"heatmapgl\"}], \"histogram\": [{\"marker\": {\"colorbar\": {\"outlinewidth\": 0, \"ticks\": \"\"}}, \"type\": \"histogram\"}], \"histogram2d\": [{\"colorbar\": {\"outlinewidth\": 0, \"ticks\": \"\"}, \"colorscale\": [[0.0, \"#0d0887\"], [0.1111111111111111, \"#46039f\"], [0.2222222222222222, \"#7201a8\"], [0.3333333333333333, \"#9c179e\"], [0.4444444444444444, \"#bd3786\"], [0.5555555555555556, \"#d8576b\"], [0.6666666666666666, \"#ed7953\"], [0.7777777777777778, \"#fb9f3a\"], [0.8888888888888888, \"#fdca26\"], [1.0, \"#f0f921\"]], \"type\": \"histogram2d\"}], \"histogram2dcontour\": [{\"colorbar\": {\"outlinewidth\": 0, \"ticks\": \"\"}, \"colorscale\": [[0.0, \"#0d0887\"], [0.1111111111111111, \"#46039f\"], [0.2222222222222222, \"#7201a8\"], [0.3333333333333333, \"#9c179e\"], [0.4444444444444444, \"#bd3786\"], [0.5555555555555556, \"#d8576b\"], [0.6666666666666666, \"#ed7953\"], [0.7777777777777778, \"#fb9f3a\"], [0.8888888888888888, \"#fdca26\"], [1.0, \"#f0f921\"]], \"type\": \"histogram2dcontour\"}], \"mesh3d\": [{\"colorbar\": {\"outlinewidth\": 0, \"ticks\": \"\"}, \"type\": \"mesh3d\"}], \"parcoords\": [{\"line\": {\"colorbar\": {\"outlinewidth\": 0, \"ticks\": \"\"}}, \"type\": \"parcoords\"}], \"pie\": [{\"automargin\": true, \"type\": \"pie\"}], \"scatter\": [{\"marker\": {\"colorbar\": {\"outlinewidth\": 0, \"ticks\": \"\"}}, \"type\": \"scatter\"}], \"scatter3d\": [{\"line\": {\"colorbar\": {\"outlinewidth\": 0, \"ticks\": \"\"}}, \"marker\": {\"colorbar\": {\"outlinewidth\": 0, \"ticks\": \"\"}}, \"type\": \"scatter3d\"}], \"scattercarpet\": [{\"marker\": {\"colorbar\": {\"outlinewidth\": 0, \"ticks\": \"\"}}, \"type\": \"scattercarpet\"}], \"scattergeo\": [{\"marker\": {\"colorbar\": {\"outlinewidth\": 0, \"ticks\": \"\"}}, \"type\": \"scattergeo\"}], \"scattergl\": [{\"marker\": {\"colorbar\": {\"outlinewidth\": 0, \"ticks\": \"\"}}, \"type\": \"scattergl\"}], \"scattermapbox\": [{\"marker\": {\"colorbar\": {\"outlinewidth\": 0, \"ticks\": \"\"}}, \"type\": \"scattermapbox\"}], \"scatterpolar\": [{\"marker\": {\"colorbar\": {\"outlinewidth\": 0, \"ticks\": \"\"}}, \"type\": \"scatterpolar\"}], \"scatterpolargl\": [{\"marker\": {\"colorbar\": {\"outlinewidth\": 0, \"ticks\": \"\"}}, \"type\": \"scatterpolargl\"}], \"scatterternary\": [{\"marker\": {\"colorbar\": {\"outlinewidth\": 0, \"ticks\": \"\"}}, \"type\": \"scatterternary\"}], \"surface\": [{\"colorbar\": {\"outlinewidth\": 0, \"ticks\": \"\"}, \"colorscale\": [[0.0, \"#0d0887\"], [0.1111111111111111, \"#46039f\"], [0.2222222222222222, \"#7201a8\"], [0.3333333333333333, \"#9c179e\"], [0.4444444444444444, \"#bd3786\"], [0.5555555555555556, \"#d8576b\"], [0.6666666666666666, \"#ed7953\"], [0.7777777777777778, \"#fb9f3a\"], [0.8888888888888888, \"#fdca26\"], [1.0, \"#f0f921\"]], \"type\": \"surface\"}], \"table\": [{\"cells\": {\"fill\": {\"color\": \"#EBF0F8\"}, \"line\": {\"color\": \"white\"}}, \"header\": {\"fill\": {\"color\": \"#C8D4E3\"}, \"line\": {\"color\": \"white\"}}, \"type\": \"table\"}]}, \"layout\": {\"annotationdefaults\": {\"arrowcolor\": \"#2a3f5f\", \"arrowhead\": 0, \"arrowwidth\": 1}, \"coloraxis\": {\"colorbar\": {\"outlinewidth\": 0, \"ticks\": \"\"}}, \"colorscale\": {\"diverging\": [[0, \"#8e0152\"], [0.1, \"#c51b7d\"], [0.2, \"#de77ae\"], [0.3, \"#f1b6da\"], [0.4, \"#fde0ef\"], [0.5, \"#f7f7f7\"], [0.6, \"#e6f5d0\"], [0.7, \"#b8e186\"], [0.8, \"#7fbc41\"], [0.9, \"#4d9221\"], [1, \"#276419\"]], \"sequential\": [[0.0, \"#0d0887\"], [0.1111111111111111, \"#46039f\"], [0.2222222222222222, \"#7201a8\"], [0.3333333333333333, \"#9c179e\"], [0.4444444444444444, \"#bd3786\"], [0.5555555555555556, \"#d8576b\"], [0.6666666666666666, \"#ed7953\"], [0.7777777777777778, \"#fb9f3a\"], [0.8888888888888888, \"#fdca26\"], [1.0, \"#f0f921\"]], \"sequentialminus\": [[0.0, \"#0d0887\"], [0.1111111111111111, \"#46039f\"], [0.2222222222222222, \"#7201a8\"], [0.3333333333333333, \"#9c179e\"], [0.4444444444444444, \"#bd3786\"], [0.5555555555555556, \"#d8576b\"], [0.6666666666666666, \"#ed7953\"], [0.7777777777777778, \"#fb9f3a\"], [0.8888888888888888, \"#fdca26\"], [1.0, \"#f0f921\"]]}, \"colorway\": [\"#636efa\", \"#EF553B\", \"#00cc96\", \"#ab63fa\", \"#FFA15A\", \"#19d3f3\", \"#FF6692\", \"#B6E880\", \"#FF97FF\", \"#FECB52\"], \"font\": {\"color\": \"#2a3f5f\"}, \"geo\": {\"bgcolor\": \"white\", \"lakecolor\": \"white\", \"landcolor\": \"#E5ECF6\", \"showlakes\": true, \"showland\": true, \"subunitcolor\": \"white\"}, \"hoverlabel\": {\"align\": \"left\"}, \"hovermode\": \"closest\", \"mapbox\": {\"style\": \"light\"}, \"paper_bgcolor\": \"white\", \"plot_bgcolor\": \"#E5ECF6\", \"polar\": {\"angularaxis\": {\"gridcolor\": \"white\", \"linecolor\": \"white\", \"ticks\": \"\"}, \"bgcolor\": \"#E5ECF6\", \"radialaxis\": {\"gridcolor\": \"white\", \"linecolor\": \"white\", \"ticks\": \"\"}}, \"scene\": {\"xaxis\": {\"backgroundcolor\": \"#E5ECF6\", \"gridcolor\": \"white\", \"gridwidth\": 2, \"linecolor\": \"white\", \"showbackground\": true, \"ticks\": \"\", \"zerolinecolor\": \"white\"}, \"yaxis\": {\"backgroundcolor\": \"#E5ECF6\", \"gridcolor\": \"white\", \"gridwidth\": 2, \"linecolor\": \"white\", \"showbackground\": true, \"ticks\": \"\", \"zerolinecolor\": \"white\"}, \"zaxis\": {\"backgroundcolor\": \"#E5ECF6\", \"gridcolor\": \"white\", \"gridwidth\": 2, \"linecolor\": \"white\", \"showbackground\": true, \"ticks\": \"\", \"zerolinecolor\": \"white\"}}, \"shapedefaults\": {\"line\": {\"color\": \"#2a3f5f\"}}, \"ternary\": {\"aaxis\": {\"gridcolor\": \"white\", \"linecolor\": \"white\", \"ticks\": \"\"}, \"baxis\": {\"gridcolor\": \"white\", \"linecolor\": \"white\", \"ticks\": \"\"}, \"bgcolor\": \"#E5ECF6\", \"caxis\": {\"gridcolor\": \"white\", \"linecolor\": \"white\", \"ticks\": \"\"}}, \"title\": {\"x\": 0.05}, \"xaxis\": {\"automargin\": true, \"gridcolor\": \"white\", \"linecolor\": \"white\", \"ticks\": \"\", \"title\": {\"standoff\": 15}, \"zerolinecolor\": \"white\", \"zerolinewidth\": 2}, \"yaxis\": {\"automargin\": true, \"gridcolor\": \"white\", \"linecolor\": \"white\", \"ticks\": \"\", \"title\": {\"standoff\": 15}, \"zerolinecolor\": \"white\", \"zerolinewidth\": 2}}}, \"title\": {\"text\": \"2013 US Storm Damage Cost by State\"}, \"width\": 1200},\n",
              "                        {\"responsive\": true}\n",
              "                    ).then(function(){\n",
              "                            \n",
              "var gd = document.getElementById('72319ccf-5173-4394-8600-cb360a37747f');\n",
              "var x = new MutationObserver(function (mutations, observer) {{\n",
              "        var display = window.getComputedStyle(gd).display;\n",
              "        if (!display || display === 'none') {{\n",
              "            console.log([gd, 'removed!']);\n",
              "            Plotly.purge(gd);\n",
              "            observer.disconnect();\n",
              "        }}\n",
              "}});\n",
              "\n",
              "// Listen for the removal of the full notebook cells\n",
              "var notebookContainer = gd.closest('#notebook-container');\n",
              "if (notebookContainer) {{\n",
              "    x.observe(notebookContainer, {childList: true});\n",
              "}}\n",
              "\n",
              "// Listen for the clearing of the current output cell\n",
              "var outputEl = gd.closest('.output');\n",
              "if (outputEl) {{\n",
              "    x.observe(outputEl, {childList: true});\n",
              "}}\n",
              "\n",
              "                        })\n",
              "                };\n",
              "                });\n",
              "            </script>\n",
              "        </div>"
            ],
            "application/vnd.plotly.v1+json": {
              "data": [
                {
                  "colorscale": [
                    [
                      0,
                      "rgb(255,255,204)"
                    ],
                    [
                      0.125,
                      "rgb(255,237,160)"
                    ],
                    [
                      0.25,
                      "rgb(254,217,118)"
                    ],
                    [
                      0.375,
                      "rgb(254,178,76)"
                    ],
                    [
                      0.5,
                      "rgb(253,141,60)"
                    ],
                    [
                      0.625,
                      "rgb(252,78,42)"
                    ],
                    [
                      0.75,
                      "rgb(227,26,28)"
                    ],
                    [
                      0.875,
                      "rgb(189,0,38)"
                    ],
                    [
                      1,
                      "rgb(128,0,38)"
                    ]
                  ],
                  "locationmode": "USA-states",
                  "locations": [
                    "ALABAMA",
                    "ALASKA",
                    "AMERICAN SAMOA",
                    "ARIZONA",
                    "ARKANSAS",
                    "ATLANTIC NORTH",
                    "ATLANTIC SOUTH",
                    "CALIFORNIA",
                    "COLORADO",
                    "CONNECTICUT",
                    "DELAWARE",
                    "DISTRICT OF COLUMBIA",
                    "E PACIFIC",
                    "FLORIDA",
                    "GEORGIA",
                    "GUAM",
                    "GULF OF MEXICO",
                    "HAWAII",
                    "HAWAII WATERS",
                    "IDAHO",
                    "ILLINOIS",
                    "INDIANA",
                    "IOWA",
                    "KANSAS",
                    "KENTUCKY",
                    "LAKE ERIE",
                    "LAKE HURON",
                    "LAKE MICHIGAN",
                    "LAKE ST CLAIR",
                    "LAKE SUPERIOR",
                    "LOUISIANA",
                    "MAINE",
                    "MARYLAND",
                    "MASSACHUSETTS",
                    "MICHIGAN",
                    "MINNESOTA",
                    "MISSISSIPPI",
                    "MISSOURI",
                    "MONTANA",
                    "NEBRASKA",
                    "NEVADA",
                    "NEW HAMPSHIRE",
                    "NEW JERSEY",
                    "NEW MEXICO",
                    "NEW YORK",
                    "NORTH CAROLINA",
                    "NORTH DAKOTA",
                    "OHIO",
                    "OKLAHOMA",
                    "OREGON",
                    "PENNSYLVANIA",
                    "PUERTO RICO",
                    "RHODE ISLAND",
                    "SOUTH CAROLINA",
                    "SOUTH DAKOTA",
                    "TENNESSEE",
                    "TEXAS",
                    "UTAH",
                    "VERMONT",
                    "VIRGIN ISLANDS",
                    "VIRGINIA",
                    "WASHINGTON",
                    "WEST VIRGINIA",
                    "WISCONSIN",
                    "WYOMING"
                  ],
                  "colorbar": {
                    "title": {
                      "text": "USD Currency"
                    }
                  },
                  "z": [
                    8394450,
                    30415600,
                    0,
                    154201200,
                    72299100,
                    5500,
                    4000,
                    87660500,
                    1003891750,
                    5757500,
                    410000,
                    2000,
                    0,
                    64192000,
                    151231220,
                    20860000,
                    12404000,
                    114500,
                    0,
                    3430700,
                    1562382000,
                    6276600,
                    112032700,
                    39914750,
                    15895500,
                    0,
                    0,
                    0,
                    0,
                    0,
                    268151300,
                    3656500,
                    444500,
                    30760900,
                    197171500,
                    112088200,
                    609917000,
                    95535500,
                    1197600,
                    43769000,
                    17693100,
                    11251500,
                    3799750,
                    20613300,
                    65748000,
                    48276450,
                    12841000,
                    74367000,
                    2023424300,
                    8926000,
                    24947250,
                    127900,
                    1981000,
                    18369000,
                    153441500,
                    92006000,
                    1410698000,
                    5766200,
                    13455500,
                    22600,
                    7510250,
                    12839030,
                    9586250,
                    47620600,
                    18609000
                  ],
                  "type": "choropleth"
                }
              ],
              "config": {
                "plotlyServerURL": "https://plot.ly"
              },
              "layout": {
                "width": 1200,
                "title": {
                  "text": "2013 US Storm Damage Cost by State"
                },
                "geo": {
                  "scope": "usa"
                },
                "template": {
                  "layout": {
                    "shapedefaults": {
                      "line": {
                        "color": "#2a3f5f"
                      }
                    },
                    "polar": {
                      "radialaxis": {
                        "ticks": "",
                        "gridcolor": "white",
                        "linecolor": "white"
                      },
                      "bgcolor": "#E5ECF6",
                      "angularaxis": {
                        "ticks": "",
                        "gridcolor": "white",
                        "linecolor": "white"
                      }
                    },
                    "colorway": [
                      "#636efa",
                      "#EF553B",
                      "#00cc96",
                      "#ab63fa",
                      "#FFA15A",
                      "#19d3f3",
                      "#FF6692",
                      "#B6E880",
                      "#FF97FF",
                      "#FECB52"
                    ],
                    "xaxis": {
                      "automargin": true,
                      "title": {
                        "standoff": 15
                      },
                      "zerolinewidth": 2,
                      "ticks": "",
                      "zerolinecolor": "white",
                      "gridcolor": "white",
                      "linecolor": "white"
                    },
                    "colorscale": {
                      "diverging": [
                        [
                          0,
                          "#8e0152"
                        ],
                        [
                          0.1,
                          "#c51b7d"
                        ],
                        [
                          0.2,
                          "#de77ae"
                        ],
                        [
                          0.3,
                          "#f1b6da"
                        ],
                        [
                          0.4,
                          "#fde0ef"
                        ],
                        [
                          0.5,
                          "#f7f7f7"
                        ],
                        [
                          0.6,
                          "#e6f5d0"
                        ],
                        [
                          0.7,
                          "#b8e186"
                        ],
                        [
                          0.8,
                          "#7fbc41"
                        ],
                        [
                          0.9,
                          "#4d9221"
                        ],
                        [
                          1,
                          "#276419"
                        ]
                      ],
                      "sequential": [
                        [
                          0,
                          "#0d0887"
                        ],
                        [
                          0.1111111111111111,
                          "#46039f"
                        ],
                        [
                          0.2222222222222222,
                          "#7201a8"
                        ],
                        [
                          0.3333333333333333,
                          "#9c179e"
                        ],
                        [
                          0.4444444444444444,
                          "#bd3786"
                        ],
                        [
                          0.5555555555555556,
                          "#d8576b"
                        ],
                        [
                          0.6666666666666666,
                          "#ed7953"
                        ],
                        [
                          0.7777777777777778,
                          "#fb9f3a"
                        ],
                        [
                          0.8888888888888888,
                          "#fdca26"
                        ],
                        [
                          1,
                          "#f0f921"
                        ]
                      ],
                      "sequentialminus": [
                        [
                          0,
                          "#0d0887"
                        ],
                        [
                          0.1111111111111111,
                          "#46039f"
                        ],
                        [
                          0.2222222222222222,
                          "#7201a8"
                        ],
                        [
                          0.3333333333333333,
                          "#9c179e"
                        ],
                        [
                          0.4444444444444444,
                          "#bd3786"
                        ],
                        [
                          0.5555555555555556,
                          "#d8576b"
                        ],
                        [
                          0.6666666666666666,
                          "#ed7953"
                        ],
                        [
                          0.7777777777777778,
                          "#fb9f3a"
                        ],
                        [
                          0.8888888888888888,
                          "#fdca26"
                        ],
                        [
                          1,
                          "#f0f921"
                        ]
                      ]
                    },
                    "paper_bgcolor": "white",
                    "plot_bgcolor": "#E5ECF6",
                    "title": {
                      "x": 0.05
                    },
                    "scene": {
                      "zaxis": {
                        "backgroundcolor": "#E5ECF6",
                        "ticks": "",
                        "gridwidth": 2,
                        "showbackground": true,
                        "zerolinecolor": "white",
                        "gridcolor": "white",
                        "linecolor": "white"
                      },
                      "xaxis": {
                        "backgroundcolor": "#E5ECF6",
                        "ticks": "",
                        "gridwidth": 2,
                        "showbackground": true,
                        "zerolinecolor": "white",
                        "gridcolor": "white",
                        "linecolor": "white"
                      },
                      "yaxis": {
                        "backgroundcolor": "#E5ECF6",
                        "ticks": "",
                        "gridwidth": 2,
                        "showbackground": true,
                        "zerolinecolor": "white",
                        "gridcolor": "white",
                        "linecolor": "white"
                      }
                    },
                    "yaxis": {
                      "automargin": true,
                      "title": {
                        "standoff": 15
                      },
                      "zerolinewidth": 2,
                      "ticks": "",
                      "zerolinecolor": "white",
                      "gridcolor": "white",
                      "linecolor": "white"
                    },
                    "annotationdefaults": {
                      "arrowwidth": 1,
                      "arrowhead": 0,
                      "arrowcolor": "#2a3f5f"
                    },
                    "hoverlabel": {
                      "align": "left"
                    },
                    "ternary": {
                      "bgcolor": "#E5ECF6",
                      "baxis": {
                        "ticks": "",
                        "gridcolor": "white",
                        "linecolor": "white"
                      },
                      "caxis": {
                        "ticks": "",
                        "gridcolor": "white",
                        "linecolor": "white"
                      },
                      "aaxis": {
                        "ticks": "",
                        "gridcolor": "white",
                        "linecolor": "white"
                      }
                    },
                    "mapbox": {
                      "style": "light"
                    },
                    "hovermode": "closest",
                    "font": {
                      "color": "#2a3f5f"
                    },
                    "geo": {
                      "showland": true,
                      "landcolor": "#E5ECF6",
                      "showlakes": true,
                      "bgcolor": "white",
                      "subunitcolor": "white",
                      "lakecolor": "white"
                    },
                    "coloraxis": {
                      "colorbar": {
                        "outlinewidth": 0,
                        "ticks": ""
                      }
                    }
                  },
                  "data": {
                    "mesh3d": [
                      {
                        "colorbar": {
                          "outlinewidth": 0,
                          "ticks": ""
                        },
                        "type": "mesh3d"
                      }
                    ],
                    "scattercarpet": [
                      {
                        "marker": {
                          "colorbar": {
                            "outlinewidth": 0,
                            "ticks": ""
                          }
                        },
                        "type": "scattercarpet"
                      }
                    ],
                    "pie": [
                      {
                        "automargin": true,
                        "type": "pie"
                      }
                    ],
                    "surface": [
                      {
                        "colorbar": {
                          "outlinewidth": 0,
                          "ticks": ""
                        },
                        "type": "surface",
                        "colorscale": [
                          [
                            0,
                            "#0d0887"
                          ],
                          [
                            0.1111111111111111,
                            "#46039f"
                          ],
                          [
                            0.2222222222222222,
                            "#7201a8"
                          ],
                          [
                            0.3333333333333333,
                            "#9c179e"
                          ],
                          [
                            0.4444444444444444,
                            "#bd3786"
                          ],
                          [
                            0.5555555555555556,
                            "#d8576b"
                          ],
                          [
                            0.6666666666666666,
                            "#ed7953"
                          ],
                          [
                            0.7777777777777778,
                            "#fb9f3a"
                          ],
                          [
                            0.8888888888888888,
                            "#fdca26"
                          ],
                          [
                            1,
                            "#f0f921"
                          ]
                        ]
                      }
                    ],
                    "table": [
                      {
                        "header": {
                          "line": {
                            "color": "white"
                          },
                          "fill": {
                            "color": "#C8D4E3"
                          }
                        },
                        "cells": {
                          "line": {
                            "color": "white"
                          },
                          "fill": {
                            "color": "#EBF0F8"
                          }
                        },
                        "type": "table"
                      }
                    ],
                    "scatterpolargl": [
                      {
                        "marker": {
                          "colorbar": {
                            "outlinewidth": 0,
                            "ticks": ""
                          }
                        },
                        "type": "scatterpolargl"
                      }
                    ],
                    "contour": [
                      {
                        "colorbar": {
                          "outlinewidth": 0,
                          "ticks": ""
                        },
                        "type": "contour",
                        "colorscale": [
                          [
                            0,
                            "#0d0887"
                          ],
                          [
                            0.1111111111111111,
                            "#46039f"
                          ],
                          [
                            0.2222222222222222,
                            "#7201a8"
                          ],
                          [
                            0.3333333333333333,
                            "#9c179e"
                          ],
                          [
                            0.4444444444444444,
                            "#bd3786"
                          ],
                          [
                            0.5555555555555556,
                            "#d8576b"
                          ],
                          [
                            0.6666666666666666,
                            "#ed7953"
                          ],
                          [
                            0.7777777777777778,
                            "#fb9f3a"
                          ],
                          [
                            0.8888888888888888,
                            "#fdca26"
                          ],
                          [
                            1,
                            "#f0f921"
                          ]
                        ]
                      }
                    ],
                    "carpet": [
                      {
                        "type": "carpet",
                        "baxis": {
                          "minorgridcolor": "white",
                          "gridcolor": "white",
                          "linecolor": "white",
                          "endlinecolor": "#2a3f5f",
                          "startlinecolor": "#2a3f5f"
                        },
                        "aaxis": {
                          "minorgridcolor": "white",
                          "gridcolor": "white",
                          "linecolor": "white",
                          "endlinecolor": "#2a3f5f",
                          "startlinecolor": "#2a3f5f"
                        }
                      }
                    ],
                    "contourcarpet": [
                      {
                        "colorbar": {
                          "outlinewidth": 0,
                          "ticks": ""
                        },
                        "type": "contourcarpet"
                      }
                    ],
                    "heatmap": [
                      {
                        "colorbar": {
                          "outlinewidth": 0,
                          "ticks": ""
                        },
                        "type": "heatmap",
                        "colorscale": [
                          [
                            0,
                            "#0d0887"
                          ],
                          [
                            0.1111111111111111,
                            "#46039f"
                          ],
                          [
                            0.2222222222222222,
                            "#7201a8"
                          ],
                          [
                            0.3333333333333333,
                            "#9c179e"
                          ],
                          [
                            0.4444444444444444,
                            "#bd3786"
                          ],
                          [
                            0.5555555555555556,
                            "#d8576b"
                          ],
                          [
                            0.6666666666666666,
                            "#ed7953"
                          ],
                          [
                            0.7777777777777778,
                            "#fb9f3a"
                          ],
                          [
                            0.8888888888888888,
                            "#fdca26"
                          ],
                          [
                            1,
                            "#f0f921"
                          ]
                        ]
                      }
                    ],
                    "scattermapbox": [
                      {
                        "marker": {
                          "colorbar": {
                            "outlinewidth": 0,
                            "ticks": ""
                          }
                        },
                        "type": "scattermapbox"
                      }
                    ],
                    "scatter3d": [
                      {
                        "marker": {
                          "colorbar": {
                            "outlinewidth": 0,
                            "ticks": ""
                          }
                        },
                        "line": {
                          "colorbar": {
                            "outlinewidth": 0,
                            "ticks": ""
                          }
                        },
                        "type": "scatter3d"
                      }
                    ],
                    "scattergl": [
                      {
                        "marker": {
                          "colorbar": {
                            "outlinewidth": 0,
                            "ticks": ""
                          }
                        },
                        "type": "scattergl"
                      }
                    ],
                    "scatterternary": [
                      {
                        "marker": {
                          "colorbar": {
                            "outlinewidth": 0,
                            "ticks": ""
                          }
                        },
                        "type": "scatterternary"
                      }
                    ],
                    "histogram": [
                      {
                        "marker": {
                          "colorbar": {
                            "outlinewidth": 0,
                            "ticks": ""
                          }
                        },
                        "type": "histogram"
                      }
                    ],
                    "heatmapgl": [
                      {
                        "colorbar": {
                          "outlinewidth": 0,
                          "ticks": ""
                        },
                        "type": "heatmapgl",
                        "colorscale": [
                          [
                            0,
                            "#0d0887"
                          ],
                          [
                            0.1111111111111111,
                            "#46039f"
                          ],
                          [
                            0.2222222222222222,
                            "#7201a8"
                          ],
                          [
                            0.3333333333333333,
                            "#9c179e"
                          ],
                          [
                            0.4444444444444444,
                            "#bd3786"
                          ],
                          [
                            0.5555555555555556,
                            "#d8576b"
                          ],
                          [
                            0.6666666666666666,
                            "#ed7953"
                          ],
                          [
                            0.7777777777777778,
                            "#fb9f3a"
                          ],
                          [
                            0.8888888888888888,
                            "#fdca26"
                          ],
                          [
                            1,
                            "#f0f921"
                          ]
                        ]
                      }
                    ],
                    "scatterpolar": [
                      {
                        "marker": {
                          "colorbar": {
                            "outlinewidth": 0,
                            "ticks": ""
                          }
                        },
                        "type": "scatterpolar"
                      }
                    ],
                    "histogram2d": [
                      {
                        "colorbar": {
                          "outlinewidth": 0,
                          "ticks": ""
                        },
                        "type": "histogram2d",
                        "colorscale": [
                          [
                            0,
                            "#0d0887"
                          ],
                          [
                            0.1111111111111111,
                            "#46039f"
                          ],
                          [
                            0.2222222222222222,
                            "#7201a8"
                          ],
                          [
                            0.3333333333333333,
                            "#9c179e"
                          ],
                          [
                            0.4444444444444444,
                            "#bd3786"
                          ],
                          [
                            0.5555555555555556,
                            "#d8576b"
                          ],
                          [
                            0.6666666666666666,
                            "#ed7953"
                          ],
                          [
                            0.7777777777777778,
                            "#fb9f3a"
                          ],
                          [
                            0.8888888888888888,
                            "#fdca26"
                          ],
                          [
                            1,
                            "#f0f921"
                          ]
                        ]
                      }
                    ],
                    "scattergeo": [
                      {
                        "marker": {
                          "colorbar": {
                            "outlinewidth": 0,
                            "ticks": ""
                          }
                        },
                        "type": "scattergeo"
                      }
                    ],
                    "bar": [
                      {
                        "marker": {
                          "line": {
                            "color": "#E5ECF6",
                            "width": 0.5
                          }
                        },
                        "type": "bar",
                        "error_x": {
                          "color": "#2a3f5f"
                        },
                        "error_y": {
                          "color": "#2a3f5f"
                        }
                      }
                    ],
                    "choropleth": [
                      {
                        "colorbar": {
                          "outlinewidth": 0,
                          "ticks": ""
                        },
                        "type": "choropleth"
                      }
                    ],
                    "parcoords": [
                      {
                        "line": {
                          "colorbar": {
                            "outlinewidth": 0,
                            "ticks": ""
                          }
                        },
                        "type": "parcoords"
                      }
                    ],
                    "barpolar": [
                      {
                        "marker": {
                          "line": {
                            "color": "#E5ECF6",
                            "width": 0.5
                          }
                        },
                        "type": "barpolar"
                      }
                    ],
                    "histogram2dcontour": [
                      {
                        "colorbar": {
                          "outlinewidth": 0,
                          "ticks": ""
                        },
                        "type": "histogram2dcontour",
                        "colorscale": [
                          [
                            0,
                            "#0d0887"
                          ],
                          [
                            0.1111111111111111,
                            "#46039f"
                          ],
                          [
                            0.2222222222222222,
                            "#7201a8"
                          ],
                          [
                            0.3333333333333333,
                            "#9c179e"
                          ],
                          [
                            0.4444444444444444,
                            "#bd3786"
                          ],
                          [
                            0.5555555555555556,
                            "#d8576b"
                          ],
                          [
                            0.6666666666666666,
                            "#ed7953"
                          ],
                          [
                            0.7777777777777778,
                            "#fb9f3a"
                          ],
                          [
                            0.8888888888888888,
                            "#fdca26"
                          ],
                          [
                            1,
                            "#f0f921"
                          ]
                        ]
                      }
                    ],
                    "scatter": [
                      {
                        "marker": {
                          "colorbar": {
                            "outlinewidth": 0,
                            "ticks": ""
                          }
                        },
                        "type": "scatter"
                      }
                    ]
                  }
                },
                "height": 800
              }
            }
          },
          "metadata": {
            "tags": []
          }
        }
      ]
    },
    {
      "cell_type": "markdown",
      "metadata": {
        "id": "UcJeudFa07F5",
        "colab_type": "text"
      },
      "source": [
        "**State data totals**"
      ]
    },
    {
      "cell_type": "code",
      "metadata": {
        "id": "x16gmJhm4IuP",
        "colab_type": "code",
        "outputId": "e3d60046-94a2-4818-a64d-9ce33ac2bee8",
        "colab": {
          "base_uri": "https://localhost:8080/",
          "height": 34
        }
      },
      "source": [
        "Alabama2013 = dfweather_data_2013[dfweather_data_2013['STATE'].str.match('ALABAMA')]\n",
        "damageTotalAlabama = Alabama2013['DAMAGE_PROPERTY'].sum()\n",
        "damageTotalAlabama"
      ],
      "execution_count": 0,
      "outputs": [
        {
          "output_type": "execute_result",
          "data": {
            "text/plain": [
              "8394450.0"
            ]
          },
          "metadata": {
            "tags": []
          },
          "execution_count": 222
        }
      ]
    },
    {
      "cell_type": "code",
      "metadata": {
        "id": "XiiND6Ab4Ve8",
        "colab_type": "code",
        "colab": {}
      },
      "source": [
        "Alaska2013 = dfweather_data_2013[dfweather_data_2013['STATE'].str.match('ALASKA')]\n",
        "damageTotalAlaska = Alaska2013['DAMAGE_PROPERTY'].sum()"
      ],
      "execution_count": 0,
      "outputs": []
    },
    {
      "cell_type": "code",
      "metadata": {
        "id": "v60HBiqD4ka5",
        "colab_type": "code",
        "colab": {}
      },
      "source": [
        "Arizona2013 = dfweather_data_2013[dfweather_data_2013['STATE'].str.match('ARIZONA')]\n",
        "damageTotalArizona = Arizona2013['DAMAGE_PROPERTY'].sum()"
      ],
      "execution_count": 0,
      "outputs": []
    },
    {
      "cell_type": "code",
      "metadata": {
        "id": "fRKaKzzK45Rw",
        "colab_type": "code",
        "colab": {}
      },
      "source": [
        "Arkansas2013 = dfweather_data_2013[dfweather_data_2013['STATE'].str.match('ARKANSAS')]\n",
        "damageTotalArkansas = Arkansas2013['DAMAGE_PROPERTY'].sum()"
      ],
      "execution_count": 0,
      "outputs": []
    },
    {
      "cell_type": "code",
      "metadata": {
        "id": "lmnxZkpW1CBY",
        "colab_type": "code",
        "colab": {}
      },
      "source": [
        "Texas2013 = dfweather_data_2013[dfweather_data_2013['STATE'].str.match('TEXAS')]\n",
        "damageTotalTexas = Texas2013['DAMAGE_PROPERTY'].sum()"
      ],
      "execution_count": 0,
      "outputs": []
    },
    {
      "cell_type": "code",
      "metadata": {
        "id": "uz6Z-41F1Oso",
        "colab_type": "code",
        "outputId": "c9fa02c3-40b8-40f6-fe6b-474d060661f6",
        "colab": {
          "base_uri": "https://localhost:8080/",
          "height": 142
        }
      },
      "source": [
        "#adding results into a dataframe\n",
        "new2013df = {'State':['Alabama','Alaska','Arizona','Arkansas','California','Colorado','Connecticut','Delaware','Florida','Georgia','Texas'], \n",
        "             'Damage(USD)':[damageTotalAlabama, damageTotalAlaska, damageTotalArizona, damageTotalArkansas]}\n",
        "df = pd.DataFrame(new2018df)\n",
        "df"
      ],
      "execution_count": 0,
      "outputs": [
        {
          "output_type": "execute_result",
          "data": {
            "text/html": [
              "<div>\n",
              "<style scoped>\n",
              "    .dataframe tbody tr th:only-of-type {\n",
              "        vertical-align: middle;\n",
              "    }\n",
              "\n",
              "    .dataframe tbody tr th {\n",
              "        vertical-align: top;\n",
              "    }\n",
              "\n",
              "    .dataframe thead th {\n",
              "        text-align: right;\n",
              "    }\n",
              "</style>\n",
              "<table border=\"1\" class=\"dataframe\">\n",
              "  <thead>\n",
              "    <tr style=\"text-align: right;\">\n",
              "      <th></th>\n",
              "      <th>State</th>\n",
              "      <th>Damage(USD)</th>\n",
              "    </tr>\n",
              "  </thead>\n",
              "  <tbody>\n",
              "    <tr>\n",
              "      <th>0</th>\n",
              "      <td>Vermont</td>\n",
              "      <td>5054000</td>\n",
              "    </tr>\n",
              "    <tr>\n",
              "      <th>1</th>\n",
              "      <td>Alabama</td>\n",
              "      <td>8340450</td>\n",
              "    </tr>\n",
              "    <tr>\n",
              "      <th>2</th>\n",
              "      <td>Texas</td>\n",
              "      <td>338081250</td>\n",
              "    </tr>\n",
              "  </tbody>\n",
              "</table>\n",
              "</div>"
            ],
            "text/plain": [
              "     State  Damage(USD)\n",
              "0  Vermont      5054000\n",
              "1  Alabama      8340450\n",
              "2    Texas    338081250"
            ]
          },
          "metadata": {
            "tags": []
          },
          "execution_count": 221
        }
      ]
    },
    {
      "cell_type": "markdown",
      "metadata": {
        "id": "fj8TX9sifd8D",
        "colab_type": "text"
      },
      "source": [
        "# **2014**"
      ]
    },
    {
      "cell_type": "code",
      "metadata": {
        "id": "4UciNaM1grVy",
        "colab_type": "code",
        "colab": {}
      },
      "source": [
        "Weather_url_2014 = \"https://www1.ncdc.noaa.gov/pub/data/swdi/stormevents/csvfiles/StormEvents_details-ftp_v1.0_d2014_c20191116.csv.gz\"\n",
        "#!curl https://www1.ncdc.noaa.gov/pub/data/swdi/stormevents/csvfiles/StormEvents_details-ftp_v1.0_d2014_c20191116.csv.gz"
      ],
      "execution_count": 0,
      "outputs": []
    },
    {
      "cell_type": "code",
      "metadata": {
        "id": "OmKP_AvggwMZ",
        "colab_type": "code",
        "outputId": "2afe3911-1f7c-4013-8c56-b3633c303919",
        "colab": {
          "base_uri": "https://localhost:8080/",
          "height": 34
        }
      },
      "source": [
        "weather_data_2014 = pd.read_csv(Weather_url_2014)\n",
        "weather_data_2014.shape"
      ],
      "execution_count": 0,
      "outputs": [
        {
          "output_type": "execute_result",
          "data": {
            "text/plain": [
              "(59465, 51)"
            ]
          },
          "metadata": {
            "tags": []
          },
          "execution_count": 98
        }
      ]
    },
    {
      "cell_type": "code",
      "metadata": {
        "id": "jJ1l_39FgyAq",
        "colab_type": "code",
        "outputId": "75254c36-7c22-4473-f781-c9ce0fd54066",
        "colab": {
          "base_uri": "https://localhost:8080/",
          "height": 394
        }
      },
      "source": [
        "weather_data_2014.head()"
      ],
      "execution_count": 0,
      "outputs": [
        {
          "output_type": "execute_result",
          "data": {
            "text/html": [
              "<div>\n",
              "<style scoped>\n",
              "    .dataframe tbody tr th:only-of-type {\n",
              "        vertical-align: middle;\n",
              "    }\n",
              "\n",
              "    .dataframe tbody tr th {\n",
              "        vertical-align: top;\n",
              "    }\n",
              "\n",
              "    .dataframe thead th {\n",
              "        text-align: right;\n",
              "    }\n",
              "</style>\n",
              "<table border=\"1\" class=\"dataframe\">\n",
              "  <thead>\n",
              "    <tr style=\"text-align: right;\">\n",
              "      <th></th>\n",
              "      <th>BEGIN_YEARMONTH</th>\n",
              "      <th>BEGIN_DAY</th>\n",
              "      <th>BEGIN_TIME</th>\n",
              "      <th>END_YEARMONTH</th>\n",
              "      <th>END_DAY</th>\n",
              "      <th>END_TIME</th>\n",
              "      <th>EPISODE_ID</th>\n",
              "      <th>EVENT_ID</th>\n",
              "      <th>STATE</th>\n",
              "      <th>STATE_FIPS</th>\n",
              "      <th>YEAR</th>\n",
              "      <th>MONTH_NAME</th>\n",
              "      <th>EVENT_TYPE</th>\n",
              "      <th>CZ_TYPE</th>\n",
              "      <th>CZ_FIPS</th>\n",
              "      <th>CZ_NAME</th>\n",
              "      <th>WFO</th>\n",
              "      <th>BEGIN_DATE_TIME</th>\n",
              "      <th>CZ_TIMEZONE</th>\n",
              "      <th>END_DATE_TIME</th>\n",
              "      <th>INJURIES_DIRECT</th>\n",
              "      <th>INJURIES_INDIRECT</th>\n",
              "      <th>DEATHS_DIRECT</th>\n",
              "      <th>DEATHS_INDIRECT</th>\n",
              "      <th>DAMAGE_PROPERTY</th>\n",
              "      <th>DAMAGE_CROPS</th>\n",
              "      <th>SOURCE</th>\n",
              "      <th>MAGNITUDE</th>\n",
              "      <th>MAGNITUDE_TYPE</th>\n",
              "      <th>FLOOD_CAUSE</th>\n",
              "      <th>CATEGORY</th>\n",
              "      <th>TOR_F_SCALE</th>\n",
              "      <th>TOR_LENGTH</th>\n",
              "      <th>TOR_WIDTH</th>\n",
              "      <th>TOR_OTHER_WFO</th>\n",
              "      <th>TOR_OTHER_CZ_STATE</th>\n",
              "      <th>TOR_OTHER_CZ_FIPS</th>\n",
              "      <th>TOR_OTHER_CZ_NAME</th>\n",
              "      <th>BEGIN_RANGE</th>\n",
              "      <th>BEGIN_AZIMUTH</th>\n",
              "      <th>BEGIN_LOCATION</th>\n",
              "      <th>END_RANGE</th>\n",
              "      <th>END_AZIMUTH</th>\n",
              "      <th>END_LOCATION</th>\n",
              "      <th>BEGIN_LAT</th>\n",
              "      <th>BEGIN_LON</th>\n",
              "      <th>END_LAT</th>\n",
              "      <th>END_LON</th>\n",
              "      <th>EPISODE_NARRATIVE</th>\n",
              "      <th>EVENT_NARRATIVE</th>\n",
              "      <th>DATA_SOURCE</th>\n",
              "    </tr>\n",
              "  </thead>\n",
              "  <tbody>\n",
              "    <tr>\n",
              "      <th>0</th>\n",
              "      <td>201402</td>\n",
              "      <td>18</td>\n",
              "      <td>1000</td>\n",
              "      <td>201402</td>\n",
              "      <td>18</td>\n",
              "      <td>2000</td>\n",
              "      <td>83473</td>\n",
              "      <td>503953</td>\n",
              "      <td>NEW HAMPSHIRE</td>\n",
              "      <td>33</td>\n",
              "      <td>2014</td>\n",
              "      <td>February</td>\n",
              "      <td>Heavy Snow</td>\n",
              "      <td>Z</td>\n",
              "      <td>12</td>\n",
              "      <td>EASTERN HILLSBOROUGH</td>\n",
              "      <td>BOX</td>\n",
              "      <td>18-FEB-14 10:00:00</td>\n",
              "      <td>EST-5</td>\n",
              "      <td>18-FEB-14 20:00:00</td>\n",
              "      <td>0</td>\n",
              "      <td>0</td>\n",
              "      <td>0</td>\n",
              "      <td>0</td>\n",
              "      <td>0.00K</td>\n",
              "      <td>0.00K</td>\n",
              "      <td>Trained Spotter</td>\n",
              "      <td>NaN</td>\n",
              "      <td>NaN</td>\n",
              "      <td>NaN</td>\n",
              "      <td>NaN</td>\n",
              "      <td>NaN</td>\n",
              "      <td>NaN</td>\n",
              "      <td>NaN</td>\n",
              "      <td>NaN</td>\n",
              "      <td>NaN</td>\n",
              "      <td>NaN</td>\n",
              "      <td>NaN</td>\n",
              "      <td>NaN</td>\n",
              "      <td>NaN</td>\n",
              "      <td>NaN</td>\n",
              "      <td>NaN</td>\n",
              "      <td>NaN</td>\n",
              "      <td>NaN</td>\n",
              "      <td>NaN</td>\n",
              "      <td>NaN</td>\n",
              "      <td>NaN</td>\n",
              "      <td>NaN</td>\n",
              "      <td>Low pressure developing south of Long Island a...</td>\n",
              "      <td>Eight to twelve inches of snow fell across eas...</td>\n",
              "      <td>CSV</td>\n",
              "    </tr>\n",
              "    <tr>\n",
              "      <th>1</th>\n",
              "      <td>201402</td>\n",
              "      <td>5</td>\n",
              "      <td>300</td>\n",
              "      <td>201402</td>\n",
              "      <td>5</td>\n",
              "      <td>2300</td>\n",
              "      <td>83491</td>\n",
              "      <td>504065</td>\n",
              "      <td>NEW HAMPSHIRE</td>\n",
              "      <td>33</td>\n",
              "      <td>2014</td>\n",
              "      <td>February</td>\n",
              "      <td>Heavy Snow</td>\n",
              "      <td>Z</td>\n",
              "      <td>12</td>\n",
              "      <td>EASTERN HILLSBOROUGH</td>\n",
              "      <td>BOX</td>\n",
              "      <td>05-FEB-14 03:00:00</td>\n",
              "      <td>EST-5</td>\n",
              "      <td>05-FEB-14 23:00:00</td>\n",
              "      <td>0</td>\n",
              "      <td>0</td>\n",
              "      <td>0</td>\n",
              "      <td>0</td>\n",
              "      <td>0.00K</td>\n",
              "      <td>0.00K</td>\n",
              "      <td>Trained Spotter</td>\n",
              "      <td>NaN</td>\n",
              "      <td>NaN</td>\n",
              "      <td>NaN</td>\n",
              "      <td>NaN</td>\n",
              "      <td>NaN</td>\n",
              "      <td>NaN</td>\n",
              "      <td>NaN</td>\n",
              "      <td>NaN</td>\n",
              "      <td>NaN</td>\n",
              "      <td>NaN</td>\n",
              "      <td>NaN</td>\n",
              "      <td>NaN</td>\n",
              "      <td>NaN</td>\n",
              "      <td>NaN</td>\n",
              "      <td>NaN</td>\n",
              "      <td>NaN</td>\n",
              "      <td>NaN</td>\n",
              "      <td>NaN</td>\n",
              "      <td>NaN</td>\n",
              "      <td>NaN</td>\n",
              "      <td>NaN</td>\n",
              "      <td>Low pressure moving off the mid-Atlantic coast...</td>\n",
              "      <td>Six to twelve inches of snow fell across easte...</td>\n",
              "      <td>CSV</td>\n",
              "    </tr>\n",
              "    <tr>\n",
              "      <th>2</th>\n",
              "      <td>201401</td>\n",
              "      <td>18</td>\n",
              "      <td>1000</td>\n",
              "      <td>201401</td>\n",
              "      <td>19</td>\n",
              "      <td>700</td>\n",
              "      <td>82185</td>\n",
              "      <td>494521</td>\n",
              "      <td>NEW HAMPSHIRE</td>\n",
              "      <td>33</td>\n",
              "      <td>2014</td>\n",
              "      <td>January</td>\n",
              "      <td>Heavy Snow</td>\n",
              "      <td>Z</td>\n",
              "      <td>12</td>\n",
              "      <td>EASTERN HILLSBOROUGH</td>\n",
              "      <td>BOX</td>\n",
              "      <td>18-JAN-14 10:00:00</td>\n",
              "      <td>EST-5</td>\n",
              "      <td>19-JAN-14 07:00:00</td>\n",
              "      <td>0</td>\n",
              "      <td>0</td>\n",
              "      <td>0</td>\n",
              "      <td>0</td>\n",
              "      <td>0.00K</td>\n",
              "      <td>0.00K</td>\n",
              "      <td>Trained Spotter</td>\n",
              "      <td>NaN</td>\n",
              "      <td>NaN</td>\n",
              "      <td>NaN</td>\n",
              "      <td>NaN</td>\n",
              "      <td>NaN</td>\n",
              "      <td>NaN</td>\n",
              "      <td>NaN</td>\n",
              "      <td>NaN</td>\n",
              "      <td>NaN</td>\n",
              "      <td>NaN</td>\n",
              "      <td>NaN</td>\n",
              "      <td>NaN</td>\n",
              "      <td>NaN</td>\n",
              "      <td>NaN</td>\n",
              "      <td>NaN</td>\n",
              "      <td>NaN</td>\n",
              "      <td>NaN</td>\n",
              "      <td>NaN</td>\n",
              "      <td>NaN</td>\n",
              "      <td>NaN</td>\n",
              "      <td>NaN</td>\n",
              "      <td>Low pressure brought a brief period of heavy s...</td>\n",
              "      <td>Four to eight inches of snow fell across easte...</td>\n",
              "      <td>CSV</td>\n",
              "    </tr>\n",
              "    <tr>\n",
              "      <th>3</th>\n",
              "      <td>201411</td>\n",
              "      <td>26</td>\n",
              "      <td>1000</td>\n",
              "      <td>201411</td>\n",
              "      <td>27</td>\n",
              "      <td>1000</td>\n",
              "      <td>91728</td>\n",
              "      <td>549746</td>\n",
              "      <td>NEW HAMPSHIRE</td>\n",
              "      <td>33</td>\n",
              "      <td>2014</td>\n",
              "      <td>November</td>\n",
              "      <td>Heavy Snow</td>\n",
              "      <td>Z</td>\n",
              "      <td>12</td>\n",
              "      <td>EASTERN HILLSBOROUGH</td>\n",
              "      <td>BOX</td>\n",
              "      <td>26-NOV-14 10:00:00</td>\n",
              "      <td>EST-5</td>\n",
              "      <td>27-NOV-14 10:00:00</td>\n",
              "      <td>0</td>\n",
              "      <td>0</td>\n",
              "      <td>0</td>\n",
              "      <td>0</td>\n",
              "      <td>15.00K</td>\n",
              "      <td>0.00K</td>\n",
              "      <td>COOP Observer</td>\n",
              "      <td>NaN</td>\n",
              "      <td>NaN</td>\n",
              "      <td>NaN</td>\n",
              "      <td>NaN</td>\n",
              "      <td>NaN</td>\n",
              "      <td>NaN</td>\n",
              "      <td>NaN</td>\n",
              "      <td>NaN</td>\n",
              "      <td>NaN</td>\n",
              "      <td>NaN</td>\n",
              "      <td>NaN</td>\n",
              "      <td>NaN</td>\n",
              "      <td>NaN</td>\n",
              "      <td>NaN</td>\n",
              "      <td>NaN</td>\n",
              "      <td>NaN</td>\n",
              "      <td>NaN</td>\n",
              "      <td>NaN</td>\n",
              "      <td>NaN</td>\n",
              "      <td>NaN</td>\n",
              "      <td>NaN</td>\n",
              "      <td>A strong coastal storm moved up the east coast...</td>\n",
              "      <td>Six to eight inches of snow fell across easter...</td>\n",
              "      <td>CSV</td>\n",
              "    </tr>\n",
              "    <tr>\n",
              "      <th>4</th>\n",
              "      <td>201402</td>\n",
              "      <td>13</td>\n",
              "      <td>630</td>\n",
              "      <td>201402</td>\n",
              "      <td>14</td>\n",
              "      <td>800</td>\n",
              "      <td>83476</td>\n",
              "      <td>503982</td>\n",
              "      <td>NEW HAMPSHIRE</td>\n",
              "      <td>33</td>\n",
              "      <td>2014</td>\n",
              "      <td>February</td>\n",
              "      <td>Heavy Snow</td>\n",
              "      <td>Z</td>\n",
              "      <td>12</td>\n",
              "      <td>EASTERN HILLSBOROUGH</td>\n",
              "      <td>BOX</td>\n",
              "      <td>13-FEB-14 06:30:00</td>\n",
              "      <td>EST-5</td>\n",
              "      <td>14-FEB-14 08:00:00</td>\n",
              "      <td>0</td>\n",
              "      <td>0</td>\n",
              "      <td>0</td>\n",
              "      <td>0</td>\n",
              "      <td>0.00K</td>\n",
              "      <td>0.00K</td>\n",
              "      <td>Trained Spotter</td>\n",
              "      <td>NaN</td>\n",
              "      <td>NaN</td>\n",
              "      <td>NaN</td>\n",
              "      <td>NaN</td>\n",
              "      <td>NaN</td>\n",
              "      <td>NaN</td>\n",
              "      <td>NaN</td>\n",
              "      <td>NaN</td>\n",
              "      <td>NaN</td>\n",
              "      <td>NaN</td>\n",
              "      <td>NaN</td>\n",
              "      <td>NaN</td>\n",
              "      <td>NaN</td>\n",
              "      <td>NaN</td>\n",
              "      <td>NaN</td>\n",
              "      <td>NaN</td>\n",
              "      <td>NaN</td>\n",
              "      <td>NaN</td>\n",
              "      <td>NaN</td>\n",
              "      <td>NaN</td>\n",
              "      <td>NaN</td>\n",
              "      <td>A significant winter storm brought six to twel...</td>\n",
              "      <td>Five to eight inches of snow fell across easte...</td>\n",
              "      <td>CSV</td>\n",
              "    </tr>\n",
              "  </tbody>\n",
              "</table>\n",
              "</div>"
            ],
            "text/plain": [
              "   BEGIN_YEARMONTH  ...  DATA_SOURCE\n",
              "0           201402  ...          CSV\n",
              "1           201402  ...          CSV\n",
              "2           201401  ...          CSV\n",
              "3           201411  ...          CSV\n",
              "4           201402  ...          CSV\n",
              "\n",
              "[5 rows x 51 columns]"
            ]
          },
          "metadata": {
            "tags": []
          },
          "execution_count": 99
        }
      ]
    },
    {
      "cell_type": "code",
      "metadata": {
        "id": "g1sHC6HAg4eA",
        "colab_type": "code",
        "colab": {}
      },
      "source": [
        "dfweather_data_2014 = weather_data_2014[['STATE','DAMAGE_PROPERTY']].copy()"
      ],
      "execution_count": 0,
      "outputs": []
    },
    {
      "cell_type": "code",
      "metadata": {
        "id": "7ZAS1q1Ng8Dq",
        "colab_type": "code",
        "colab": {}
      },
      "source": [
        "#dropping NaN values\n",
        "dfweather_data_2014 = dfweather_data_2014.dropna()"
      ],
      "execution_count": 0,
      "outputs": []
    },
    {
      "cell_type": "code",
      "metadata": {
        "id": "609YhWTMhAZh",
        "colab_type": "code",
        "colab": {}
      },
      "source": [
        "DAMAGE_PROPERTY_2014 = dfweather_data_2014['DAMAGE_PROPERTY'].replace({'K': '*1e3', 'M': '*1e6', 'B': '1e9'}, regex=True).map(pd.eval).astype(int)"
      ],
      "execution_count": 0,
      "outputs": []
    },
    {
      "cell_type": "code",
      "metadata": {
        "id": "HNKDVDnshWUo",
        "colab_type": "code",
        "colab": {}
      },
      "source": [
        "dfweather_data_2014['DAMAGE_PROPERTY'] = DAMAGE_PROPERTY_2014"
      ],
      "execution_count": 0,
      "outputs": []
    },
    {
      "cell_type": "markdown",
      "metadata": {
        "id": "cSMlSGDxfgJL",
        "colab_type": "text"
      },
      "source": [
        "# **2015**"
      ]
    },
    {
      "cell_type": "code",
      "metadata": {
        "id": "21llm_u7hcCf",
        "colab_type": "code",
        "colab": {}
      },
      "source": [
        "Weather_url_2015 = \"https://www1.ncdc.noaa.gov/pub/data/swdi/stormevents/csvfiles/StormEvents_details-ftp_v1.0_d2015_c20191116.csv.gz\"\n",
        "#!curl https://www1.ncdc.noaa.gov/pub/data/swdi/stormevents/csvfiles/StormEvents_details-ftp_v1.0_d2015_c20191116.csv.gz"
      ],
      "execution_count": 0,
      "outputs": []
    },
    {
      "cell_type": "code",
      "metadata": {
        "id": "uIy07Lg0h6VX",
        "colab_type": "code",
        "outputId": "c80a213c-5b38-45ac-c91f-0fc631311ebb",
        "colab": {
          "base_uri": "https://localhost:8080/",
          "height": 34
        }
      },
      "source": [
        "weather_data_2015 = pd.read_csv(Weather_url_2015)\n",
        "weather_data_2015.shape"
      ],
      "execution_count": 0,
      "outputs": [
        {
          "output_type": "execute_result",
          "data": {
            "text/plain": [
              "(57788, 51)"
            ]
          },
          "metadata": {
            "tags": []
          },
          "execution_count": 105
        }
      ]
    },
    {
      "cell_type": "code",
      "metadata": {
        "id": "d_A48dC6h9xe",
        "colab_type": "code",
        "outputId": "d4d8e1a7-9361-450a-bed1-0c6f28e6d33c",
        "colab": {
          "base_uri": "https://localhost:8080/",
          "height": 411
        }
      },
      "source": [
        "weather_data_2015.head()"
      ],
      "execution_count": 0,
      "outputs": [
        {
          "output_type": "execute_result",
          "data": {
            "text/html": [
              "<div>\n",
              "<style scoped>\n",
              "    .dataframe tbody tr th:only-of-type {\n",
              "        vertical-align: middle;\n",
              "    }\n",
              "\n",
              "    .dataframe tbody tr th {\n",
              "        vertical-align: top;\n",
              "    }\n",
              "\n",
              "    .dataframe thead th {\n",
              "        text-align: right;\n",
              "    }\n",
              "</style>\n",
              "<table border=\"1\" class=\"dataframe\">\n",
              "  <thead>\n",
              "    <tr style=\"text-align: right;\">\n",
              "      <th></th>\n",
              "      <th>BEGIN_YEARMONTH</th>\n",
              "      <th>BEGIN_DAY</th>\n",
              "      <th>BEGIN_TIME</th>\n",
              "      <th>END_YEARMONTH</th>\n",
              "      <th>END_DAY</th>\n",
              "      <th>END_TIME</th>\n",
              "      <th>EPISODE_ID</th>\n",
              "      <th>EVENT_ID</th>\n",
              "      <th>STATE</th>\n",
              "      <th>STATE_FIPS</th>\n",
              "      <th>YEAR</th>\n",
              "      <th>MONTH_NAME</th>\n",
              "      <th>EVENT_TYPE</th>\n",
              "      <th>CZ_TYPE</th>\n",
              "      <th>CZ_FIPS</th>\n",
              "      <th>CZ_NAME</th>\n",
              "      <th>WFO</th>\n",
              "      <th>BEGIN_DATE_TIME</th>\n",
              "      <th>CZ_TIMEZONE</th>\n",
              "      <th>END_DATE_TIME</th>\n",
              "      <th>INJURIES_DIRECT</th>\n",
              "      <th>INJURIES_INDIRECT</th>\n",
              "      <th>DEATHS_DIRECT</th>\n",
              "      <th>DEATHS_INDIRECT</th>\n",
              "      <th>DAMAGE_PROPERTY</th>\n",
              "      <th>DAMAGE_CROPS</th>\n",
              "      <th>SOURCE</th>\n",
              "      <th>MAGNITUDE</th>\n",
              "      <th>MAGNITUDE_TYPE</th>\n",
              "      <th>FLOOD_CAUSE</th>\n",
              "      <th>CATEGORY</th>\n",
              "      <th>TOR_F_SCALE</th>\n",
              "      <th>TOR_LENGTH</th>\n",
              "      <th>TOR_WIDTH</th>\n",
              "      <th>TOR_OTHER_WFO</th>\n",
              "      <th>TOR_OTHER_CZ_STATE</th>\n",
              "      <th>TOR_OTHER_CZ_FIPS</th>\n",
              "      <th>TOR_OTHER_CZ_NAME</th>\n",
              "      <th>BEGIN_RANGE</th>\n",
              "      <th>BEGIN_AZIMUTH</th>\n",
              "      <th>BEGIN_LOCATION</th>\n",
              "      <th>END_RANGE</th>\n",
              "      <th>END_AZIMUTH</th>\n",
              "      <th>END_LOCATION</th>\n",
              "      <th>BEGIN_LAT</th>\n",
              "      <th>BEGIN_LON</th>\n",
              "      <th>END_LAT</th>\n",
              "      <th>END_LON</th>\n",
              "      <th>EPISODE_NARRATIVE</th>\n",
              "      <th>EVENT_NARRATIVE</th>\n",
              "      <th>DATA_SOURCE</th>\n",
              "    </tr>\n",
              "  </thead>\n",
              "  <tbody>\n",
              "    <tr>\n",
              "      <th>0</th>\n",
              "      <td>201501</td>\n",
              "      <td>27</td>\n",
              "      <td>1200</td>\n",
              "      <td>201501</td>\n",
              "      <td>28</td>\n",
              "      <td>400</td>\n",
              "      <td>92561</td>\n",
              "      <td>559139</td>\n",
              "      <td>NEW HAMPSHIRE</td>\n",
              "      <td>33</td>\n",
              "      <td>2015</td>\n",
              "      <td>January</td>\n",
              "      <td>Winter Storm</td>\n",
              "      <td>Z</td>\n",
              "      <td>12</td>\n",
              "      <td>EASTERN HILLSBOROUGH</td>\n",
              "      <td>GYX</td>\n",
              "      <td>27-JAN-15 12:00:00</td>\n",
              "      <td>EST-5</td>\n",
              "      <td>28-JAN-15 04:00:00</td>\n",
              "      <td>0</td>\n",
              "      <td>0</td>\n",
              "      <td>0</td>\n",
              "      <td>0</td>\n",
              "      <td>0.00K</td>\n",
              "      <td>0.00K</td>\n",
              "      <td>Official NWS Observations</td>\n",
              "      <td>NaN</td>\n",
              "      <td>NaN</td>\n",
              "      <td>NaN</td>\n",
              "      <td>NaN</td>\n",
              "      <td>NaN</td>\n",
              "      <td>NaN</td>\n",
              "      <td>NaN</td>\n",
              "      <td>NaN</td>\n",
              "      <td>NaN</td>\n",
              "      <td>NaN</td>\n",
              "      <td>NaN</td>\n",
              "      <td>NaN</td>\n",
              "      <td>NaN</td>\n",
              "      <td>NaN</td>\n",
              "      <td>NaN</td>\n",
              "      <td>NaN</td>\n",
              "      <td>NaN</td>\n",
              "      <td>NaN</td>\n",
              "      <td>NaN</td>\n",
              "      <td>NaN</td>\n",
              "      <td>NaN</td>\n",
              "      <td>An area of low pressure developed off the Delm...</td>\n",
              "      <td>Once blizzard conditions subsided, snow and bl...</td>\n",
              "      <td>CSV</td>\n",
              "    </tr>\n",
              "    <tr>\n",
              "      <th>1</th>\n",
              "      <td>201501</td>\n",
              "      <td>24</td>\n",
              "      <td>700</td>\n",
              "      <td>201501</td>\n",
              "      <td>24</td>\n",
              "      <td>2100</td>\n",
              "      <td>92625</td>\n",
              "      <td>555067</td>\n",
              "      <td>NEW HAMPSHIRE</td>\n",
              "      <td>33</td>\n",
              "      <td>2015</td>\n",
              "      <td>January</td>\n",
              "      <td>Heavy Snow</td>\n",
              "      <td>Z</td>\n",
              "      <td>12</td>\n",
              "      <td>EASTERN HILLSBOROUGH</td>\n",
              "      <td>GYX</td>\n",
              "      <td>24-JAN-15 07:00:00</td>\n",
              "      <td>EST-5</td>\n",
              "      <td>24-JAN-15 21:00:00</td>\n",
              "      <td>0</td>\n",
              "      <td>0</td>\n",
              "      <td>0</td>\n",
              "      <td>0</td>\n",
              "      <td>0.00K</td>\n",
              "      <td>0.00K</td>\n",
              "      <td>Trained Spotter</td>\n",
              "      <td>NaN</td>\n",
              "      <td>NaN</td>\n",
              "      <td>NaN</td>\n",
              "      <td>NaN</td>\n",
              "      <td>NaN</td>\n",
              "      <td>NaN</td>\n",
              "      <td>NaN</td>\n",
              "      <td>NaN</td>\n",
              "      <td>NaN</td>\n",
              "      <td>NaN</td>\n",
              "      <td>NaN</td>\n",
              "      <td>NaN</td>\n",
              "      <td>NaN</td>\n",
              "      <td>NaN</td>\n",
              "      <td>NaN</td>\n",
              "      <td>NaN</td>\n",
              "      <td>NaN</td>\n",
              "      <td>NaN</td>\n",
              "      <td>NaN</td>\n",
              "      <td>NaN</td>\n",
              "      <td>NaN</td>\n",
              "      <td>An area of low pressure moving rapidly northea...</td>\n",
              "      <td>NaN</td>\n",
              "      <td>CSV</td>\n",
              "    </tr>\n",
              "    <tr>\n",
              "      <th>2</th>\n",
              "      <td>201501</td>\n",
              "      <td>27</td>\n",
              "      <td>600</td>\n",
              "      <td>201501</td>\n",
              "      <td>27</td>\n",
              "      <td>1200</td>\n",
              "      <td>92561</td>\n",
              "      <td>554564</td>\n",
              "      <td>NEW HAMPSHIRE</td>\n",
              "      <td>33</td>\n",
              "      <td>2015</td>\n",
              "      <td>January</td>\n",
              "      <td>Blizzard</td>\n",
              "      <td>Z</td>\n",
              "      <td>12</td>\n",
              "      <td>EASTERN HILLSBOROUGH</td>\n",
              "      <td>GYX</td>\n",
              "      <td>27-JAN-15 06:00:00</td>\n",
              "      <td>EST-5</td>\n",
              "      <td>27-JAN-15 12:00:00</td>\n",
              "      <td>0</td>\n",
              "      <td>0</td>\n",
              "      <td>0</td>\n",
              "      <td>0</td>\n",
              "      <td>0.00K</td>\n",
              "      <td>0.00K</td>\n",
              "      <td>AWOS</td>\n",
              "      <td>NaN</td>\n",
              "      <td>NaN</td>\n",
              "      <td>NaN</td>\n",
              "      <td>NaN</td>\n",
              "      <td>NaN</td>\n",
              "      <td>NaN</td>\n",
              "      <td>NaN</td>\n",
              "      <td>NaN</td>\n",
              "      <td>NaN</td>\n",
              "      <td>NaN</td>\n",
              "      <td>NaN</td>\n",
              "      <td>NaN</td>\n",
              "      <td>NaN</td>\n",
              "      <td>NaN</td>\n",
              "      <td>NaN</td>\n",
              "      <td>NaN</td>\n",
              "      <td>NaN</td>\n",
              "      <td>NaN</td>\n",
              "      <td>NaN</td>\n",
              "      <td>NaN</td>\n",
              "      <td>NaN</td>\n",
              "      <td>An area of low pressure developed off the Delm...</td>\n",
              "      <td>NaN</td>\n",
              "      <td>CSV</td>\n",
              "    </tr>\n",
              "    <tr>\n",
              "      <th>3</th>\n",
              "      <td>201502</td>\n",
              "      <td>14</td>\n",
              "      <td>800</td>\n",
              "      <td>201502</td>\n",
              "      <td>15</td>\n",
              "      <td>1700</td>\n",
              "      <td>93895</td>\n",
              "      <td>564438</td>\n",
              "      <td>NEW HAMPSHIRE</td>\n",
              "      <td>33</td>\n",
              "      <td>2015</td>\n",
              "      <td>February</td>\n",
              "      <td>Heavy Snow</td>\n",
              "      <td>Z</td>\n",
              "      <td>12</td>\n",
              "      <td>EASTERN HILLSBOROUGH</td>\n",
              "      <td>GYX</td>\n",
              "      <td>14-FEB-15 08:00:00</td>\n",
              "      <td>EST-5</td>\n",
              "      <td>15-FEB-15 17:00:00</td>\n",
              "      <td>0</td>\n",
              "      <td>0</td>\n",
              "      <td>0</td>\n",
              "      <td>0</td>\n",
              "      <td>0.00K</td>\n",
              "      <td>0.00K</td>\n",
              "      <td>Trained Spotter</td>\n",
              "      <td>NaN</td>\n",
              "      <td>NaN</td>\n",
              "      <td>NaN</td>\n",
              "      <td>NaN</td>\n",
              "      <td>NaN</td>\n",
              "      <td>NaN</td>\n",
              "      <td>NaN</td>\n",
              "      <td>NaN</td>\n",
              "      <td>NaN</td>\n",
              "      <td>NaN</td>\n",
              "      <td>NaN</td>\n",
              "      <td>NaN</td>\n",
              "      <td>NaN</td>\n",
              "      <td>NaN</td>\n",
              "      <td>NaN</td>\n",
              "      <td>NaN</td>\n",
              "      <td>NaN</td>\n",
              "      <td>NaN</td>\n",
              "      <td>NaN</td>\n",
              "      <td>NaN</td>\n",
              "      <td>NaN</td>\n",
              "      <td>Low pressure dropping southeast from Canada on...</td>\n",
              "      <td>NaN</td>\n",
              "      <td>CSV</td>\n",
              "    </tr>\n",
              "    <tr>\n",
              "      <th>4</th>\n",
              "      <td>201502</td>\n",
              "      <td>7</td>\n",
              "      <td>2200</td>\n",
              "      <td>201502</td>\n",
              "      <td>10</td>\n",
              "      <td>500</td>\n",
              "      <td>93902</td>\n",
              "      <td>564486</td>\n",
              "      <td>NEW HAMPSHIRE</td>\n",
              "      <td>33</td>\n",
              "      <td>2015</td>\n",
              "      <td>February</td>\n",
              "      <td>Heavy Snow</td>\n",
              "      <td>Z</td>\n",
              "      <td>12</td>\n",
              "      <td>EASTERN HILLSBOROUGH</td>\n",
              "      <td>GYX</td>\n",
              "      <td>07-FEB-15 22:00:00</td>\n",
              "      <td>EST-5</td>\n",
              "      <td>10-FEB-15 05:00:00</td>\n",
              "      <td>0</td>\n",
              "      <td>0</td>\n",
              "      <td>0</td>\n",
              "      <td>0</td>\n",
              "      <td>0.00K</td>\n",
              "      <td>0.00K</td>\n",
              "      <td>Trained Spotter</td>\n",
              "      <td>NaN</td>\n",
              "      <td>NaN</td>\n",
              "      <td>NaN</td>\n",
              "      <td>NaN</td>\n",
              "      <td>NaN</td>\n",
              "      <td>NaN</td>\n",
              "      <td>NaN</td>\n",
              "      <td>NaN</td>\n",
              "      <td>NaN</td>\n",
              "      <td>NaN</td>\n",
              "      <td>NaN</td>\n",
              "      <td>NaN</td>\n",
              "      <td>NaN</td>\n",
              "      <td>NaN</td>\n",
              "      <td>NaN</td>\n",
              "      <td>NaN</td>\n",
              "      <td>NaN</td>\n",
              "      <td>NaN</td>\n",
              "      <td>NaN</td>\n",
              "      <td>NaN</td>\n",
              "      <td>NaN</td>\n",
              "      <td>A series of low pressure areas moving along a ...</td>\n",
              "      <td>NaN</td>\n",
              "      <td>CSV</td>\n",
              "    </tr>\n",
              "  </tbody>\n",
              "</table>\n",
              "</div>"
            ],
            "text/plain": [
              "   BEGIN_YEARMONTH  ...  DATA_SOURCE\n",
              "0           201501  ...          CSV\n",
              "1           201501  ...          CSV\n",
              "2           201501  ...          CSV\n",
              "3           201502  ...          CSV\n",
              "4           201502  ...          CSV\n",
              "\n",
              "[5 rows x 51 columns]"
            ]
          },
          "metadata": {
            "tags": []
          },
          "execution_count": 106
        }
      ]
    },
    {
      "cell_type": "code",
      "metadata": {
        "id": "6KqVlIjHiCJi",
        "colab_type": "code",
        "colab": {}
      },
      "source": [
        "dfweather_data_2015 = weather_data_2015[['STATE','DAMAGE_PROPERTY']].copy()"
      ],
      "execution_count": 0,
      "outputs": []
    },
    {
      "cell_type": "code",
      "metadata": {
        "id": "yCxNLBMHiOUn",
        "colab_type": "code",
        "colab": {}
      },
      "source": [
        "#dropping NaN values\n",
        "dfweather_data_2015 = dfweather_data_2015.dropna()"
      ],
      "execution_count": 0,
      "outputs": []
    },
    {
      "cell_type": "code",
      "metadata": {
        "id": "1MKd-9WKiU1m",
        "colab_type": "code",
        "colab": {}
      },
      "source": [
        "DAMAGE_PROPERTY_2015 = dfweather_data_2015['DAMAGE_PROPERTY'].replace({'K': '*1e3', 'M': '*1e6', 'B': '1e9'}, regex=True).map(pd.eval).astype(int)"
      ],
      "execution_count": 0,
      "outputs": []
    },
    {
      "cell_type": "code",
      "metadata": {
        "id": "XJTcbO7RicF3",
        "colab_type": "code",
        "colab": {}
      },
      "source": [
        "dfweather_data_2015['DAMAGE_PROPERTY'] = DAMAGE_PROPERTY_2015"
      ],
      "execution_count": 0,
      "outputs": []
    },
    {
      "cell_type": "markdown",
      "metadata": {
        "id": "Fvs1ykDNfiK7",
        "colab_type": "text"
      },
      "source": [
        "# **2016**"
      ]
    },
    {
      "cell_type": "code",
      "metadata": {
        "id": "MqX9cA9hmijk",
        "colab_type": "code",
        "colab": {}
      },
      "source": [
        "Weather_url_2016 = \"https://www1.ncdc.noaa.gov/pub/data/swdi/stormevents/csvfiles/StormEvents_details-ftp_v1.0_d2016_c20190817.csv.gz\"\n",
        "#!curl https://www1.ncdc.noaa.gov/pub/data/swdi/stormevents/csvfiles/StormEvents_details-ftp_v1.0_d2016_c20190817.csv.gz"
      ],
      "execution_count": 0,
      "outputs": []
    },
    {
      "cell_type": "code",
      "metadata": {
        "id": "w5QQQsYHmlRJ",
        "colab_type": "code",
        "outputId": "b5db40b3-9251-4b2c-9b37-5ca38b77601a",
        "colab": {
          "base_uri": "https://localhost:8080/",
          "height": 34
        }
      },
      "source": [
        "weather_data_2016 = pd.read_csv(Weather_url_2016)\n",
        "weather_data_2016.shape"
      ],
      "execution_count": 0,
      "outputs": [
        {
          "output_type": "execute_result",
          "data": {
            "text/plain": [
              "(56003, 51)"
            ]
          },
          "metadata": {
            "tags": []
          },
          "execution_count": 112
        }
      ]
    },
    {
      "cell_type": "code",
      "metadata": {
        "id": "optZCIDxmqDw",
        "colab_type": "code",
        "outputId": "bc263184-eae6-4e7d-f8b1-7fa82ab7102a",
        "colab": {
          "base_uri": "https://localhost:8080/",
          "height": 479
        }
      },
      "source": [
        "weather_data_2016.head()"
      ],
      "execution_count": 0,
      "outputs": [
        {
          "output_type": "execute_result",
          "data": {
            "text/html": [
              "<div>\n",
              "<style scoped>\n",
              "    .dataframe tbody tr th:only-of-type {\n",
              "        vertical-align: middle;\n",
              "    }\n",
              "\n",
              "    .dataframe tbody tr th {\n",
              "        vertical-align: top;\n",
              "    }\n",
              "\n",
              "    .dataframe thead th {\n",
              "        text-align: right;\n",
              "    }\n",
              "</style>\n",
              "<table border=\"1\" class=\"dataframe\">\n",
              "  <thead>\n",
              "    <tr style=\"text-align: right;\">\n",
              "      <th></th>\n",
              "      <th>BEGIN_YEARMONTH</th>\n",
              "      <th>BEGIN_DAY</th>\n",
              "      <th>BEGIN_TIME</th>\n",
              "      <th>END_YEARMONTH</th>\n",
              "      <th>END_DAY</th>\n",
              "      <th>END_TIME</th>\n",
              "      <th>EPISODE_ID</th>\n",
              "      <th>EVENT_ID</th>\n",
              "      <th>STATE</th>\n",
              "      <th>STATE_FIPS</th>\n",
              "      <th>YEAR</th>\n",
              "      <th>MONTH_NAME</th>\n",
              "      <th>EVENT_TYPE</th>\n",
              "      <th>CZ_TYPE</th>\n",
              "      <th>CZ_FIPS</th>\n",
              "      <th>CZ_NAME</th>\n",
              "      <th>WFO</th>\n",
              "      <th>BEGIN_DATE_TIME</th>\n",
              "      <th>CZ_TIMEZONE</th>\n",
              "      <th>END_DATE_TIME</th>\n",
              "      <th>INJURIES_DIRECT</th>\n",
              "      <th>INJURIES_INDIRECT</th>\n",
              "      <th>DEATHS_DIRECT</th>\n",
              "      <th>DEATHS_INDIRECT</th>\n",
              "      <th>DAMAGE_PROPERTY</th>\n",
              "      <th>DAMAGE_CROPS</th>\n",
              "      <th>SOURCE</th>\n",
              "      <th>MAGNITUDE</th>\n",
              "      <th>MAGNITUDE_TYPE</th>\n",
              "      <th>FLOOD_CAUSE</th>\n",
              "      <th>CATEGORY</th>\n",
              "      <th>TOR_F_SCALE</th>\n",
              "      <th>TOR_LENGTH</th>\n",
              "      <th>TOR_WIDTH</th>\n",
              "      <th>TOR_OTHER_WFO</th>\n",
              "      <th>TOR_OTHER_CZ_STATE</th>\n",
              "      <th>TOR_OTHER_CZ_FIPS</th>\n",
              "      <th>TOR_OTHER_CZ_NAME</th>\n",
              "      <th>BEGIN_RANGE</th>\n",
              "      <th>BEGIN_AZIMUTH</th>\n",
              "      <th>BEGIN_LOCATION</th>\n",
              "      <th>END_RANGE</th>\n",
              "      <th>END_AZIMUTH</th>\n",
              "      <th>END_LOCATION</th>\n",
              "      <th>BEGIN_LAT</th>\n",
              "      <th>BEGIN_LON</th>\n",
              "      <th>END_LAT</th>\n",
              "      <th>END_LON</th>\n",
              "      <th>EPISODE_NARRATIVE</th>\n",
              "      <th>EVENT_NARRATIVE</th>\n",
              "      <th>DATA_SOURCE</th>\n",
              "    </tr>\n",
              "  </thead>\n",
              "  <tbody>\n",
              "    <tr>\n",
              "      <th>0</th>\n",
              "      <td>201607</td>\n",
              "      <td>15</td>\n",
              "      <td>1715</td>\n",
              "      <td>201607</td>\n",
              "      <td>15</td>\n",
              "      <td>1715</td>\n",
              "      <td>108769</td>\n",
              "      <td>651823</td>\n",
              "      <td>SOUTH CAROLINA</td>\n",
              "      <td>45</td>\n",
              "      <td>2016</td>\n",
              "      <td>July</td>\n",
              "      <td>Heavy Rain</td>\n",
              "      <td>C</td>\n",
              "      <td>91</td>\n",
              "      <td>YORK</td>\n",
              "      <td>GSP</td>\n",
              "      <td>15-JUL-16 17:15:00</td>\n",
              "      <td>EST-5</td>\n",
              "      <td>15-JUL-16 17:15:00</td>\n",
              "      <td>0</td>\n",
              "      <td>0</td>\n",
              "      <td>0</td>\n",
              "      <td>0</td>\n",
              "      <td>2.00K</td>\n",
              "      <td>0.00K</td>\n",
              "      <td>Social Media</td>\n",
              "      <td>NaN</td>\n",
              "      <td>NaN</td>\n",
              "      <td>NaN</td>\n",
              "      <td>NaN</td>\n",
              "      <td>NaN</td>\n",
              "      <td>NaN</td>\n",
              "      <td>NaN</td>\n",
              "      <td>NaN</td>\n",
              "      <td>NaN</td>\n",
              "      <td>NaN</td>\n",
              "      <td>NaN</td>\n",
              "      <td>1.0</td>\n",
              "      <td>N</td>\n",
              "      <td>BOYD HILL</td>\n",
              "      <td>1.0</td>\n",
              "      <td>N</td>\n",
              "      <td>BOYD HILL</td>\n",
              "      <td>34.94</td>\n",
              "      <td>-81.03</td>\n",
              "      <td>34.94</td>\n",
              "      <td>-81.03</td>\n",
              "      <td>Scattered thunderstorms developed across the U...</td>\n",
              "      <td>One to two feet of deep standing water develop...</td>\n",
              "      <td>CSV</td>\n",
              "    </tr>\n",
              "    <tr>\n",
              "      <th>1</th>\n",
              "      <td>201607</td>\n",
              "      <td>15</td>\n",
              "      <td>1725</td>\n",
              "      <td>201607</td>\n",
              "      <td>15</td>\n",
              "      <td>1725</td>\n",
              "      <td>108769</td>\n",
              "      <td>651825</td>\n",
              "      <td>SOUTH CAROLINA</td>\n",
              "      <td>45</td>\n",
              "      <td>2016</td>\n",
              "      <td>July</td>\n",
              "      <td>Thunderstorm Wind</td>\n",
              "      <td>C</td>\n",
              "      <td>91</td>\n",
              "      <td>YORK</td>\n",
              "      <td>GSP</td>\n",
              "      <td>15-JUL-16 17:25:00</td>\n",
              "      <td>EST-5</td>\n",
              "      <td>15-JUL-16 17:25:00</td>\n",
              "      <td>0</td>\n",
              "      <td>0</td>\n",
              "      <td>0</td>\n",
              "      <td>0</td>\n",
              "      <td>0.00K</td>\n",
              "      <td>0.00K</td>\n",
              "      <td>NWS Employee</td>\n",
              "      <td>50.0</td>\n",
              "      <td>EG</td>\n",
              "      <td>NaN</td>\n",
              "      <td>NaN</td>\n",
              "      <td>NaN</td>\n",
              "      <td>NaN</td>\n",
              "      <td>NaN</td>\n",
              "      <td>NaN</td>\n",
              "      <td>NaN</td>\n",
              "      <td>NaN</td>\n",
              "      <td>NaN</td>\n",
              "      <td>1.0</td>\n",
              "      <td>S</td>\n",
              "      <td>FT MILL</td>\n",
              "      <td>1.0</td>\n",
              "      <td>S</td>\n",
              "      <td>FT MILL</td>\n",
              "      <td>35.01</td>\n",
              "      <td>-80.93</td>\n",
              "      <td>35.01</td>\n",
              "      <td>-80.93</td>\n",
              "      <td>Scattered thunderstorms developed across the U...</td>\n",
              "      <td>NWS Columbia relayed a report of trees blown d...</td>\n",
              "      <td>CSV</td>\n",
              "    </tr>\n",
              "    <tr>\n",
              "      <th>2</th>\n",
              "      <td>201607</td>\n",
              "      <td>16</td>\n",
              "      <td>1246</td>\n",
              "      <td>201607</td>\n",
              "      <td>16</td>\n",
              "      <td>1246</td>\n",
              "      <td>108812</td>\n",
              "      <td>651828</td>\n",
              "      <td>NORTH CAROLINA</td>\n",
              "      <td>37</td>\n",
              "      <td>2016</td>\n",
              "      <td>July</td>\n",
              "      <td>Thunderstorm Wind</td>\n",
              "      <td>C</td>\n",
              "      <td>111</td>\n",
              "      <td>MCDOWELL</td>\n",
              "      <td>GSP</td>\n",
              "      <td>16-JUL-16 12:46:00</td>\n",
              "      <td>EST-5</td>\n",
              "      <td>16-JUL-16 12:46:00</td>\n",
              "      <td>0</td>\n",
              "      <td>0</td>\n",
              "      <td>0</td>\n",
              "      <td>0</td>\n",
              "      <td>0.00K</td>\n",
              "      <td>0.00K</td>\n",
              "      <td>Broadcast Media</td>\n",
              "      <td>50.0</td>\n",
              "      <td>EG</td>\n",
              "      <td>NaN</td>\n",
              "      <td>NaN</td>\n",
              "      <td>NaN</td>\n",
              "      <td>NaN</td>\n",
              "      <td>NaN</td>\n",
              "      <td>NaN</td>\n",
              "      <td>NaN</td>\n",
              "      <td>NaN</td>\n",
              "      <td>NaN</td>\n",
              "      <td>2.0</td>\n",
              "      <td>ENE</td>\n",
              "      <td>OLD FT</td>\n",
              "      <td>2.0</td>\n",
              "      <td>ENE</td>\n",
              "      <td>OLD FT</td>\n",
              "      <td>35.64</td>\n",
              "      <td>-82.14</td>\n",
              "      <td>35.64</td>\n",
              "      <td>-82.14</td>\n",
              "      <td>Scattered thunderstorms developed near the Blu...</td>\n",
              "      <td>Media reported two trees blown down along I-40...</td>\n",
              "      <td>CSV</td>\n",
              "    </tr>\n",
              "    <tr>\n",
              "      <th>3</th>\n",
              "      <td>201607</td>\n",
              "      <td>8</td>\n",
              "      <td>1755</td>\n",
              "      <td>201607</td>\n",
              "      <td>8</td>\n",
              "      <td>1755</td>\n",
              "      <td>105872</td>\n",
              "      <td>635287</td>\n",
              "      <td>TENNESSEE</td>\n",
              "      <td>47</td>\n",
              "      <td>2016</td>\n",
              "      <td>July</td>\n",
              "      <td>Thunderstorm Wind</td>\n",
              "      <td>C</td>\n",
              "      <td>105</td>\n",
              "      <td>LOUDON</td>\n",
              "      <td>MRX</td>\n",
              "      <td>08-JUL-16 17:55:00</td>\n",
              "      <td>EST-5</td>\n",
              "      <td>08-JUL-16 17:55:00</td>\n",
              "      <td>0</td>\n",
              "      <td>0</td>\n",
              "      <td>0</td>\n",
              "      <td>0</td>\n",
              "      <td>NaN</td>\n",
              "      <td>NaN</td>\n",
              "      <td>Public</td>\n",
              "      <td>50.0</td>\n",
              "      <td>EG</td>\n",
              "      <td>NaN</td>\n",
              "      <td>NaN</td>\n",
              "      <td>NaN</td>\n",
              "      <td>NaN</td>\n",
              "      <td>NaN</td>\n",
              "      <td>NaN</td>\n",
              "      <td>NaN</td>\n",
              "      <td>NaN</td>\n",
              "      <td>NaN</td>\n",
              "      <td>1.0</td>\n",
              "      <td>W</td>\n",
              "      <td>JENA</td>\n",
              "      <td>1.0</td>\n",
              "      <td>W</td>\n",
              "      <td>JENA</td>\n",
              "      <td>35.65</td>\n",
              "      <td>-84.18</td>\n",
              "      <td>35.65</td>\n",
              "      <td>-84.18</td>\n",
              "      <td>The combination of summer heating and high low...</td>\n",
              "      <td>Numerous trees were reported down in the Green...</td>\n",
              "      <td>CSV</td>\n",
              "    </tr>\n",
              "    <tr>\n",
              "      <th>4</th>\n",
              "      <td>201607</td>\n",
              "      <td>8</td>\n",
              "      <td>1810</td>\n",
              "      <td>201607</td>\n",
              "      <td>8</td>\n",
              "      <td>1810</td>\n",
              "      <td>105872</td>\n",
              "      <td>635296</td>\n",
              "      <td>TENNESSEE</td>\n",
              "      <td>47</td>\n",
              "      <td>2016</td>\n",
              "      <td>July</td>\n",
              "      <td>Thunderstorm Wind</td>\n",
              "      <td>C</td>\n",
              "      <td>155</td>\n",
              "      <td>SEVIER</td>\n",
              "      <td>MRX</td>\n",
              "      <td>08-JUL-16 18:10:00</td>\n",
              "      <td>EST-5</td>\n",
              "      <td>08-JUL-16 18:10:00</td>\n",
              "      <td>0</td>\n",
              "      <td>0</td>\n",
              "      <td>0</td>\n",
              "      <td>0</td>\n",
              "      <td>NaN</td>\n",
              "      <td>NaN</td>\n",
              "      <td>State Official</td>\n",
              "      <td>60.0</td>\n",
              "      <td>EG</td>\n",
              "      <td>NaN</td>\n",
              "      <td>NaN</td>\n",
              "      <td>NaN</td>\n",
              "      <td>NaN</td>\n",
              "      <td>NaN</td>\n",
              "      <td>NaN</td>\n",
              "      <td>NaN</td>\n",
              "      <td>NaN</td>\n",
              "      <td>NaN</td>\n",
              "      <td>1.0</td>\n",
              "      <td>WSW</td>\n",
              "      <td>PITNER</td>\n",
              "      <td>1.0</td>\n",
              "      <td>WSW</td>\n",
              "      <td>PITNER</td>\n",
              "      <td>35.87</td>\n",
              "      <td>-83.77</td>\n",
              "      <td>35.87</td>\n",
              "      <td>-83.77</td>\n",
              "      <td>The combination of summer heating and high low...</td>\n",
              "      <td>Numerous trees were reported down in Seymour. ...</td>\n",
              "      <td>CSV</td>\n",
              "    </tr>\n",
              "  </tbody>\n",
              "</table>\n",
              "</div>"
            ],
            "text/plain": [
              "   BEGIN_YEARMONTH  ...  DATA_SOURCE\n",
              "0           201607  ...          CSV\n",
              "1           201607  ...          CSV\n",
              "2           201607  ...          CSV\n",
              "3           201607  ...          CSV\n",
              "4           201607  ...          CSV\n",
              "\n",
              "[5 rows x 51 columns]"
            ]
          },
          "metadata": {
            "tags": []
          },
          "execution_count": 113
        }
      ]
    },
    {
      "cell_type": "code",
      "metadata": {
        "id": "3BJorIMamqlB",
        "colab_type": "code",
        "colab": {}
      },
      "source": [
        "dfweather_data_2016 = weather_data_2016[['STATE','DAMAGE_PROPERTY']].copy()"
      ],
      "execution_count": 0,
      "outputs": []
    },
    {
      "cell_type": "code",
      "metadata": {
        "id": "eW9IS6DamtpA",
        "colab_type": "code",
        "colab": {}
      },
      "source": [
        "#dropping NaN values\n",
        "dfweather_data_2016 = dfweather_data_2016.dropna()"
      ],
      "execution_count": 0,
      "outputs": []
    },
    {
      "cell_type": "code",
      "metadata": {
        "id": "jOSrF5yImvKP",
        "colab_type": "code",
        "colab": {}
      },
      "source": [
        "DAMAGE_PROPERTY_2016 = dfweather_data_2016['DAMAGE_PROPERTY'].replace({'K': '*1e3', 'M': '*1e6', 'B': '1e9'}, regex=True).map(pd.eval).astype(int)"
      ],
      "execution_count": 0,
      "outputs": []
    },
    {
      "cell_type": "code",
      "metadata": {
        "id": "xSpduxaemxO_",
        "colab_type": "code",
        "colab": {}
      },
      "source": [
        "dfweather_data_2016['DAMAGE_PROPERTY'] = DAMAGE_PROPERTY_2016"
      ],
      "execution_count": 0,
      "outputs": []
    },
    {
      "cell_type": "markdown",
      "metadata": {
        "id": "WwJ5ShSjfqCD",
        "colab_type": "text"
      },
      "source": [
        "# **2017**"
      ]
    },
    {
      "cell_type": "code",
      "metadata": {
        "id": "b9HFGiUAn-vs",
        "colab_type": "code",
        "colab": {}
      },
      "source": [
        "Weather_url_2017 = \"https://www1.ncdc.noaa.gov/pub/data/swdi/stormevents/csvfiles/StormEvents_details-ftp_v1.0_d2017_c20200121.csv.gz\"\n",
        "#!curl https://www1.ncdc.noaa.gov/pub/data/swdi/stormevents/csvfiles/StormEvents_details-ftp_v1.0_d2017_c20200121.csv.gz"
      ],
      "execution_count": 0,
      "outputs": []
    },
    {
      "cell_type": "code",
      "metadata": {
        "id": "_Y6raUVVnhcr",
        "colab_type": "code",
        "outputId": "12f61f2b-4895-452a-fa13-21f20cfcd51a",
        "colab": {
          "base_uri": "https://localhost:8080/",
          "height": 34
        }
      },
      "source": [
        "weather_data_2017 = pd.read_csv(Weather_url_2017)\n",
        "weather_data_2017.shape"
      ],
      "execution_count": 0,
      "outputs": [
        {
          "output_type": "execute_result",
          "data": {
            "text/plain": [
              "(57024, 51)"
            ]
          },
          "metadata": {
            "tags": []
          },
          "execution_count": 119
        }
      ]
    },
    {
      "cell_type": "code",
      "metadata": {
        "id": "CYdxoLmjnnv2",
        "colab_type": "code",
        "outputId": "d59734bd-8aea-4f16-8fb0-d3f6df5182be",
        "colab": {
          "base_uri": "https://localhost:8080/",
          "height": 428
        }
      },
      "source": [
        "weather_data_2017.head()"
      ],
      "execution_count": 0,
      "outputs": [
        {
          "output_type": "execute_result",
          "data": {
            "text/html": [
              "<div>\n",
              "<style scoped>\n",
              "    .dataframe tbody tr th:only-of-type {\n",
              "        vertical-align: middle;\n",
              "    }\n",
              "\n",
              "    .dataframe tbody tr th {\n",
              "        vertical-align: top;\n",
              "    }\n",
              "\n",
              "    .dataframe thead th {\n",
              "        text-align: right;\n",
              "    }\n",
              "</style>\n",
              "<table border=\"1\" class=\"dataframe\">\n",
              "  <thead>\n",
              "    <tr style=\"text-align: right;\">\n",
              "      <th></th>\n",
              "      <th>BEGIN_YEARMONTH</th>\n",
              "      <th>BEGIN_DAY</th>\n",
              "      <th>BEGIN_TIME</th>\n",
              "      <th>END_YEARMONTH</th>\n",
              "      <th>END_DAY</th>\n",
              "      <th>END_TIME</th>\n",
              "      <th>EPISODE_ID</th>\n",
              "      <th>EVENT_ID</th>\n",
              "      <th>STATE</th>\n",
              "      <th>STATE_FIPS</th>\n",
              "      <th>YEAR</th>\n",
              "      <th>MONTH_NAME</th>\n",
              "      <th>EVENT_TYPE</th>\n",
              "      <th>CZ_TYPE</th>\n",
              "      <th>CZ_FIPS</th>\n",
              "      <th>CZ_NAME</th>\n",
              "      <th>WFO</th>\n",
              "      <th>BEGIN_DATE_TIME</th>\n",
              "      <th>CZ_TIMEZONE</th>\n",
              "      <th>END_DATE_TIME</th>\n",
              "      <th>INJURIES_DIRECT</th>\n",
              "      <th>INJURIES_INDIRECT</th>\n",
              "      <th>DEATHS_DIRECT</th>\n",
              "      <th>DEATHS_INDIRECT</th>\n",
              "      <th>DAMAGE_PROPERTY</th>\n",
              "      <th>DAMAGE_CROPS</th>\n",
              "      <th>SOURCE</th>\n",
              "      <th>MAGNITUDE</th>\n",
              "      <th>MAGNITUDE_TYPE</th>\n",
              "      <th>FLOOD_CAUSE</th>\n",
              "      <th>CATEGORY</th>\n",
              "      <th>TOR_F_SCALE</th>\n",
              "      <th>TOR_LENGTH</th>\n",
              "      <th>TOR_WIDTH</th>\n",
              "      <th>TOR_OTHER_WFO</th>\n",
              "      <th>TOR_OTHER_CZ_STATE</th>\n",
              "      <th>TOR_OTHER_CZ_FIPS</th>\n",
              "      <th>TOR_OTHER_CZ_NAME</th>\n",
              "      <th>BEGIN_RANGE</th>\n",
              "      <th>BEGIN_AZIMUTH</th>\n",
              "      <th>BEGIN_LOCATION</th>\n",
              "      <th>END_RANGE</th>\n",
              "      <th>END_AZIMUTH</th>\n",
              "      <th>END_LOCATION</th>\n",
              "      <th>BEGIN_LAT</th>\n",
              "      <th>BEGIN_LON</th>\n",
              "      <th>END_LAT</th>\n",
              "      <th>END_LON</th>\n",
              "      <th>EPISODE_NARRATIVE</th>\n",
              "      <th>EVENT_NARRATIVE</th>\n",
              "      <th>DATA_SOURCE</th>\n",
              "    </tr>\n",
              "  </thead>\n",
              "  <tbody>\n",
              "    <tr>\n",
              "      <th>0</th>\n",
              "      <td>201704</td>\n",
              "      <td>6</td>\n",
              "      <td>1509</td>\n",
              "      <td>201704</td>\n",
              "      <td>6</td>\n",
              "      <td>1509</td>\n",
              "      <td>113355</td>\n",
              "      <td>678791</td>\n",
              "      <td>NEW JERSEY</td>\n",
              "      <td>34</td>\n",
              "      <td>2017</td>\n",
              "      <td>April</td>\n",
              "      <td>Thunderstorm Wind</td>\n",
              "      <td>C</td>\n",
              "      <td>15</td>\n",
              "      <td>GLOUCESTER</td>\n",
              "      <td>PHI</td>\n",
              "      <td>06-APR-17 15:09:00</td>\n",
              "      <td>EST-5</td>\n",
              "      <td>06-APR-17 15:09:00</td>\n",
              "      <td>0</td>\n",
              "      <td>0</td>\n",
              "      <td>0</td>\n",
              "      <td>0</td>\n",
              "      <td>NaN</td>\n",
              "      <td>NaN</td>\n",
              "      <td>Trained Spotter</td>\n",
              "      <td>52.0</td>\n",
              "      <td>EG</td>\n",
              "      <td>NaN</td>\n",
              "      <td>NaN</td>\n",
              "      <td>NaN</td>\n",
              "      <td>NaN</td>\n",
              "      <td>NaN</td>\n",
              "      <td>NaN</td>\n",
              "      <td>NaN</td>\n",
              "      <td>NaN</td>\n",
              "      <td>NaN</td>\n",
              "      <td>1.0</td>\n",
              "      <td>NW</td>\n",
              "      <td>FRIES MILLS</td>\n",
              "      <td>1.0</td>\n",
              "      <td>NW</td>\n",
              "      <td>FRIES MILLS</td>\n",
              "      <td>39.6600</td>\n",
              "      <td>-75.0800</td>\n",
              "      <td>39.6600</td>\n",
              "      <td>-75.0800</td>\n",
              "      <td>Low pressure tracked from the Ohio Valley into...</td>\n",
              "      <td>A couple of trees were taken down due to thund...</td>\n",
              "      <td>CSV</td>\n",
              "    </tr>\n",
              "    <tr>\n",
              "      <th>1</th>\n",
              "      <td>201704</td>\n",
              "      <td>6</td>\n",
              "      <td>930</td>\n",
              "      <td>201704</td>\n",
              "      <td>6</td>\n",
              "      <td>940</td>\n",
              "      <td>113459</td>\n",
              "      <td>679228</td>\n",
              "      <td>FLORIDA</td>\n",
              "      <td>12</td>\n",
              "      <td>2017</td>\n",
              "      <td>April</td>\n",
              "      <td>Tornado</td>\n",
              "      <td>C</td>\n",
              "      <td>71</td>\n",
              "      <td>LEE</td>\n",
              "      <td>TBW</td>\n",
              "      <td>06-APR-17 09:30:00</td>\n",
              "      <td>EST-5</td>\n",
              "      <td>06-APR-17 09:40:00</td>\n",
              "      <td>1</td>\n",
              "      <td>0</td>\n",
              "      <td>0</td>\n",
              "      <td>0</td>\n",
              "      <td>110.00K</td>\n",
              "      <td>0.00K</td>\n",
              "      <td>Emergency Manager</td>\n",
              "      <td>NaN</td>\n",
              "      <td>NaN</td>\n",
              "      <td>NaN</td>\n",
              "      <td>NaN</td>\n",
              "      <td>EF0</td>\n",
              "      <td>7.43</td>\n",
              "      <td>20.0</td>\n",
              "      <td>NaN</td>\n",
              "      <td>NaN</td>\n",
              "      <td>NaN</td>\n",
              "      <td>NaN</td>\n",
              "      <td>1.0</td>\n",
              "      <td>S</td>\n",
              "      <td>PUNTA RASSA</td>\n",
              "      <td>1.0</td>\n",
              "      <td>SW</td>\n",
              "      <td>FORT MYERS VILLAS</td>\n",
              "      <td>26.5010</td>\n",
              "      <td>-81.9980</td>\n",
              "      <td>26.5339</td>\n",
              "      <td>-81.8836</td>\n",
              "      <td>A line of thunderstorms developed along a pref...</td>\n",
              "      <td>Emergency management reported and broadcast me...</td>\n",
              "      <td>CSV</td>\n",
              "    </tr>\n",
              "    <tr>\n",
              "      <th>2</th>\n",
              "      <td>201704</td>\n",
              "      <td>5</td>\n",
              "      <td>1749</td>\n",
              "      <td>201704</td>\n",
              "      <td>5</td>\n",
              "      <td>1753</td>\n",
              "      <td>113448</td>\n",
              "      <td>679268</td>\n",
              "      <td>OHIO</td>\n",
              "      <td>39</td>\n",
              "      <td>2017</td>\n",
              "      <td>April</td>\n",
              "      <td>Thunderstorm Wind</td>\n",
              "      <td>C</td>\n",
              "      <td>57</td>\n",
              "      <td>GREENE</td>\n",
              "      <td>ILN</td>\n",
              "      <td>05-APR-17 17:49:00</td>\n",
              "      <td>EST-5</td>\n",
              "      <td>05-APR-17 17:53:00</td>\n",
              "      <td>0</td>\n",
              "      <td>0</td>\n",
              "      <td>0</td>\n",
              "      <td>0</td>\n",
              "      <td>1.00K</td>\n",
              "      <td>0.00K</td>\n",
              "      <td>Amateur Radio</td>\n",
              "      <td>50.0</td>\n",
              "      <td>EG</td>\n",
              "      <td>NaN</td>\n",
              "      <td>NaN</td>\n",
              "      <td>NaN</td>\n",
              "      <td>NaN</td>\n",
              "      <td>NaN</td>\n",
              "      <td>NaN</td>\n",
              "      <td>NaN</td>\n",
              "      <td>NaN</td>\n",
              "      <td>NaN</td>\n",
              "      <td>3.0</td>\n",
              "      <td>NE</td>\n",
              "      <td>FAIRBORN</td>\n",
              "      <td>3.0</td>\n",
              "      <td>NE</td>\n",
              "      <td>FAIRBORN</td>\n",
              "      <td>39.8500</td>\n",
              "      <td>-83.9900</td>\n",
              "      <td>39.8500</td>\n",
              "      <td>-83.9900</td>\n",
              "      <td>Showers and thunderstorms developed ahead of a...</td>\n",
              "      <td>An entire tree was uprooted in a yard on Dayto...</td>\n",
              "      <td>CSV</td>\n",
              "    </tr>\n",
              "    <tr>\n",
              "      <th>3</th>\n",
              "      <td>201704</td>\n",
              "      <td>16</td>\n",
              "      <td>1759</td>\n",
              "      <td>201704</td>\n",
              "      <td>16</td>\n",
              "      <td>1900</td>\n",
              "      <td>113697</td>\n",
              "      <td>682042</td>\n",
              "      <td>OHIO</td>\n",
              "      <td>39</td>\n",
              "      <td>2017</td>\n",
              "      <td>April</td>\n",
              "      <td>Flood</td>\n",
              "      <td>C</td>\n",
              "      <td>25</td>\n",
              "      <td>CLERMONT</td>\n",
              "      <td>ILN</td>\n",
              "      <td>16-APR-17 17:59:00</td>\n",
              "      <td>EST-5</td>\n",
              "      <td>16-APR-17 19:00:00</td>\n",
              "      <td>0</td>\n",
              "      <td>0</td>\n",
              "      <td>0</td>\n",
              "      <td>0</td>\n",
              "      <td>5.00K</td>\n",
              "      <td>0.00K</td>\n",
              "      <td>Public</td>\n",
              "      <td>NaN</td>\n",
              "      <td>NaN</td>\n",
              "      <td>Heavy Rain</td>\n",
              "      <td>NaN</td>\n",
              "      <td>NaN</td>\n",
              "      <td>NaN</td>\n",
              "      <td>NaN</td>\n",
              "      <td>NaN</td>\n",
              "      <td>NaN</td>\n",
              "      <td>NaN</td>\n",
              "      <td>NaN</td>\n",
              "      <td>1.0</td>\n",
              "      <td>NW</td>\n",
              "      <td>SUMMERSIDE</td>\n",
              "      <td>1.0</td>\n",
              "      <td>NW</td>\n",
              "      <td>SUMMERSIDE</td>\n",
              "      <td>39.1065</td>\n",
              "      <td>-84.2875</td>\n",
              "      <td>39.1061</td>\n",
              "      <td>-84.2874</td>\n",
              "      <td>Thunderstorms with very heavy rain developed a...</td>\n",
              "      <td>Garage of a home was flooded by high water.</td>\n",
              "      <td>CSV</td>\n",
              "    </tr>\n",
              "    <tr>\n",
              "      <th>4</th>\n",
              "      <td>201704</td>\n",
              "      <td>15</td>\n",
              "      <td>1550</td>\n",
              "      <td>201704</td>\n",
              "      <td>15</td>\n",
              "      <td>1550</td>\n",
              "      <td>113683</td>\n",
              "      <td>682062</td>\n",
              "      <td>NEBRASKA</td>\n",
              "      <td>31</td>\n",
              "      <td>2017</td>\n",
              "      <td>April</td>\n",
              "      <td>Hail</td>\n",
              "      <td>C</td>\n",
              "      <td>25</td>\n",
              "      <td>CASS</td>\n",
              "      <td>OAX</td>\n",
              "      <td>15-APR-17 15:50:00</td>\n",
              "      <td>CST-6</td>\n",
              "      <td>15-APR-17 15:50:00</td>\n",
              "      <td>0</td>\n",
              "      <td>0</td>\n",
              "      <td>0</td>\n",
              "      <td>0</td>\n",
              "      <td>0.00K</td>\n",
              "      <td>0.00K</td>\n",
              "      <td>Trained Spotter</td>\n",
              "      <td>1.5</td>\n",
              "      <td>NaN</td>\n",
              "      <td>NaN</td>\n",
              "      <td>NaN</td>\n",
              "      <td>NaN</td>\n",
              "      <td>NaN</td>\n",
              "      <td>NaN</td>\n",
              "      <td>NaN</td>\n",
              "      <td>NaN</td>\n",
              "      <td>NaN</td>\n",
              "      <td>NaN</td>\n",
              "      <td>2.0</td>\n",
              "      <td>ENE</td>\n",
              "      <td>COLE ARPT</td>\n",
              "      <td>2.0</td>\n",
              "      <td>ENE</td>\n",
              "      <td>COLE ARPT</td>\n",
              "      <td>40.9800</td>\n",
              "      <td>-95.8900</td>\n",
              "      <td>40.9800</td>\n",
              "      <td>-95.8900</td>\n",
              "      <td>An upper level storm system moved into Nebrask...</td>\n",
              "      <td>NaN</td>\n",
              "      <td>CSV</td>\n",
              "    </tr>\n",
              "  </tbody>\n",
              "</table>\n",
              "</div>"
            ],
            "text/plain": [
              "   BEGIN_YEARMONTH  ...  DATA_SOURCE\n",
              "0           201704  ...          CSV\n",
              "1           201704  ...          CSV\n",
              "2           201704  ...          CSV\n",
              "3           201704  ...          CSV\n",
              "4           201704  ...          CSV\n",
              "\n",
              "[5 rows x 51 columns]"
            ]
          },
          "metadata": {
            "tags": []
          },
          "execution_count": 120
        }
      ]
    },
    {
      "cell_type": "code",
      "metadata": {
        "id": "-WL_wWsfnplF",
        "colab_type": "code",
        "colab": {}
      },
      "source": [
        "dfweather_data_2017 = weather_data_2017[['STATE','DAMAGE_PROPERTY']].copy()"
      ],
      "execution_count": 0,
      "outputs": []
    },
    {
      "cell_type": "code",
      "metadata": {
        "id": "7Mq82ZgDnuNt",
        "colab_type": "code",
        "colab": {}
      },
      "source": [
        "#dropping NaN values\n",
        "dfweather_data_2017 = dfweather_data_2017.dropna()"
      ],
      "execution_count": 0,
      "outputs": []
    },
    {
      "cell_type": "code",
      "metadata": {
        "id": "uqm7ifw7ny5W",
        "colab_type": "code",
        "colab": {}
      },
      "source": [
        "DAMAGE_PROPERTY_2017 = dfweather_data_2017['DAMAGE_PROPERTY'].replace({'K': '*1e3', 'M': '*1e6', 'B': '1e9'}, regex=True).map(pd.eval).astype(int)"
      ],
      "execution_count": 0,
      "outputs": []
    },
    {
      "cell_type": "code",
      "metadata": {
        "id": "P7q-Op3Mn4UF",
        "colab_type": "code",
        "colab": {}
      },
      "source": [
        "dfweather_data_2017['DAMAGE_PROPERTY'] = DAMAGE_PROPERTY_2017"
      ],
      "execution_count": 0,
      "outputs": []
    },
    {
      "cell_type": "markdown",
      "metadata": {
        "id": "cPzJW7icfr6D",
        "colab_type": "text"
      },
      "source": [
        "# **2018**"
      ]
    },
    {
      "cell_type": "code",
      "metadata": {
        "id": "t28jFsKcpIhs",
        "colab_type": "code",
        "colab": {}
      },
      "source": [
        "Weather_url_2018 = \"https://www1.ncdc.noaa.gov/pub/data/swdi/stormevents/csvfiles/StormEvents_details-ftp_v1.0_d2018_c20200219.csv.gz\"\n",
        "#!curl https://www1.ncdc.noaa.gov/pub/data/swdi/stormevents/csvfiles/StormEvents_details-ftp_v1.0_d2018_c20200219.csv.gz"
      ],
      "execution_count": 0,
      "outputs": []
    },
    {
      "cell_type": "code",
      "metadata": {
        "id": "BWulbf0DpMCx",
        "colab_type": "code",
        "outputId": "1c871806-e916-4e9f-ec69-ec3585d0ab70",
        "colab": {
          "base_uri": "https://localhost:8080/",
          "height": 34
        }
      },
      "source": [
        "weather_data_2018 = pd.read_csv(Weather_url_2018)\n",
        "weather_data_2018.shape"
      ],
      "execution_count": 0,
      "outputs": [
        {
          "output_type": "execute_result",
          "data": {
            "text/plain": [
              "(62675, 51)"
            ]
          },
          "metadata": {
            "tags": []
          },
          "execution_count": 191
        }
      ]
    },
    {
      "cell_type": "code",
      "metadata": {
        "id": "ldXK6TK4pQlp",
        "colab_type": "code",
        "outputId": "8616921c-1342-4ced-aae7-54a74be546bf",
        "colab": {
          "base_uri": "https://localhost:8080/",
          "height": 428
        }
      },
      "source": [
        "weather_data_2018.head()"
      ],
      "execution_count": 0,
      "outputs": [
        {
          "output_type": "execute_result",
          "data": {
            "text/html": [
              "<div>\n",
              "<style scoped>\n",
              "    .dataframe tbody tr th:only-of-type {\n",
              "        vertical-align: middle;\n",
              "    }\n",
              "\n",
              "    .dataframe tbody tr th {\n",
              "        vertical-align: top;\n",
              "    }\n",
              "\n",
              "    .dataframe thead th {\n",
              "        text-align: right;\n",
              "    }\n",
              "</style>\n",
              "<table border=\"1\" class=\"dataframe\">\n",
              "  <thead>\n",
              "    <tr style=\"text-align: right;\">\n",
              "      <th></th>\n",
              "      <th>BEGIN_YEARMONTH</th>\n",
              "      <th>BEGIN_DAY</th>\n",
              "      <th>BEGIN_TIME</th>\n",
              "      <th>END_YEARMONTH</th>\n",
              "      <th>END_DAY</th>\n",
              "      <th>END_TIME</th>\n",
              "      <th>EPISODE_ID</th>\n",
              "      <th>EVENT_ID</th>\n",
              "      <th>STATE</th>\n",
              "      <th>STATE_FIPS</th>\n",
              "      <th>YEAR</th>\n",
              "      <th>MONTH_NAME</th>\n",
              "      <th>EVENT_TYPE</th>\n",
              "      <th>CZ_TYPE</th>\n",
              "      <th>CZ_FIPS</th>\n",
              "      <th>CZ_NAME</th>\n",
              "      <th>WFO</th>\n",
              "      <th>BEGIN_DATE_TIME</th>\n",
              "      <th>CZ_TIMEZONE</th>\n",
              "      <th>END_DATE_TIME</th>\n",
              "      <th>INJURIES_DIRECT</th>\n",
              "      <th>INJURIES_INDIRECT</th>\n",
              "      <th>DEATHS_DIRECT</th>\n",
              "      <th>DEATHS_INDIRECT</th>\n",
              "      <th>DAMAGE_PROPERTY</th>\n",
              "      <th>DAMAGE_CROPS</th>\n",
              "      <th>SOURCE</th>\n",
              "      <th>MAGNITUDE</th>\n",
              "      <th>MAGNITUDE_TYPE</th>\n",
              "      <th>FLOOD_CAUSE</th>\n",
              "      <th>CATEGORY</th>\n",
              "      <th>TOR_F_SCALE</th>\n",
              "      <th>TOR_LENGTH</th>\n",
              "      <th>TOR_WIDTH</th>\n",
              "      <th>TOR_OTHER_WFO</th>\n",
              "      <th>TOR_OTHER_CZ_STATE</th>\n",
              "      <th>TOR_OTHER_CZ_FIPS</th>\n",
              "      <th>TOR_OTHER_CZ_NAME</th>\n",
              "      <th>BEGIN_RANGE</th>\n",
              "      <th>BEGIN_AZIMUTH</th>\n",
              "      <th>BEGIN_LOCATION</th>\n",
              "      <th>END_RANGE</th>\n",
              "      <th>END_AZIMUTH</th>\n",
              "      <th>END_LOCATION</th>\n",
              "      <th>BEGIN_LAT</th>\n",
              "      <th>BEGIN_LON</th>\n",
              "      <th>END_LAT</th>\n",
              "      <th>END_LON</th>\n",
              "      <th>EPISODE_NARRATIVE</th>\n",
              "      <th>EVENT_NARRATIVE</th>\n",
              "      <th>DATA_SOURCE</th>\n",
              "    </tr>\n",
              "  </thead>\n",
              "  <tbody>\n",
              "    <tr>\n",
              "      <th>0</th>\n",
              "      <td>201806</td>\n",
              "      <td>6</td>\n",
              "      <td>1810</td>\n",
              "      <td>201806</td>\n",
              "      <td>6</td>\n",
              "      <td>1810</td>\n",
              "      <td>125578</td>\n",
              "      <td>753161</td>\n",
              "      <td>NEBRASKA</td>\n",
              "      <td>31</td>\n",
              "      <td>2018</td>\n",
              "      <td>June</td>\n",
              "      <td>Hail</td>\n",
              "      <td>C</td>\n",
              "      <td>69</td>\n",
              "      <td>GARDEN</td>\n",
              "      <td>LBF</td>\n",
              "      <td>06-JUN-18 18:10:00</td>\n",
              "      <td>MST-7</td>\n",
              "      <td>06-JUN-18 18:10:00</td>\n",
              "      <td>0</td>\n",
              "      <td>0</td>\n",
              "      <td>0</td>\n",
              "      <td>0</td>\n",
              "      <td>0.00K</td>\n",
              "      <td>0.00K</td>\n",
              "      <td>Public</td>\n",
              "      <td>1.00</td>\n",
              "      <td>NaN</td>\n",
              "      <td>NaN</td>\n",
              "      <td>NaN</td>\n",
              "      <td>NaN</td>\n",
              "      <td>NaN</td>\n",
              "      <td>NaN</td>\n",
              "      <td>NaN</td>\n",
              "      <td>NaN</td>\n",
              "      <td>NaN</td>\n",
              "      <td>NaN</td>\n",
              "      <td>36.0</td>\n",
              "      <td>N</td>\n",
              "      <td>OSHKOSH</td>\n",
              "      <td>36.0</td>\n",
              "      <td>N</td>\n",
              "      <td>OSHKOSH</td>\n",
              "      <td>41.9300</td>\n",
              "      <td>-102.2100</td>\n",
              "      <td>41.9300</td>\n",
              "      <td>-102.2100</td>\n",
              "      <td>Severe storms developed in the Nebraska Panhan...</td>\n",
              "      <td>Hail predominately penny size with some quarte...</td>\n",
              "      <td>CSV</td>\n",
              "    </tr>\n",
              "    <tr>\n",
              "      <th>1</th>\n",
              "      <td>201806</td>\n",
              "      <td>6</td>\n",
              "      <td>1741</td>\n",
              "      <td>201806</td>\n",
              "      <td>6</td>\n",
              "      <td>1741</td>\n",
              "      <td>125578</td>\n",
              "      <td>753160</td>\n",
              "      <td>NEBRASKA</td>\n",
              "      <td>31</td>\n",
              "      <td>2018</td>\n",
              "      <td>June</td>\n",
              "      <td>Hail</td>\n",
              "      <td>C</td>\n",
              "      <td>161</td>\n",
              "      <td>SHERIDAN</td>\n",
              "      <td>LBF</td>\n",
              "      <td>06-JUN-18 17:41:00</td>\n",
              "      <td>MST-7</td>\n",
              "      <td>06-JUN-18 17:41:00</td>\n",
              "      <td>0</td>\n",
              "      <td>0</td>\n",
              "      <td>0</td>\n",
              "      <td>0</td>\n",
              "      <td>0.00K</td>\n",
              "      <td>0.00K</td>\n",
              "      <td>Trained Spotter</td>\n",
              "      <td>1.25</td>\n",
              "      <td>NaN</td>\n",
              "      <td>NaN</td>\n",
              "      <td>NaN</td>\n",
              "      <td>NaN</td>\n",
              "      <td>NaN</td>\n",
              "      <td>NaN</td>\n",
              "      <td>NaN</td>\n",
              "      <td>NaN</td>\n",
              "      <td>NaN</td>\n",
              "      <td>NaN</td>\n",
              "      <td>1.0</td>\n",
              "      <td>NW</td>\n",
              "      <td>BINGHAM</td>\n",
              "      <td>1.0</td>\n",
              "      <td>NW</td>\n",
              "      <td>BINGHAM</td>\n",
              "      <td>42.0300</td>\n",
              "      <td>-102.1000</td>\n",
              "      <td>42.0300</td>\n",
              "      <td>-102.1000</td>\n",
              "      <td>Severe storms developed in the Nebraska Panhan...</td>\n",
              "      <td>Hail mainly quarter size with some half dollar...</td>\n",
              "      <td>CSV</td>\n",
              "    </tr>\n",
              "    <tr>\n",
              "      <th>2</th>\n",
              "      <td>201806</td>\n",
              "      <td>30</td>\n",
              "      <td>2330</td>\n",
              "      <td>201806</td>\n",
              "      <td>30</td>\n",
              "      <td>2332</td>\n",
              "      <td>125988</td>\n",
              "      <td>755273</td>\n",
              "      <td>VERMONT</td>\n",
              "      <td>50</td>\n",
              "      <td>2018</td>\n",
              "      <td>June</td>\n",
              "      <td>Thunderstorm Wind</td>\n",
              "      <td>C</td>\n",
              "      <td>11</td>\n",
              "      <td>FRANKLIN</td>\n",
              "      <td>BTV</td>\n",
              "      <td>30-JUN-18 23:30:00</td>\n",
              "      <td>EST-5</td>\n",
              "      <td>30-JUN-18 23:32:00</td>\n",
              "      <td>0</td>\n",
              "      <td>0</td>\n",
              "      <td>0</td>\n",
              "      <td>0</td>\n",
              "      <td>15.00K</td>\n",
              "      <td>0.00K</td>\n",
              "      <td>Park/Forest Service</td>\n",
              "      <td>60.00</td>\n",
              "      <td>EG</td>\n",
              "      <td>NaN</td>\n",
              "      <td>NaN</td>\n",
              "      <td>NaN</td>\n",
              "      <td>NaN</td>\n",
              "      <td>NaN</td>\n",
              "      <td>NaN</td>\n",
              "      <td>NaN</td>\n",
              "      <td>NaN</td>\n",
              "      <td>NaN</td>\n",
              "      <td>3.0</td>\n",
              "      <td>WSW</td>\n",
              "      <td>WEST BERKSHIRE</td>\n",
              "      <td>3.0</td>\n",
              "      <td>WSW</td>\n",
              "      <td>WEST BERKSHIRE</td>\n",
              "      <td>44.9565</td>\n",
              "      <td>-72.8699</td>\n",
              "      <td>44.9565</td>\n",
              "      <td>-72.8699</td>\n",
              "      <td>Vermont and northern NY influenced by heat rid...</td>\n",
              "      <td>Numerous trees downed by thunderstorm winds.</td>\n",
              "      <td>CSV</td>\n",
              "    </tr>\n",
              "    <tr>\n",
              "      <th>3</th>\n",
              "      <td>201806</td>\n",
              "      <td>30</td>\n",
              "      <td>2345</td>\n",
              "      <td>201806</td>\n",
              "      <td>30</td>\n",
              "      <td>2345</td>\n",
              "      <td>125988</td>\n",
              "      <td>755929</td>\n",
              "      <td>VERMONT</td>\n",
              "      <td>50</td>\n",
              "      <td>2018</td>\n",
              "      <td>June</td>\n",
              "      <td>Thunderstorm Wind</td>\n",
              "      <td>C</td>\n",
              "      <td>15</td>\n",
              "      <td>LAMOILLE</td>\n",
              "      <td>BTV</td>\n",
              "      <td>30-JUN-18 23:45:00</td>\n",
              "      <td>EST-5</td>\n",
              "      <td>30-JUN-18 23:45:00</td>\n",
              "      <td>0</td>\n",
              "      <td>0</td>\n",
              "      <td>0</td>\n",
              "      <td>0</td>\n",
              "      <td>10.00K</td>\n",
              "      <td>0.00K</td>\n",
              "      <td>Public</td>\n",
              "      <td>55.00</td>\n",
              "      <td>EG</td>\n",
              "      <td>NaN</td>\n",
              "      <td>NaN</td>\n",
              "      <td>NaN</td>\n",
              "      <td>NaN</td>\n",
              "      <td>NaN</td>\n",
              "      <td>NaN</td>\n",
              "      <td>NaN</td>\n",
              "      <td>NaN</td>\n",
              "      <td>NaN</td>\n",
              "      <td>0.0</td>\n",
              "      <td>NE</td>\n",
              "      <td>BELVIDERE JCT</td>\n",
              "      <td>0.0</td>\n",
              "      <td>NE</td>\n",
              "      <td>BELVIDERE JCT</td>\n",
              "      <td>44.7316</td>\n",
              "      <td>-72.7474</td>\n",
              "      <td>44.7316</td>\n",
              "      <td>-72.7474</td>\n",
              "      <td>Vermont and northern NY influenced by heat rid...</td>\n",
              "      <td>At least half dozen trees downed or snapped al...</td>\n",
              "      <td>CSV</td>\n",
              "    </tr>\n",
              "    <tr>\n",
              "      <th>4</th>\n",
              "      <td>201806</td>\n",
              "      <td>6</td>\n",
              "      <td>1824</td>\n",
              "      <td>201806</td>\n",
              "      <td>6</td>\n",
              "      <td>1824</td>\n",
              "      <td>125578</td>\n",
              "      <td>753163</td>\n",
              "      <td>NEBRASKA</td>\n",
              "      <td>31</td>\n",
              "      <td>2018</td>\n",
              "      <td>June</td>\n",
              "      <td>Tornado</td>\n",
              "      <td>C</td>\n",
              "      <td>135</td>\n",
              "      <td>PERKINS</td>\n",
              "      <td>LBF</td>\n",
              "      <td>06-JUN-18 18:24:00</td>\n",
              "      <td>MST-7</td>\n",
              "      <td>06-JUN-18 18:24:00</td>\n",
              "      <td>0</td>\n",
              "      <td>0</td>\n",
              "      <td>0</td>\n",
              "      <td>0</td>\n",
              "      <td>0.00K</td>\n",
              "      <td>0.00K</td>\n",
              "      <td>NWS Storm Survey</td>\n",
              "      <td>NaN</td>\n",
              "      <td>NaN</td>\n",
              "      <td>NaN</td>\n",
              "      <td>NaN</td>\n",
              "      <td>EF0</td>\n",
              "      <td>0.1</td>\n",
              "      <td>10.0</td>\n",
              "      <td>NaN</td>\n",
              "      <td>NaN</td>\n",
              "      <td>NaN</td>\n",
              "      <td>NaN</td>\n",
              "      <td>5.0</td>\n",
              "      <td>NW</td>\n",
              "      <td>GRANT</td>\n",
              "      <td>5.0</td>\n",
              "      <td>NW</td>\n",
              "      <td>GRANT</td>\n",
              "      <td>40.9000</td>\n",
              "      <td>-101.7900</td>\n",
              "      <td>40.9000</td>\n",
              "      <td>-101.7900</td>\n",
              "      <td>Severe storms developed in the Nebraska Panhan...</td>\n",
              "      <td>Tornado briefly touched down in a field 5 mile...</td>\n",
              "      <td>CSV</td>\n",
              "    </tr>\n",
              "  </tbody>\n",
              "</table>\n",
              "</div>"
            ],
            "text/plain": [
              "   BEGIN_YEARMONTH  ...  DATA_SOURCE\n",
              "0           201806  ...          CSV\n",
              "1           201806  ...          CSV\n",
              "2           201806  ...          CSV\n",
              "3           201806  ...          CSV\n",
              "4           201806  ...          CSV\n",
              "\n",
              "[5 rows x 51 columns]"
            ]
          },
          "metadata": {
            "tags": []
          },
          "execution_count": 192
        }
      ]
    },
    {
      "cell_type": "code",
      "metadata": {
        "id": "KUWH5Q48pXDN",
        "colab_type": "code",
        "colab": {}
      },
      "source": [
        "dfweather_data_2018 = weather_data_2018[['STATE','DAMAGE_PROPERTY']].copy()"
      ],
      "execution_count": 0,
      "outputs": []
    },
    {
      "cell_type": "code",
      "metadata": {
        "id": "h8odKMRNpa0K",
        "colab_type": "code",
        "colab": {}
      },
      "source": [
        "#dropping NaN values\n",
        "dfweather_data_2018 = dfweather_data_2018.dropna()"
      ],
      "execution_count": 0,
      "outputs": []
    },
    {
      "cell_type": "code",
      "metadata": {
        "id": "rcKN9lB6pfEx",
        "colab_type": "code",
        "colab": {}
      },
      "source": [
        "DAMAGE_PROPERTY_2018 = dfweather_data_2018['DAMAGE_PROPERTY'].replace({'K': '*1e3', 'M': '*1e6', 'B': '1e9'}, regex=True).map(pd.eval).astype(int)"
      ],
      "execution_count": 0,
      "outputs": []
    },
    {
      "cell_type": "code",
      "metadata": {
        "id": "PHm2rwgRpjbq",
        "colab_type": "code",
        "colab": {}
      },
      "source": [
        "dfweather_data_2018['DAMAGE_PROPERTY'] = DAMAGE_PROPERTY_2018"
      ],
      "execution_count": 0,
      "outputs": []
    },
    {
      "cell_type": "markdown",
      "metadata": {
        "id": "oG6zcQpcft6j",
        "colab_type": "text"
      },
      "source": [
        "# **2019**"
      ]
    },
    {
      "cell_type": "code",
      "metadata": {
        "id": "JLcipo7ep_6F",
        "colab_type": "code",
        "colab": {}
      },
      "source": [
        "Weather_url_2019 = \"https://www1.ncdc.noaa.gov/pub/data/swdi/stormevents/csvfiles/StormEvents_details-ftp_v1.0_d2019_c20200219.csv.gz\"\n",
        "#!curl https://www1.ncdc.noaa.gov/pub/data/swdi/stormevents/csvfiles/StormEvents_details-ftp_v1.0_d2019_c20200219.csv.gz"
      ],
      "execution_count": 0,
      "outputs": []
    },
    {
      "cell_type": "code",
      "metadata": {
        "id": "PAZyQRaQsHsQ",
        "colab_type": "code",
        "outputId": "0aa84574-5e2d-47e4-baa1-99d95737a0c0",
        "colab": {
          "base_uri": "https://localhost:8080/",
          "height": 34
        }
      },
      "source": [
        "weather_data_2019 = pd.read_csv(Weather_url_2019)\n",
        "weather_data_2019.shape"
      ],
      "execution_count": 0,
      "outputs": [
        {
          "output_type": "execute_result",
          "data": {
            "text/plain": [
              "(64439, 51)"
            ]
          },
          "metadata": {
            "tags": []
          },
          "execution_count": 133
        }
      ]
    },
    {
      "cell_type": "code",
      "metadata": {
        "id": "l1oCnLWPsMVk",
        "colab_type": "code",
        "outputId": "30a40ef1-baac-437f-bf7d-02266aea133b",
        "colab": {
          "base_uri": "https://localhost:8080/",
          "height": 428
        }
      },
      "source": [
        "weather_data_2019.head()"
      ],
      "execution_count": 0,
      "outputs": [
        {
          "output_type": "execute_result",
          "data": {
            "text/html": [
              "<div>\n",
              "<style scoped>\n",
              "    .dataframe tbody tr th:only-of-type {\n",
              "        vertical-align: middle;\n",
              "    }\n",
              "\n",
              "    .dataframe tbody tr th {\n",
              "        vertical-align: top;\n",
              "    }\n",
              "\n",
              "    .dataframe thead th {\n",
              "        text-align: right;\n",
              "    }\n",
              "</style>\n",
              "<table border=\"1\" class=\"dataframe\">\n",
              "  <thead>\n",
              "    <tr style=\"text-align: right;\">\n",
              "      <th></th>\n",
              "      <th>BEGIN_YEARMONTH</th>\n",
              "      <th>BEGIN_DAY</th>\n",
              "      <th>BEGIN_TIME</th>\n",
              "      <th>END_YEARMONTH</th>\n",
              "      <th>END_DAY</th>\n",
              "      <th>END_TIME</th>\n",
              "      <th>EPISODE_ID</th>\n",
              "      <th>EVENT_ID</th>\n",
              "      <th>STATE</th>\n",
              "      <th>STATE_FIPS</th>\n",
              "      <th>YEAR</th>\n",
              "      <th>MONTH_NAME</th>\n",
              "      <th>EVENT_TYPE</th>\n",
              "      <th>CZ_TYPE</th>\n",
              "      <th>CZ_FIPS</th>\n",
              "      <th>CZ_NAME</th>\n",
              "      <th>WFO</th>\n",
              "      <th>BEGIN_DATE_TIME</th>\n",
              "      <th>CZ_TIMEZONE</th>\n",
              "      <th>END_DATE_TIME</th>\n",
              "      <th>INJURIES_DIRECT</th>\n",
              "      <th>INJURIES_INDIRECT</th>\n",
              "      <th>DEATHS_DIRECT</th>\n",
              "      <th>DEATHS_INDIRECT</th>\n",
              "      <th>DAMAGE_PROPERTY</th>\n",
              "      <th>DAMAGE_CROPS</th>\n",
              "      <th>SOURCE</th>\n",
              "      <th>MAGNITUDE</th>\n",
              "      <th>MAGNITUDE_TYPE</th>\n",
              "      <th>FLOOD_CAUSE</th>\n",
              "      <th>CATEGORY</th>\n",
              "      <th>TOR_F_SCALE</th>\n",
              "      <th>TOR_LENGTH</th>\n",
              "      <th>TOR_WIDTH</th>\n",
              "      <th>TOR_OTHER_WFO</th>\n",
              "      <th>TOR_OTHER_CZ_STATE</th>\n",
              "      <th>TOR_OTHER_CZ_FIPS</th>\n",
              "      <th>TOR_OTHER_CZ_NAME</th>\n",
              "      <th>BEGIN_RANGE</th>\n",
              "      <th>BEGIN_AZIMUTH</th>\n",
              "      <th>BEGIN_LOCATION</th>\n",
              "      <th>END_RANGE</th>\n",
              "      <th>END_AZIMUTH</th>\n",
              "      <th>END_LOCATION</th>\n",
              "      <th>BEGIN_LAT</th>\n",
              "      <th>BEGIN_LON</th>\n",
              "      <th>END_LAT</th>\n",
              "      <th>END_LON</th>\n",
              "      <th>EPISODE_NARRATIVE</th>\n",
              "      <th>EVENT_NARRATIVE</th>\n",
              "      <th>DATA_SOURCE</th>\n",
              "    </tr>\n",
              "  </thead>\n",
              "  <tbody>\n",
              "    <tr>\n",
              "      <th>0</th>\n",
              "      <td>201905</td>\n",
              "      <td>9</td>\n",
              "      <td>1554</td>\n",
              "      <td>201905</td>\n",
              "      <td>9</td>\n",
              "      <td>1830</td>\n",
              "      <td>137295</td>\n",
              "      <td>824116</td>\n",
              "      <td>TEXAS</td>\n",
              "      <td>48</td>\n",
              "      <td>2019</td>\n",
              "      <td>May</td>\n",
              "      <td>Flash Flood</td>\n",
              "      <td>C</td>\n",
              "      <td>29</td>\n",
              "      <td>BEXAR</td>\n",
              "      <td>EWX</td>\n",
              "      <td>09-MAY-19 15:54:00</td>\n",
              "      <td>CST-6</td>\n",
              "      <td>09-MAY-19 18:30:00</td>\n",
              "      <td>0</td>\n",
              "      <td>0</td>\n",
              "      <td>0</td>\n",
              "      <td>0</td>\n",
              "      <td>0.00K</td>\n",
              "      <td>0.00K</td>\n",
              "      <td>Law Enforcement</td>\n",
              "      <td>NaN</td>\n",
              "      <td>NaN</td>\n",
              "      <td>Heavy Rain</td>\n",
              "      <td>NaN</td>\n",
              "      <td>NaN</td>\n",
              "      <td>NaN</td>\n",
              "      <td>NaN</td>\n",
              "      <td>NaN</td>\n",
              "      <td>NaN</td>\n",
              "      <td>NaN</td>\n",
              "      <td>NaN</td>\n",
              "      <td>8.0</td>\n",
              "      <td>N</td>\n",
              "      <td>LEON SPGS</td>\n",
              "      <td>7.0</td>\n",
              "      <td>NNE</td>\n",
              "      <td>SAN GERONIMO</td>\n",
              "      <td>29.7898</td>\n",
              "      <td>-98.6406</td>\n",
              "      <td>29.7158</td>\n",
              "      <td>-98.7744</td>\n",
              "      <td>Thunderstorms developed along a cold front as ...</td>\n",
              "      <td>Thunderstorms produced heavy rain that led to ...</td>\n",
              "      <td>CSV</td>\n",
              "    </tr>\n",
              "    <tr>\n",
              "      <th>1</th>\n",
              "      <td>201907</td>\n",
              "      <td>15</td>\n",
              "      <td>1640</td>\n",
              "      <td>201907</td>\n",
              "      <td>15</td>\n",
              "      <td>1641</td>\n",
              "      <td>140217</td>\n",
              "      <td>843354</td>\n",
              "      <td>MINNESOTA</td>\n",
              "      <td>27</td>\n",
              "      <td>2019</td>\n",
              "      <td>July</td>\n",
              "      <td>Thunderstorm Wind</td>\n",
              "      <td>C</td>\n",
              "      <td>115</td>\n",
              "      <td>PINE</td>\n",
              "      <td>DLH</td>\n",
              "      <td>15-JUL-19 16:40:00</td>\n",
              "      <td>CST-6</td>\n",
              "      <td>15-JUL-19 16:41:00</td>\n",
              "      <td>0</td>\n",
              "      <td>0</td>\n",
              "      <td>0</td>\n",
              "      <td>0</td>\n",
              "      <td>0.00K</td>\n",
              "      <td>0.00K</td>\n",
              "      <td>Trained Spotter</td>\n",
              "      <td>50.0</td>\n",
              "      <td>EG</td>\n",
              "      <td>NaN</td>\n",
              "      <td>NaN</td>\n",
              "      <td>NaN</td>\n",
              "      <td>NaN</td>\n",
              "      <td>NaN</td>\n",
              "      <td>NaN</td>\n",
              "      <td>NaN</td>\n",
              "      <td>NaN</td>\n",
              "      <td>NaN</td>\n",
              "      <td>5.0</td>\n",
              "      <td>E</td>\n",
              "      <td>ROCK CREEK</td>\n",
              "      <td>5.0</td>\n",
              "      <td>E</td>\n",
              "      <td>ROCK CREEK</td>\n",
              "      <td>45.7700</td>\n",
              "      <td>-92.8700</td>\n",
              "      <td>45.7700</td>\n",
              "      <td>-92.8700</td>\n",
              "      <td>An area of low pressure over southern Manitoba...</td>\n",
              "      <td>A 14-inch tree fell due to the winds and damag...</td>\n",
              "      <td>CSV</td>\n",
              "    </tr>\n",
              "    <tr>\n",
              "      <th>2</th>\n",
              "      <td>201910</td>\n",
              "      <td>20</td>\n",
              "      <td>2223</td>\n",
              "      <td>201910</td>\n",
              "      <td>20</td>\n",
              "      <td>2223</td>\n",
              "      <td>142648</td>\n",
              "      <td>861581</td>\n",
              "      <td>TEXAS</td>\n",
              "      <td>48</td>\n",
              "      <td>2019</td>\n",
              "      <td>October</td>\n",
              "      <td>Thunderstorm Wind</td>\n",
              "      <td>C</td>\n",
              "      <td>467</td>\n",
              "      <td>VAN ZANDT</td>\n",
              "      <td>FWD</td>\n",
              "      <td>20-OCT-19 22:23:00</td>\n",
              "      <td>CST-6</td>\n",
              "      <td>20-OCT-19 22:23:00</td>\n",
              "      <td>0</td>\n",
              "      <td>0</td>\n",
              "      <td>0</td>\n",
              "      <td>0</td>\n",
              "      <td>0.00K</td>\n",
              "      <td>0.00K</td>\n",
              "      <td>Trained Spotter</td>\n",
              "      <td>58.0</td>\n",
              "      <td>MG</td>\n",
              "      <td>NaN</td>\n",
              "      <td>NaN</td>\n",
              "      <td>NaN</td>\n",
              "      <td>NaN</td>\n",
              "      <td>NaN</td>\n",
              "      <td>NaN</td>\n",
              "      <td>NaN</td>\n",
              "      <td>NaN</td>\n",
              "      <td>NaN</td>\n",
              "      <td>1.0</td>\n",
              "      <td>N</td>\n",
              "      <td>EDGEWOOD</td>\n",
              "      <td>1.0</td>\n",
              "      <td>N</td>\n",
              "      <td>EDGEWOOD</td>\n",
              "      <td>32.7100</td>\n",
              "      <td>-95.8800</td>\n",
              "      <td>32.7100</td>\n",
              "      <td>-95.8800</td>\n",
              "      <td>Thunderstorms erupted across the DFW Metroplex...</td>\n",
              "      <td>A trained spotter measured a wind gust of 67 M...</td>\n",
              "      <td>CSV</td>\n",
              "    </tr>\n",
              "    <tr>\n",
              "      <th>3</th>\n",
              "      <td>201910</td>\n",
              "      <td>20</td>\n",
              "      <td>2312</td>\n",
              "      <td>201910</td>\n",
              "      <td>20</td>\n",
              "      <td>2312</td>\n",
              "      <td>142648</td>\n",
              "      <td>861584</td>\n",
              "      <td>TEXAS</td>\n",
              "      <td>48</td>\n",
              "      <td>2019</td>\n",
              "      <td>October</td>\n",
              "      <td>Thunderstorm Wind</td>\n",
              "      <td>C</td>\n",
              "      <td>439</td>\n",
              "      <td>TARRANT</td>\n",
              "      <td>FWD</td>\n",
              "      <td>20-OCT-19 23:12:00</td>\n",
              "      <td>CST-6</td>\n",
              "      <td>20-OCT-19 23:12:00</td>\n",
              "      <td>0</td>\n",
              "      <td>0</td>\n",
              "      <td>0</td>\n",
              "      <td>0</td>\n",
              "      <td>0.00K</td>\n",
              "      <td>0.00K</td>\n",
              "      <td>Law Enforcement</td>\n",
              "      <td>56.0</td>\n",
              "      <td>MG</td>\n",
              "      <td>NaN</td>\n",
              "      <td>NaN</td>\n",
              "      <td>NaN</td>\n",
              "      <td>NaN</td>\n",
              "      <td>NaN</td>\n",
              "      <td>NaN</td>\n",
              "      <td>NaN</td>\n",
              "      <td>NaN</td>\n",
              "      <td>NaN</td>\n",
              "      <td>5.0</td>\n",
              "      <td>WSW</td>\n",
              "      <td>AZLE</td>\n",
              "      <td>5.0</td>\n",
              "      <td>WSW</td>\n",
              "      <td>AZLE</td>\n",
              "      <td>32.8700</td>\n",
              "      <td>-97.6100</td>\n",
              "      <td>32.8700</td>\n",
              "      <td>-97.6100</td>\n",
              "      <td>Thunderstorms erupted across the DFW Metroplex...</td>\n",
              "      <td>The local police department reported a wind gu...</td>\n",
              "      <td>CSV</td>\n",
              "    </tr>\n",
              "    <tr>\n",
              "      <th>4</th>\n",
              "      <td>201910</td>\n",
              "      <td>20</td>\n",
              "      <td>2236</td>\n",
              "      <td>201910</td>\n",
              "      <td>20</td>\n",
              "      <td>2236</td>\n",
              "      <td>142648</td>\n",
              "      <td>861582</td>\n",
              "      <td>TEXAS</td>\n",
              "      <td>48</td>\n",
              "      <td>2019</td>\n",
              "      <td>October</td>\n",
              "      <td>Thunderstorm Wind</td>\n",
              "      <td>C</td>\n",
              "      <td>363</td>\n",
              "      <td>PALO PINTO</td>\n",
              "      <td>FWD</td>\n",
              "      <td>20-OCT-19 22:36:00</td>\n",
              "      <td>CST-6</td>\n",
              "      <td>20-OCT-19 22:36:00</td>\n",
              "      <td>0</td>\n",
              "      <td>0</td>\n",
              "      <td>0</td>\n",
              "      <td>0</td>\n",
              "      <td>0.00K</td>\n",
              "      <td>0.00K</td>\n",
              "      <td>ASOS</td>\n",
              "      <td>65.0</td>\n",
              "      <td>MG</td>\n",
              "      <td>NaN</td>\n",
              "      <td>NaN</td>\n",
              "      <td>NaN</td>\n",
              "      <td>NaN</td>\n",
              "      <td>NaN</td>\n",
              "      <td>NaN</td>\n",
              "      <td>NaN</td>\n",
              "      <td>NaN</td>\n",
              "      <td>NaN</td>\n",
              "      <td>0.0</td>\n",
              "      <td>N</td>\n",
              "      <td>MINERAL WELLS</td>\n",
              "      <td>0.0</td>\n",
              "      <td>N</td>\n",
              "      <td>MINERAL WELLS</td>\n",
              "      <td>32.8000</td>\n",
              "      <td>-98.1000</td>\n",
              "      <td>32.8000</td>\n",
              "      <td>-98.1000</td>\n",
              "      <td>Thunderstorms erupted across the DFW Metroplex...</td>\n",
              "      <td>A wind gust of 75 MPH was measured by the Auto...</td>\n",
              "      <td>CSV</td>\n",
              "    </tr>\n",
              "  </tbody>\n",
              "</table>\n",
              "</div>"
            ],
            "text/plain": [
              "   BEGIN_YEARMONTH  ...  DATA_SOURCE\n",
              "0           201905  ...          CSV\n",
              "1           201907  ...          CSV\n",
              "2           201910  ...          CSV\n",
              "3           201910  ...          CSV\n",
              "4           201910  ...          CSV\n",
              "\n",
              "[5 rows x 51 columns]"
            ]
          },
          "metadata": {
            "tags": []
          },
          "execution_count": 134
        }
      ]
    },
    {
      "cell_type": "code",
      "metadata": {
        "id": "zBu04gZUsNlL",
        "colab_type": "code",
        "colab": {}
      },
      "source": [
        "dfweather_data_2019 = weather_data_2019[['STATE','DAMAGE_PROPERTY']].copy()"
      ],
      "execution_count": 0,
      "outputs": []
    },
    {
      "cell_type": "code",
      "metadata": {
        "id": "W4H78kDFsT6M",
        "colab_type": "code",
        "colab": {}
      },
      "source": [
        "#dropping NaN values\n",
        "dfweather_data_2019 = dfweather_data_2019.dropna()"
      ],
      "execution_count": 0,
      "outputs": []
    },
    {
      "cell_type": "code",
      "metadata": {
        "id": "xOl3WosqsX-y",
        "colab_type": "code",
        "colab": {}
      },
      "source": [
        "DAMAGE_PROPERTY_2019 = dfweather_data_2019['DAMAGE_PROPERTY'].replace({'K': '*1e3', 'M': '*1e6', 'B': '1e9'}, regex=True).map(pd.eval).astype(int)"
      ],
      "execution_count": 0,
      "outputs": []
    },
    {
      "cell_type": "code",
      "metadata": {
        "id": "o0C9_ELqsb2U",
        "colab_type": "code",
        "colab": {}
      },
      "source": [
        "dfweather_data_2019['DAMAGE_PROPERTY'] = DAMAGE_PROPERTY_2019"
      ],
      "execution_count": 0,
      "outputs": []
    },
    {
      "cell_type": "code",
      "metadata": {
        "id": "YIjetN5dEFN9",
        "colab_type": "code",
        "outputId": "5572f928-ab08-49c7-a32b-9c5b65eed9f5",
        "colab": {
          "base_uri": "https://localhost:8080/",
          "height": 34
        }
      },
      "source": [
        "Texas2019 = dfweather_data_2019[dfweather_data_2019['STATE'].str.match('TEXAS')]\n",
        "Texas2019['DAMAGE_PROPERTY'].sum()"
      ],
      "execution_count": 0,
      "outputs": [
        {
          "output_type": "execute_result",
          "data": {
            "text/plain": [
              "3093746900"
            ]
          },
          "metadata": {
            "tags": []
          },
          "execution_count": 139
        }
      ]
    },
    {
      "cell_type": "code",
      "metadata": {
        "id": "yc5ckw4_Jzzp",
        "colab_type": "code",
        "colab": {}
      },
      "source": [
        "Texas2018 = dfweather_data_2018[dfweather_data_2018['STATE'].str.match('TEXAS')]\n",
        "damageTotalTexas = Texas2018['DAMAGE_PROPERTY'].sum()"
      ],
      "execution_count": 0,
      "outputs": []
    },
    {
      "cell_type": "code",
      "metadata": {
        "id": "ssJzjqEfG9T2",
        "colab_type": "code",
        "outputId": "cb49c879-e8a7-4cf4-fb40-46360e11467b",
        "colab": {
          "base_uri": "https://localhost:8080/",
          "height": 34
        }
      },
      "source": [
        "Alabama2019 = dfweather_data_2019[dfweather_data_2019['STATE'].str.match('ALABAMA')]\n",
        "Alabama2019['DAMAGE_PROPERTY'].sum()"
      ],
      "execution_count": 0,
      "outputs": [
        {
          "output_type": "execute_result",
          "data": {
            "text/plain": [
              "940000"
            ]
          },
          "metadata": {
            "tags": []
          },
          "execution_count": 141
        }
      ]
    },
    {
      "cell_type": "code",
      "metadata": {
        "id": "Ks82afeZJUK4",
        "colab_type": "code",
        "colab": {}
      },
      "source": [
        "Alabama2018 = dfweather_data_2018[dfweather_data_2018['STATE'].str.match('ALABAMA')]\n",
        "damageTotalAlabama = Alabama2018['DAMAGE_PROPERTY'].sum()"
      ],
      "execution_count": 0,
      "outputs": []
    },
    {
      "cell_type": "code",
      "metadata": {
        "id": "W1wjxeF3q-AY",
        "colab_type": "code",
        "outputId": "44541e27-9d63-458d-9df6-0ff71c97e844",
        "colab": {
          "base_uri": "https://localhost:8080/",
          "height": 34
        }
      },
      "source": [
        "VERMONT2019 = dfweather_data_2019[dfweather_data_2019['STATE'].str.match('VERMONT')]\n",
        "VERMONT2019['DAMAGE_PROPERTY'].sum()"
      ],
      "execution_count": 0,
      "outputs": [
        {
          "output_type": "execute_result",
          "data": {
            "text/plain": [
              "9050000"
            ]
          },
          "metadata": {
            "tags": []
          },
          "execution_count": 199
        }
      ]
    },
    {
      "cell_type": "code",
      "metadata": {
        "id": "csVWC1DIMkkJ",
        "colab_type": "code",
        "colab": {}
      },
      "source": [
        "VERMONT2018 = dfweather_data_2018[dfweather_data_2018['STATE'].str.match('VERMONT')]\n",
        "damageTotalVermont = VERMONT2018['DAMAGE_PROPERTY'].sum()"
      ],
      "execution_count": 0,
      "outputs": []
    },
    {
      "cell_type": "code",
      "metadata": {
        "id": "dW8EG-LlvpAc",
        "colab_type": "code",
        "outputId": "e884bed0-1270-40eb-96ab-bbb01242a0d9",
        "colab": {
          "base_uri": "https://localhost:8080/",
          "height": 142
        }
      },
      "source": [
        "#adding results into a dataframe\n",
        "new2018df = {'State':['Vermont', 'Alabama', 'Texas'], 'Damage(USD)':[damageTotalVermont, damageTotalAlabama, damageTotalTexas]}\n",
        "df = pd.DataFrame(new2018df)\n",
        "df"
      ],
      "execution_count": 0,
      "outputs": [
        {
          "output_type": "execute_result",
          "data": {
            "text/html": [
              "<div>\n",
              "<style scoped>\n",
              "    .dataframe tbody tr th:only-of-type {\n",
              "        vertical-align: middle;\n",
              "    }\n",
              "\n",
              "    .dataframe tbody tr th {\n",
              "        vertical-align: top;\n",
              "    }\n",
              "\n",
              "    .dataframe thead th {\n",
              "        text-align: right;\n",
              "    }\n",
              "</style>\n",
              "<table border=\"1\" class=\"dataframe\">\n",
              "  <thead>\n",
              "    <tr style=\"text-align: right;\">\n",
              "      <th></th>\n",
              "      <th>State</th>\n",
              "      <th>Damage(USD)</th>\n",
              "    </tr>\n",
              "  </thead>\n",
              "  <tbody>\n",
              "    <tr>\n",
              "      <th>0</th>\n",
              "      <td>Vermont</td>\n",
              "      <td>5054000</td>\n",
              "    </tr>\n",
              "    <tr>\n",
              "      <th>1</th>\n",
              "      <td>Alabama</td>\n",
              "      <td>8340450</td>\n",
              "    </tr>\n",
              "    <tr>\n",
              "      <th>2</th>\n",
              "      <td>Texas</td>\n",
              "      <td>338081250</td>\n",
              "    </tr>\n",
              "  </tbody>\n",
              "</table>\n",
              "</div>"
            ],
            "text/plain": [
              "     State  Damage(USD)\n",
              "0  Vermont      5054000\n",
              "1  Alabama      8340450\n",
              "2    Texas    338081250"
            ]
          },
          "metadata": {
            "tags": []
          },
          "execution_count": 207
        }
      ]
    },
    {
      "cell_type": "code",
      "metadata": {
        "id": "mmYAGma6kWDT",
        "colab_type": "code",
        "colab": {}
      },
      "source": [
        "def sort_states(StateData, DamageData):\n",
        "  Texas = StateData.str.match('TEXAS')\n",
        "  Alabama = StateData.str.match('ALABAMA')\n",
        "  if StateData == Texas:\n",
        "    print(DamageData.sum())\n",
        "  elif StateData == Alabama:\n",
        "    print(DamageData.sum())\n",
        "  else:\n",
        "    print(\"not applicable\")\n",
        "  \n",
        "  return"
      ],
      "execution_count": 0,
      "outputs": []
    },
    {
      "cell_type": "code",
      "metadata": {
        "id": "yG8lXMw_jhEv",
        "colab_type": "code",
        "outputId": "b702dc24-3e09-4f52-d386-3fe11876d45d",
        "colab": {
          "base_uri": "https://localhost:8080/",
          "height": 340
        }
      },
      "source": [
        "StateData = dfweather_data_2018['STATE']\n",
        "DamageData = dfweather_data_2018['DAMAGE_PROPERTY']\n",
        "sort_states(StateData, DamageData)"
      ],
      "execution_count": 0,
      "outputs": [
        {
          "output_type": "error",
          "ename": "ValueError",
          "evalue": "ignored",
          "traceback": [
            "\u001b[0;31m---------------------------------------------------------------------------\u001b[0m",
            "\u001b[0;31mValueError\u001b[0m                                Traceback (most recent call last)",
            "\u001b[0;32m<ipython-input-198-dcb2c98574ec>\u001b[0m in \u001b[0;36m<module>\u001b[0;34m()\u001b[0m\n\u001b[1;32m      1\u001b[0m \u001b[0mStateData\u001b[0m \u001b[0;34m=\u001b[0m \u001b[0mdfweather_data_2018\u001b[0m\u001b[0;34m[\u001b[0m\u001b[0;34m'STATE'\u001b[0m\u001b[0;34m]\u001b[0m\u001b[0;34m\u001b[0m\u001b[0;34m\u001b[0m\u001b[0m\n\u001b[1;32m      2\u001b[0m \u001b[0mDamageData\u001b[0m \u001b[0;34m=\u001b[0m \u001b[0mdfweather_data_2018\u001b[0m\u001b[0;34m[\u001b[0m\u001b[0;34m'DAMAGE_PROPERTY'\u001b[0m\u001b[0;34m]\u001b[0m\u001b[0;34m\u001b[0m\u001b[0;34m\u001b[0m\u001b[0m\n\u001b[0;32m----> 3\u001b[0;31m \u001b[0msort_states\u001b[0m\u001b[0;34m(\u001b[0m\u001b[0mStateData\u001b[0m\u001b[0;34m,\u001b[0m \u001b[0mDamageData\u001b[0m\u001b[0;34m)\u001b[0m\u001b[0;34m\u001b[0m\u001b[0;34m\u001b[0m\u001b[0m\n\u001b[0m",
            "\u001b[0;32m<ipython-input-197-946365010640>\u001b[0m in \u001b[0;36msort_states\u001b[0;34m(StateData, DamageData)\u001b[0m\n\u001b[1;32m      2\u001b[0m   \u001b[0mTexas\u001b[0m \u001b[0;34m=\u001b[0m \u001b[0mStateData\u001b[0m\u001b[0;34m.\u001b[0m\u001b[0mstr\u001b[0m\u001b[0;34m.\u001b[0m\u001b[0mmatch\u001b[0m\u001b[0;34m(\u001b[0m\u001b[0;34m'TEXAS'\u001b[0m\u001b[0;34m)\u001b[0m\u001b[0;34m\u001b[0m\u001b[0;34m\u001b[0m\u001b[0m\n\u001b[1;32m      3\u001b[0m   \u001b[0mAlabama\u001b[0m \u001b[0;34m=\u001b[0m \u001b[0mStateData\u001b[0m\u001b[0;34m.\u001b[0m\u001b[0mstr\u001b[0m\u001b[0;34m.\u001b[0m\u001b[0mmatch\u001b[0m\u001b[0;34m(\u001b[0m\u001b[0;34m'ALABAMA'\u001b[0m\u001b[0;34m)\u001b[0m\u001b[0;34m\u001b[0m\u001b[0;34m\u001b[0m\u001b[0m\n\u001b[0;32m----> 4\u001b[0;31m   \u001b[0;32mif\u001b[0m \u001b[0mStateData\u001b[0m \u001b[0;34m==\u001b[0m \u001b[0mTexas\u001b[0m\u001b[0;34m:\u001b[0m\u001b[0;34m\u001b[0m\u001b[0;34m\u001b[0m\u001b[0m\n\u001b[0m\u001b[1;32m      5\u001b[0m     \u001b[0mprint\u001b[0m\u001b[0;34m(\u001b[0m\u001b[0mDamageData\u001b[0m\u001b[0;34m.\u001b[0m\u001b[0msum\u001b[0m\u001b[0;34m(\u001b[0m\u001b[0;34m)\u001b[0m\u001b[0;34m)\u001b[0m\u001b[0;34m\u001b[0m\u001b[0;34m\u001b[0m\u001b[0m\n\u001b[1;32m      6\u001b[0m   \u001b[0;32melif\u001b[0m \u001b[0mStateData\u001b[0m \u001b[0;34m==\u001b[0m \u001b[0mAlabama\u001b[0m\u001b[0;34m:\u001b[0m\u001b[0;34m\u001b[0m\u001b[0;34m\u001b[0m\u001b[0m\n",
            "\u001b[0;32m/usr/local/lib/python3.6/dist-packages/pandas/core/generic.py\u001b[0m in \u001b[0;36m__nonzero__\u001b[0;34m(self)\u001b[0m\n\u001b[1;32m   1553\u001b[0m             \u001b[0;34m\"The truth value of a {0} is ambiguous. \"\u001b[0m\u001b[0;34m\u001b[0m\u001b[0;34m\u001b[0m\u001b[0m\n\u001b[1;32m   1554\u001b[0m             \"Use a.empty, a.bool(), a.item(), a.any() or a.all().\".format(\n\u001b[0;32m-> 1555\u001b[0;31m                 \u001b[0mself\u001b[0m\u001b[0;34m.\u001b[0m\u001b[0m__class__\u001b[0m\u001b[0;34m.\u001b[0m\u001b[0m__name__\u001b[0m\u001b[0;34m\u001b[0m\u001b[0;34m\u001b[0m\u001b[0m\n\u001b[0m\u001b[1;32m   1556\u001b[0m             )\n\u001b[1;32m   1557\u001b[0m         )\n",
            "\u001b[0;31mValueError\u001b[0m: The truth value of a Series is ambiguous. Use a.empty, a.bool(), a.item(), a.any() or a.all()."
          ]
        }
      ]
    },
    {
      "cell_type": "code",
      "metadata": {
        "id": "AUjHYnrrCvsZ",
        "colab_type": "code",
        "outputId": "22104818-6a89-4323-898b-fac280710556",
        "colab": {
          "base_uri": "https://localhost:8080/",
          "height": 669
        }
      },
      "source": [
        "dfweather_data_2019.sort_values('STATE',ascending=True)\n",
        "dfweather_data_2019.head(20)"
      ],
      "execution_count": 0,
      "outputs": [
        {
          "output_type": "execute_result",
          "data": {
            "text/html": [
              "<div>\n",
              "<style scoped>\n",
              "    .dataframe tbody tr th:only-of-type {\n",
              "        vertical-align: middle;\n",
              "    }\n",
              "\n",
              "    .dataframe tbody tr th {\n",
              "        vertical-align: top;\n",
              "    }\n",
              "\n",
              "    .dataframe thead th {\n",
              "        text-align: right;\n",
              "    }\n",
              "</style>\n",
              "<table border=\"1\" class=\"dataframe\">\n",
              "  <thead>\n",
              "    <tr style=\"text-align: right;\">\n",
              "      <th></th>\n",
              "      <th>STATE</th>\n",
              "      <th>DAMAGE_PROPERTY</th>\n",
              "    </tr>\n",
              "  </thead>\n",
              "  <tbody>\n",
              "    <tr>\n",
              "      <th>0</th>\n",
              "      <td>TEXAS</td>\n",
              "      <td>0</td>\n",
              "    </tr>\n",
              "    <tr>\n",
              "      <th>1</th>\n",
              "      <td>MINNESOTA</td>\n",
              "      <td>0</td>\n",
              "    </tr>\n",
              "    <tr>\n",
              "      <th>2</th>\n",
              "      <td>TEXAS</td>\n",
              "      <td>0</td>\n",
              "    </tr>\n",
              "    <tr>\n",
              "      <th>3</th>\n",
              "      <td>TEXAS</td>\n",
              "      <td>0</td>\n",
              "    </tr>\n",
              "    <tr>\n",
              "      <th>4</th>\n",
              "      <td>TEXAS</td>\n",
              "      <td>0</td>\n",
              "    </tr>\n",
              "    <tr>\n",
              "      <th>5</th>\n",
              "      <td>TEXAS</td>\n",
              "      <td>10000000</td>\n",
              "    </tr>\n",
              "    <tr>\n",
              "      <th>6</th>\n",
              "      <td>VERMONT</td>\n",
              "      <td>0</td>\n",
              "    </tr>\n",
              "    <tr>\n",
              "      <th>7</th>\n",
              "      <td>NEW YORK</td>\n",
              "      <td>5000</td>\n",
              "    </tr>\n",
              "    <tr>\n",
              "      <th>8</th>\n",
              "      <td>ATLANTIC SOUTH</td>\n",
              "      <td>0</td>\n",
              "    </tr>\n",
              "    <tr>\n",
              "      <th>9</th>\n",
              "      <td>ATLANTIC SOUTH</td>\n",
              "      <td>0</td>\n",
              "    </tr>\n",
              "    <tr>\n",
              "      <th>10</th>\n",
              "      <td>ATLANTIC SOUTH</td>\n",
              "      <td>0</td>\n",
              "    </tr>\n",
              "    <tr>\n",
              "      <th>11</th>\n",
              "      <td>FLORIDA</td>\n",
              "      <td>0</td>\n",
              "    </tr>\n",
              "    <tr>\n",
              "      <th>13</th>\n",
              "      <td>ARKANSAS</td>\n",
              "      <td>0</td>\n",
              "    </tr>\n",
              "    <tr>\n",
              "      <th>14</th>\n",
              "      <td>ARKANSAS</td>\n",
              "      <td>0</td>\n",
              "    </tr>\n",
              "    <tr>\n",
              "      <th>15</th>\n",
              "      <td>ATLANTIC SOUTH</td>\n",
              "      <td>0</td>\n",
              "    </tr>\n",
              "    <tr>\n",
              "      <th>16</th>\n",
              "      <td>ATLANTIC SOUTH</td>\n",
              "      <td>0</td>\n",
              "    </tr>\n",
              "    <tr>\n",
              "      <th>17</th>\n",
              "      <td>GULF OF MEXICO</td>\n",
              "      <td>0</td>\n",
              "    </tr>\n",
              "    <tr>\n",
              "      <th>18</th>\n",
              "      <td>GULF OF MEXICO</td>\n",
              "      <td>0</td>\n",
              "    </tr>\n",
              "    <tr>\n",
              "      <th>19</th>\n",
              "      <td>GULF OF MEXICO</td>\n",
              "      <td>0</td>\n",
              "    </tr>\n",
              "    <tr>\n",
              "      <th>20</th>\n",
              "      <td>MONTANA</td>\n",
              "      <td>0</td>\n",
              "    </tr>\n",
              "  </tbody>\n",
              "</table>\n",
              "</div>"
            ],
            "text/plain": [
              "             STATE  DAMAGE_PROPERTY\n",
              "0            TEXAS                0\n",
              "1        MINNESOTA                0\n",
              "2            TEXAS                0\n",
              "3            TEXAS                0\n",
              "4            TEXAS                0\n",
              "5            TEXAS         10000000\n",
              "6          VERMONT                0\n",
              "7         NEW YORK             5000\n",
              "8   ATLANTIC SOUTH                0\n",
              "9   ATLANTIC SOUTH                0\n",
              "10  ATLANTIC SOUTH                0\n",
              "11         FLORIDA                0\n",
              "13        ARKANSAS                0\n",
              "14        ARKANSAS                0\n",
              "15  ATLANTIC SOUTH                0\n",
              "16  ATLANTIC SOUTH                0\n",
              "17  GULF OF MEXICO                0\n",
              "18  GULF OF MEXICO                0\n",
              "19  GULF OF MEXICO                0\n",
              "20         MONTANA                0"
            ]
          },
          "metadata": {
            "tags": []
          },
          "execution_count": 144
        }
      ]
    },
    {
      "cell_type": "code",
      "metadata": {
        "id": "xwuJMNpptOBb",
        "colab_type": "code",
        "outputId": "e27f9124-c779-4dd7-c10a-8ac5071dfe57",
        "colab": {
          "base_uri": "https://localhost:8080/",
          "height": 419
        }
      },
      "source": [
        "dfweather_data_2019.sort_values('DAMAGE_PROPERTY',ascending=False)"
      ],
      "execution_count": 0,
      "outputs": [
        {
          "output_type": "execute_result",
          "data": {
            "text/html": [
              "<div>\n",
              "<style scoped>\n",
              "    .dataframe tbody tr th:only-of-type {\n",
              "        vertical-align: middle;\n",
              "    }\n",
              "\n",
              "    .dataframe tbody tr th {\n",
              "        vertical-align: top;\n",
              "    }\n",
              "\n",
              "    .dataframe thead th {\n",
              "        text-align: right;\n",
              "    }\n",
              "</style>\n",
              "<table border=\"1\" class=\"dataframe\">\n",
              "  <thead>\n",
              "    <tr style=\"text-align: right;\">\n",
              "      <th></th>\n",
              "      <th>STATE</th>\n",
              "      <th>DAMAGE_PROPERTY</th>\n",
              "    </tr>\n",
              "  </thead>\n",
              "  <tbody>\n",
              "    <tr>\n",
              "      <th>27816</th>\n",
              "      <td>TEXAS</td>\n",
              "      <td>1551000000</td>\n",
              "    </tr>\n",
              "    <tr>\n",
              "      <th>41630</th>\n",
              "      <td>OHIO</td>\n",
              "      <td>500000000</td>\n",
              "    </tr>\n",
              "    <tr>\n",
              "      <th>33205</th>\n",
              "      <td>NEBRASKA</td>\n",
              "      <td>420000000</td>\n",
              "    </tr>\n",
              "    <tr>\n",
              "      <th>2053</th>\n",
              "      <td>TEXAS</td>\n",
              "      <td>400000000</td>\n",
              "    </tr>\n",
              "    <tr>\n",
              "      <th>31420</th>\n",
              "      <td>TEXAS</td>\n",
              "      <td>300000000</td>\n",
              "    </tr>\n",
              "    <tr>\n",
              "      <th>...</th>\n",
              "      <td>...</td>\n",
              "      <td>...</td>\n",
              "    </tr>\n",
              "    <tr>\n",
              "      <th>24215</th>\n",
              "      <td>ILLINOIS</td>\n",
              "      <td>0</td>\n",
              "    </tr>\n",
              "    <tr>\n",
              "      <th>24216</th>\n",
              "      <td>ILLINOIS</td>\n",
              "      <td>0</td>\n",
              "    </tr>\n",
              "    <tr>\n",
              "      <th>24217</th>\n",
              "      <td>ILLINOIS</td>\n",
              "      <td>0</td>\n",
              "    </tr>\n",
              "    <tr>\n",
              "      <th>24218</th>\n",
              "      <td>ILLINOIS</td>\n",
              "      <td>0</td>\n",
              "    </tr>\n",
              "    <tr>\n",
              "      <th>64438</th>\n",
              "      <td>ALASKA</td>\n",
              "      <td>0</td>\n",
              "    </tr>\n",
              "  </tbody>\n",
              "</table>\n",
              "<p>52112 rows × 2 columns</p>\n",
              "</div>"
            ],
            "text/plain": [
              "          STATE  DAMAGE_PROPERTY\n",
              "27816     TEXAS       1551000000\n",
              "41630      OHIO        500000000\n",
              "33205  NEBRASKA        420000000\n",
              "2053      TEXAS        400000000\n",
              "31420     TEXAS        300000000\n",
              "...         ...              ...\n",
              "24215  ILLINOIS                0\n",
              "24216  ILLINOIS                0\n",
              "24217  ILLINOIS                0\n",
              "24218  ILLINOIS                0\n",
              "64438    ALASKA                0\n",
              "\n",
              "[52112 rows x 2 columns]"
            ]
          },
          "metadata": {
            "tags": []
          },
          "execution_count": 54
        }
      ]
    }
  ]
}