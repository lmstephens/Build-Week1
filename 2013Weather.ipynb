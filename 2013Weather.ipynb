{
  "nbformat": 4,
  "nbformat_minor": 0,
  "metadata": {
    "colab": {
      "name": "2013.ipynb",
      "provenance": [],
      "toc_visible": true
    },
    "kernelspec": {
      "name": "python3",
      "display_name": "Python 3"
    }
  },
  "cells": [
    {
      "cell_type": "code",
      "metadata": {
        "id": "WJnBFfRZDdfG",
        "colab_type": "code",
        "colab": {}
      },
      "source": [
        "#Import all the stuff\n",
        "import pandas as pd\n",
        "import numpy as np\n",
        "import matplotlib.pyplot as plt\n",
        "import random"
      ],
      "execution_count": 0,
      "outputs": []
    },
    {
      "cell_type": "code",
      "metadata": {
        "id": "3PtVPP35Frug",
        "colab_type": "code",
        "colab": {}
      },
      "source": [
        "Weather_url = \"https://www1.ncdc.noaa.gov/pub/data/swdi/stormevents/csvfiles/legacy/stormdata_2013.csv\"\n",
        "\n",
        "#!curl https://www1.ncdc.noaa.gov/pub/data/swdi/stormevents/csvfiles/legacy/stormdata_2013.csv"
      ],
      "execution_count": 0,
      "outputs": []
    },
    {
      "cell_type": "code",
      "metadata": {
        "id": "dDpKN2POGePj",
        "colab_type": "code",
        "outputId": "425ca873-9226-4c6c-c3d7-1c7e2685f1f9",
        "colab": {
          "base_uri": "https://localhost:8080/",
          "height": 33
        }
      },
      "source": [
        "weather_data = pd.read_csv(Weather_url)\n",
        "weather_data.shape"
      ],
      "execution_count": 4,
      "outputs": [
        {
          "output_type": "execute_result",
          "data": {
            "text/plain": [
              "(51932, 58)"
            ]
          },
          "metadata": {
            "tags": []
          },
          "execution_count": 4
        }
      ]
    },
    {
      "cell_type": "code",
      "metadata": {
        "id": "SoTomj0BGu5C",
        "colab_type": "code",
        "outputId": "14312a3e-3ed2-47bd-8e4c-9bc377c9c237",
        "colab": {
          "base_uri": "https://localhost:8080/",
          "height": 438
        }
      },
      "source": [
        "weather_data.tail()"
      ],
      "execution_count": 0,
      "outputs": [
        {
          "output_type": "execute_result",
          "data": {
            "text/html": [
              "<div>\n",
              "<style scoped>\n",
              "    .dataframe tbody tr th:only-of-type {\n",
              "        vertical-align: middle;\n",
              "    }\n",
              "\n",
              "    .dataframe tbody tr th {\n",
              "        vertical-align: top;\n",
              "    }\n",
              "\n",
              "    .dataframe thead th {\n",
              "        text-align: right;\n",
              "    }\n",
              "</style>\n",
              "<table border=\"1\" class=\"dataframe\">\n",
              "  <thead>\n",
              "    <tr style=\"text-align: right;\">\n",
              "      <th></th>\n",
              "      <th>BEGIN_YEARMONTH</th>\n",
              "      <th>BEGIN_DAY</th>\n",
              "      <th>BEGIN_TIME</th>\n",
              "      <th>END_YEARMONTH</th>\n",
              "      <th>END_DAY</th>\n",
              "      <th>END_TIME</th>\n",
              "      <th>EPISODE_ID</th>\n",
              "      <th>EVENT_ID</th>\n",
              "      <th>STATE</th>\n",
              "      <th>STATE_FIPS</th>\n",
              "      <th>YEAR</th>\n",
              "      <th>MONTH_NAME</th>\n",
              "      <th>EVENT_TYPE</th>\n",
              "      <th>CZ_TYPE</th>\n",
              "      <th>CZ_FIPS</th>\n",
              "      <th>CZ_NAME</th>\n",
              "      <th>WFO</th>\n",
              "      <th>BEGIN_DATE_TIME</th>\n",
              "      <th>CZ_TIMEZONE</th>\n",
              "      <th>END_DATE_TIME</th>\n",
              "      <th>INJURIES_DIRECT</th>\n",
              "      <th>INJURIES_INDIRECT</th>\n",
              "      <th>DEATHS_DIRECT</th>\n",
              "      <th>DEATHS_INDIRECT</th>\n",
              "      <th>DAMAGE_PROPERTY</th>\n",
              "      <th>DAMAGE_CROPS</th>\n",
              "      <th>SOURCE</th>\n",
              "      <th>MAGNITUDE</th>\n",
              "      <th>MAGNITUDE_TYPE</th>\n",
              "      <th>FLOOD_CAUSE</th>\n",
              "      <th>CATEGORY</th>\n",
              "      <th>TOR_F_SCALE</th>\n",
              "      <th>TOR_LENGTH</th>\n",
              "      <th>TOR_WIDTH</th>\n",
              "      <th>TOR_OTHER_WFO</th>\n",
              "      <th>TOR_OTHER_CZ_STATE</th>\n",
              "      <th>TOR_OTHER_CZ_FIPS</th>\n",
              "      <th>TOR_OTHER_CZ_NAME</th>\n",
              "      <th>BEGIN_RANGE</th>\n",
              "      <th>BEGIN_AZIMUTH</th>\n",
              "      <th>BEGIN_LOCATION</th>\n",
              "      <th>END_RANGE</th>\n",
              "      <th>END_AZIMUTH</th>\n",
              "      <th>END_LOCATION</th>\n",
              "      <th>BEGIN_LAT</th>\n",
              "      <th>BEGIN_LON</th>\n",
              "      <th>END_LAT</th>\n",
              "      <th>END_LON</th>\n",
              "      <th>EPISODE_NARRATIVE</th>\n",
              "      <th>EVENT_NARRATIVE</th>\n",
              "      <th>LAST_MOD_DATE</th>\n",
              "      <th>LAST_MOD_TIME</th>\n",
              "      <th>LAST_CERT_DATE</th>\n",
              "      <th>LAST_CERT_TIME</th>\n",
              "      <th>LAST_MOD</th>\n",
              "      <th>LAST_CERT</th>\n",
              "      <th>ADDCORR_FLG</th>\n",
              "      <th>ADDCORR_DATE</th>\n",
              "    </tr>\n",
              "  </thead>\n",
              "  <tbody>\n",
              "    <tr>\n",
              "      <th>51927</th>\n",
              "      <td>201310</td>\n",
              "      <td>31</td>\n",
              "      <td>2042</td>\n",
              "      <td>201310</td>\n",
              "      <td>31</td>\n",
              "      <td>2042</td>\n",
              "      <td>80210</td>\n",
              "      <td>481800</td>\n",
              "      <td>INDIANA</td>\n",
              "      <td>18</td>\n",
              "      <td>2013</td>\n",
              "      <td>October</td>\n",
              "      <td>Thunderstorm Wind</td>\n",
              "      <td>C</td>\n",
              "      <td>57</td>\n",
              "      <td>HAMILTON</td>\n",
              "      <td>IND</td>\n",
              "      <td>10/31/2013 20:42:00</td>\n",
              "      <td>EST-5</td>\n",
              "      <td>10/31/2013 20:42:00</td>\n",
              "      <td>0</td>\n",
              "      <td>0</td>\n",
              "      <td>0</td>\n",
              "      <td>0</td>\n",
              "      <td>4.00K</td>\n",
              "      <td>0.00K</td>\n",
              "      <td>NWS Employee</td>\n",
              "      <td>56.0</td>\n",
              "      <td>EG</td>\n",
              "      <td>NaN</td>\n",
              "      <td>NaN</td>\n",
              "      <td>NaN</td>\n",
              "      <td>NaN</td>\n",
              "      <td>NaN</td>\n",
              "      <td>NaN</td>\n",
              "      <td>NaN</td>\n",
              "      <td>NaN</td>\n",
              "      <td>NaN</td>\n",
              "      <td>1.0</td>\n",
              "      <td>NW</td>\n",
              "      <td>INDIANAPOLIS METRO A</td>\n",
              "      <td>NaN</td>\n",
              "      <td>NaN</td>\n",
              "      <td>NaN</td>\n",
              "      <td>39.94</td>\n",
              "      <td>-86.06</td>\n",
              "      <td>NaN</td>\n",
              "      <td>NaN</td>\n",
              "      <td>Severe weather occurred on October 31st across...</td>\n",
              "      <td>Trees were reported down at Eller and 106th St...</td>\n",
              "      <td>20131231</td>\n",
              "      <td>1131</td>\n",
              "      <td>20131231</td>\n",
              "      <td>1416</td>\n",
              "      <td>12/31/2013 11:31:14</td>\n",
              "      <td>12/31/2013 14:16:41</td>\n",
              "      <td>NaN</td>\n",
              "      <td>NaN</td>\n",
              "    </tr>\n",
              "    <tr>\n",
              "      <th>51928</th>\n",
              "      <td>201310</td>\n",
              "      <td>31</td>\n",
              "      <td>2045</td>\n",
              "      <td>201310</td>\n",
              "      <td>31</td>\n",
              "      <td>2045</td>\n",
              "      <td>80210</td>\n",
              "      <td>481801</td>\n",
              "      <td>INDIANA</td>\n",
              "      <td>18</td>\n",
              "      <td>2013</td>\n",
              "      <td>October</td>\n",
              "      <td>Thunderstorm Wind</td>\n",
              "      <td>C</td>\n",
              "      <td>97</td>\n",
              "      <td>MARION</td>\n",
              "      <td>IND</td>\n",
              "      <td>10/31/2013 20:45:00</td>\n",
              "      <td>EST-5</td>\n",
              "      <td>10/31/2013 20:45:00</td>\n",
              "      <td>0</td>\n",
              "      <td>0</td>\n",
              "      <td>0</td>\n",
              "      <td>0</td>\n",
              "      <td>1.00K</td>\n",
              "      <td>0.00K</td>\n",
              "      <td>Trained Spotter</td>\n",
              "      <td>61.0</td>\n",
              "      <td>EG</td>\n",
              "      <td>NaN</td>\n",
              "      <td>NaN</td>\n",
              "      <td>NaN</td>\n",
              "      <td>NaN</td>\n",
              "      <td>NaN</td>\n",
              "      <td>NaN</td>\n",
              "      <td>NaN</td>\n",
              "      <td>NaN</td>\n",
              "      <td>NaN</td>\n",
              "      <td>1.0</td>\n",
              "      <td>W</td>\n",
              "      <td>BEECH GROVE</td>\n",
              "      <td>NaN</td>\n",
              "      <td>NaN</td>\n",
              "      <td>NaN</td>\n",
              "      <td>39.72</td>\n",
              "      <td>-86.09</td>\n",
              "      <td>NaN</td>\n",
              "      <td>NaN</td>\n",
              "      <td>Severe weather occurred on October 31st across...</td>\n",
              "      <td>A 20-inch diameter, living tree was broke off ...</td>\n",
              "      <td>20131231</td>\n",
              "      <td>1131</td>\n",
              "      <td>20131231</td>\n",
              "      <td>1416</td>\n",
              "      <td>12/31/2013 11:31:14</td>\n",
              "      <td>12/31/2013 14:16:41</td>\n",
              "      <td>NaN</td>\n",
              "      <td>NaN</td>\n",
              "    </tr>\n",
              "    <tr>\n",
              "      <th>51929</th>\n",
              "      <td>201310</td>\n",
              "      <td>31</td>\n",
              "      <td>2045</td>\n",
              "      <td>201310</td>\n",
              "      <td>31</td>\n",
              "      <td>2045</td>\n",
              "      <td>80210</td>\n",
              "      <td>481802</td>\n",
              "      <td>INDIANA</td>\n",
              "      <td>18</td>\n",
              "      <td>2013</td>\n",
              "      <td>October</td>\n",
              "      <td>Thunderstorm Wind</td>\n",
              "      <td>C</td>\n",
              "      <td>81</td>\n",
              "      <td>JOHNSON</td>\n",
              "      <td>IND</td>\n",
              "      <td>10/31/2013 20:45:00</td>\n",
              "      <td>EST-5</td>\n",
              "      <td>10/31/2013 20:45:00</td>\n",
              "      <td>0</td>\n",
              "      <td>0</td>\n",
              "      <td>0</td>\n",
              "      <td>0</td>\n",
              "      <td>10.00K</td>\n",
              "      <td>0.00K</td>\n",
              "      <td>Public</td>\n",
              "      <td>56.0</td>\n",
              "      <td>EG</td>\n",
              "      <td>NaN</td>\n",
              "      <td>NaN</td>\n",
              "      <td>NaN</td>\n",
              "      <td>NaN</td>\n",
              "      <td>NaN</td>\n",
              "      <td>NaN</td>\n",
              "      <td>NaN</td>\n",
              "      <td>NaN</td>\n",
              "      <td>NaN</td>\n",
              "      <td>1.0</td>\n",
              "      <td>NW</td>\n",
              "      <td>FRANKLIN</td>\n",
              "      <td>NaN</td>\n",
              "      <td>NaN</td>\n",
              "      <td>NaN</td>\n",
              "      <td>39.49</td>\n",
              "      <td>-86.06</td>\n",
              "      <td>NaN</td>\n",
              "      <td>NaN</td>\n",
              "      <td>Severe weather occurred on October 31st across...</td>\n",
              "      <td>Trees were reported to be downed on a vehicle ...</td>\n",
              "      <td>20131231</td>\n",
              "      <td>1131</td>\n",
              "      <td>20131231</td>\n",
              "      <td>1416</td>\n",
              "      <td>12/31/2013 11:31:14</td>\n",
              "      <td>12/31/2013 14:16:41</td>\n",
              "      <td>NaN</td>\n",
              "      <td>NaN</td>\n",
              "    </tr>\n",
              "    <tr>\n",
              "      <th>51930</th>\n",
              "      <td>201310</td>\n",
              "      <td>31</td>\n",
              "      <td>2047</td>\n",
              "      <td>201310</td>\n",
              "      <td>31</td>\n",
              "      <td>2047</td>\n",
              "      <td>80210</td>\n",
              "      <td>481803</td>\n",
              "      <td>INDIANA</td>\n",
              "      <td>18</td>\n",
              "      <td>2013</td>\n",
              "      <td>October</td>\n",
              "      <td>Thunderstorm Wind</td>\n",
              "      <td>C</td>\n",
              "      <td>81</td>\n",
              "      <td>JOHNSON</td>\n",
              "      <td>IND</td>\n",
              "      <td>10/31/2013 20:47:00</td>\n",
              "      <td>EST-5</td>\n",
              "      <td>10/31/2013 20:47:00</td>\n",
              "      <td>0</td>\n",
              "      <td>0</td>\n",
              "      <td>0</td>\n",
              "      <td>0</td>\n",
              "      <td>0.50K</td>\n",
              "      <td>0.00K</td>\n",
              "      <td>Trained Spotter</td>\n",
              "      <td>52.0</td>\n",
              "      <td>EG</td>\n",
              "      <td>NaN</td>\n",
              "      <td>NaN</td>\n",
              "      <td>NaN</td>\n",
              "      <td>NaN</td>\n",
              "      <td>NaN</td>\n",
              "      <td>NaN</td>\n",
              "      <td>NaN</td>\n",
              "      <td>NaN</td>\n",
              "      <td>NaN</td>\n",
              "      <td>1.0</td>\n",
              "      <td>NW</td>\n",
              "      <td>FRANKLIN</td>\n",
              "      <td>NaN</td>\n",
              "      <td>NaN</td>\n",
              "      <td>NaN</td>\n",
              "      <td>39.49</td>\n",
              "      <td>-86.06</td>\n",
              "      <td>NaN</td>\n",
              "      <td>NaN</td>\n",
              "      <td>Severe weather occurred on October 31st across...</td>\n",
              "      <td>Patio furniture was damaged at a residence in ...</td>\n",
              "      <td>20131231</td>\n",
              "      <td>1131</td>\n",
              "      <td>20131231</td>\n",
              "      <td>1416</td>\n",
              "      <td>12/31/2013 11:31:14</td>\n",
              "      <td>12/31/2013 14:16:41</td>\n",
              "      <td>NaN</td>\n",
              "      <td>NaN</td>\n",
              "    </tr>\n",
              "    <tr>\n",
              "      <th>51931</th>\n",
              "      <td>201310</td>\n",
              "      <td>31</td>\n",
              "      <td>2049</td>\n",
              "      <td>201310</td>\n",
              "      <td>31</td>\n",
              "      <td>2049</td>\n",
              "      <td>80210</td>\n",
              "      <td>481804</td>\n",
              "      <td>INDIANA</td>\n",
              "      <td>18</td>\n",
              "      <td>2013</td>\n",
              "      <td>October</td>\n",
              "      <td>Thunderstorm Wind</td>\n",
              "      <td>C</td>\n",
              "      <td>97</td>\n",
              "      <td>MARION</td>\n",
              "      <td>IND</td>\n",
              "      <td>10/31/2013 20:49:00</td>\n",
              "      <td>EST-5</td>\n",
              "      <td>10/31/2013 20:49:00</td>\n",
              "      <td>0</td>\n",
              "      <td>0</td>\n",
              "      <td>0</td>\n",
              "      <td>0</td>\n",
              "      <td>1.50K</td>\n",
              "      <td>0.00K</td>\n",
              "      <td>Public</td>\n",
              "      <td>61.0</td>\n",
              "      <td>EG</td>\n",
              "      <td>NaN</td>\n",
              "      <td>NaN</td>\n",
              "      <td>NaN</td>\n",
              "      <td>NaN</td>\n",
              "      <td>NaN</td>\n",
              "      <td>NaN</td>\n",
              "      <td>NaN</td>\n",
              "      <td>NaN</td>\n",
              "      <td>NaN</td>\n",
              "      <td>1.0</td>\n",
              "      <td>ESE</td>\n",
              "      <td>HUNTER</td>\n",
              "      <td>NaN</td>\n",
              "      <td>NaN</td>\n",
              "      <td>NaN</td>\n",
              "      <td>39.79</td>\n",
              "      <td>-85.98</td>\n",
              "      <td>NaN</td>\n",
              "      <td>NaN</td>\n",
              "      <td>Severe weather occurred on October 31st across...</td>\n",
              "      <td>Some tops of trees were snapped and a 30-inch ...</td>\n",
              "      <td>20131231</td>\n",
              "      <td>1131</td>\n",
              "      <td>20131231</td>\n",
              "      <td>1416</td>\n",
              "      <td>12/31/2013 11:31:14</td>\n",
              "      <td>12/31/2013 14:16:41</td>\n",
              "      <td>NaN</td>\n",
              "      <td>NaN</td>\n",
              "    </tr>\n",
              "  </tbody>\n",
              "</table>\n",
              "</div>"
            ],
            "text/plain": [
              "       BEGIN_YEARMONTH  BEGIN_DAY  ...  ADDCORR_FLG  ADDCORR_DATE\n",
              "51927           201310         31  ...          NaN           NaN\n",
              "51928           201310         31  ...          NaN           NaN\n",
              "51929           201310         31  ...          NaN           NaN\n",
              "51930           201310         31  ...          NaN           NaN\n",
              "51931           201310         31  ...          NaN           NaN\n",
              "\n",
              "[5 rows x 58 columns]"
            ]
          },
          "metadata": {
            "tags": []
          },
          "execution_count": 27
        }
      ]
    },
    {
      "cell_type": "code",
      "metadata": {
        "id": "iZICBByxx23-",
        "colab_type": "code",
        "colab": {
          "base_uri": "https://localhost:8080/",
          "height": 391
        },
        "outputId": "fe83b779-bf09-4d62-af2e-1db49ec1bc47"
      },
      "source": [
        "dfweather_data = weather_data[['STATE','DAMAGE_PROPERTY']].copy()\n",
        "dfweather_data"
      ],
      "execution_count": 6,
      "outputs": [
        {
          "output_type": "execute_result",
          "data": {
            "text/html": [
              "<div>\n",
              "<style scoped>\n",
              "    .dataframe tbody tr th:only-of-type {\n",
              "        vertical-align: middle;\n",
              "    }\n",
              "\n",
              "    .dataframe tbody tr th {\n",
              "        vertical-align: top;\n",
              "    }\n",
              "\n",
              "    .dataframe thead th {\n",
              "        text-align: right;\n",
              "    }\n",
              "</style>\n",
              "<table border=\"1\" class=\"dataframe\">\n",
              "  <thead>\n",
              "    <tr style=\"text-align: right;\">\n",
              "      <th></th>\n",
              "      <th>STATE</th>\n",
              "      <th>DAMAGE_PROPERTY</th>\n",
              "    </tr>\n",
              "  </thead>\n",
              "  <tbody>\n",
              "    <tr>\n",
              "      <th>0</th>\n",
              "      <td>ALABAMA</td>\n",
              "      <td>NaN</td>\n",
              "    </tr>\n",
              "    <tr>\n",
              "      <th>1</th>\n",
              "      <td>COLORADO</td>\n",
              "      <td>0.00K</td>\n",
              "    </tr>\n",
              "    <tr>\n",
              "      <th>2</th>\n",
              "      <td>CALIFORNIA</td>\n",
              "      <td>0.00K</td>\n",
              "    </tr>\n",
              "    <tr>\n",
              "      <th>3</th>\n",
              "      <td>WYOMING</td>\n",
              "      <td>0.00K</td>\n",
              "    </tr>\n",
              "    <tr>\n",
              "      <th>4</th>\n",
              "      <td>SOUTH DAKOTA</td>\n",
              "      <td>0.00K</td>\n",
              "    </tr>\n",
              "    <tr>\n",
              "      <th>...</th>\n",
              "      <td>...</td>\n",
              "      <td>...</td>\n",
              "    </tr>\n",
              "    <tr>\n",
              "      <th>51927</th>\n",
              "      <td>INDIANA</td>\n",
              "      <td>4.00K</td>\n",
              "    </tr>\n",
              "    <tr>\n",
              "      <th>51928</th>\n",
              "      <td>INDIANA</td>\n",
              "      <td>1.00K</td>\n",
              "    </tr>\n",
              "    <tr>\n",
              "      <th>51929</th>\n",
              "      <td>INDIANA</td>\n",
              "      <td>10.00K</td>\n",
              "    </tr>\n",
              "    <tr>\n",
              "      <th>51930</th>\n",
              "      <td>INDIANA</td>\n",
              "      <td>0.50K</td>\n",
              "    </tr>\n",
              "    <tr>\n",
              "      <th>51931</th>\n",
              "      <td>INDIANA</td>\n",
              "      <td>1.50K</td>\n",
              "    </tr>\n",
              "  </tbody>\n",
              "</table>\n",
              "<p>51932 rows × 2 columns</p>\n",
              "</div>"
            ],
            "text/plain": [
              "              STATE DAMAGE_PROPERTY\n",
              "0           ALABAMA             NaN\n",
              "1          COLORADO           0.00K\n",
              "2        CALIFORNIA           0.00K\n",
              "3           WYOMING           0.00K\n",
              "4      SOUTH DAKOTA           0.00K\n",
              "...             ...             ...\n",
              "51927       INDIANA           4.00K\n",
              "51928       INDIANA           1.00K\n",
              "51929       INDIANA          10.00K\n",
              "51930       INDIANA           0.50K\n",
              "51931       INDIANA           1.50K\n",
              "\n",
              "[51932 rows x 2 columns]"
            ]
          },
          "metadata": {
            "tags": []
          },
          "execution_count": 6
        }
      ]
    },
    {
      "cell_type": "code",
      "metadata": {
        "id": "qREC2Mc2zEjR",
        "colab_type": "code",
        "colab": {
          "base_uri": "https://localhost:8080/",
          "height": 66
        },
        "outputId": "62b11d09-5eb5-470d-dd8b-3a8449ca2510"
      },
      "source": [
        "dfweather_data.isnull().sum().sort_values()"
      ],
      "execution_count": 7,
      "outputs": [
        {
          "output_type": "execute_result",
          "data": {
            "text/plain": [
              "STATE                 0\n",
              "DAMAGE_PROPERTY    7751\n",
              "dtype: int64"
            ]
          },
          "metadata": {
            "tags": []
          },
          "execution_count": 7
        }
      ]
    },
    {
      "cell_type": "code",
      "metadata": {
        "id": "DEVqg0i2zjcZ",
        "colab_type": "code",
        "colab": {
          "base_uri": "https://localhost:8080/",
          "height": 66
        },
        "outputId": "f1064190-c6aa-441d-b9e9-cd917d6bb5b4"
      },
      "source": [
        "dfweather_data.dtypes"
      ],
      "execution_count": 8,
      "outputs": [
        {
          "output_type": "execute_result",
          "data": {
            "text/plain": [
              "STATE              object\n",
              "DAMAGE_PROPERTY    object\n",
              "dtype: object"
            ]
          },
          "metadata": {
            "tags": []
          },
          "execution_count": 8
        }
      ]
    },
    {
      "cell_type": "code",
      "metadata": {
        "id": "ZQ5creZrAbMW",
        "colab_type": "code",
        "colab": {}
      },
      "source": [
        "#dropping NaN values\n",
        "dfweather_data = dfweather_data.dropna()"
      ],
      "execution_count": 0,
      "outputs": []
    },
    {
      "cell_type": "code",
      "metadata": {
        "id": "0mNZ8rJI6J7y",
        "colab_type": "code",
        "colab": {}
      },
      "source": [
        "test_strip = '4.00K'"
      ],
      "execution_count": 0,
      "outputs": []
    },
    {
      "cell_type": "code",
      "metadata": {
        "id": "1BTOH3k75XZ8",
        "colab_type": "code",
        "colab": {}
      },
      "source": [
        "def object_to_float(cell_contents):\n",
        "  return float(cell_contents.strip('K'))"
      ],
      "execution_count": 0,
      "outputs": []
    },
    {
      "cell_type": "code",
      "metadata": {
        "id": "jZePNdda51sV",
        "colab_type": "code",
        "colab": {
          "base_uri": "https://localhost:8080/",
          "height": 33
        },
        "outputId": "b7eb754f-dba2-4df8-d9c1-29a915a9c64d"
      },
      "source": [
        "object_to_float(test_strip)"
      ],
      "execution_count": 27,
      "outputs": [
        {
          "output_type": "execute_result",
          "data": {
            "text/plain": [
              "4.0"
            ]
          },
          "metadata": {
            "tags": []
          },
          "execution_count": 27
        }
      ]
    },
    {
      "cell_type": "code",
      "metadata": {
        "id": "9XZAI6iB6YdU",
        "colab_type": "code",
        "colab": {
          "base_uri": "https://localhost:8080/",
          "height": 33
        },
        "outputId": "78fcfe45-72e6-4056-f720-1c67fede85ca"
      },
      "source": [
        "type(test_strip)"
      ],
      "execution_count": 28,
      "outputs": [
        {
          "output_type": "execute_result",
          "data": {
            "text/plain": [
              "str"
            ]
          },
          "metadata": {
            "tags": []
          },
          "execution_count": 28
        }
      ]
    },
    {
      "cell_type": "code",
      "metadata": {
        "id": "vRnlCn2R63Ya",
        "colab_type": "code",
        "colab": {
          "base_uri": "https://localhost:8080/",
          "height": 296
        },
        "outputId": "f1941e97-70f9-4ef9-eace-4f5b6806998d"
      },
      "source": [
        "dfweather_data['DAMAGE_PROPERTY_K'] = dfweather_data['DAMAGE_PROPERTY'].apply(object_to_float)\n",
        "df.head()"
      ],
      "execution_count": 29,
      "outputs": [
        {
          "output_type": "error",
          "ename": "AttributeError",
          "evalue": "ignored",
          "traceback": [
            "\u001b[0;31m---------------------------------------------------------------------------\u001b[0m",
            "\u001b[0;31mAttributeError\u001b[0m                            Traceback (most recent call last)",
            "\u001b[0;32m<ipython-input-29-b203e4c1e497>\u001b[0m in \u001b[0;36m<module>\u001b[0;34m()\u001b[0m\n\u001b[0;32m----> 1\u001b[0;31m \u001b[0mdfweather_data\u001b[0m\u001b[0;34m[\u001b[0m\u001b[0;34m'DAMAGE_PROPERTY_K'\u001b[0m\u001b[0;34m]\u001b[0m \u001b[0;34m=\u001b[0m \u001b[0mdfweather_data\u001b[0m\u001b[0;34m[\u001b[0m\u001b[0;34m'DAMAGE_PROPERTY'\u001b[0m\u001b[0;34m]\u001b[0m\u001b[0;34m.\u001b[0m\u001b[0mapply\u001b[0m\u001b[0;34m(\u001b[0m\u001b[0mobject_to_float\u001b[0m\u001b[0;34m)\u001b[0m\u001b[0;34m\u001b[0m\u001b[0;34m\u001b[0m\u001b[0m\n\u001b[0m\u001b[1;32m      2\u001b[0m \u001b[0mdf\u001b[0m\u001b[0;34m.\u001b[0m\u001b[0mhead\u001b[0m\u001b[0;34m(\u001b[0m\u001b[0;34m)\u001b[0m\u001b[0;34m\u001b[0m\u001b[0;34m\u001b[0m\u001b[0m\n",
            "\u001b[0;32m/usr/local/lib/python3.6/dist-packages/pandas/core/series.py\u001b[0m in \u001b[0;36mapply\u001b[0;34m(self, func, convert_dtype, args, **kwds)\u001b[0m\n\u001b[1;32m   4043\u001b[0m             \u001b[0;32melse\u001b[0m\u001b[0;34m:\u001b[0m\u001b[0;34m\u001b[0m\u001b[0;34m\u001b[0m\u001b[0m\n\u001b[1;32m   4044\u001b[0m                 \u001b[0mvalues\u001b[0m \u001b[0;34m=\u001b[0m \u001b[0mself\u001b[0m\u001b[0;34m.\u001b[0m\u001b[0mastype\u001b[0m\u001b[0;34m(\u001b[0m\u001b[0mobject\u001b[0m\u001b[0;34m)\u001b[0m\u001b[0;34m.\u001b[0m\u001b[0mvalues\u001b[0m\u001b[0;34m\u001b[0m\u001b[0;34m\u001b[0m\u001b[0m\n\u001b[0;32m-> 4045\u001b[0;31m                 \u001b[0mmapped\u001b[0m \u001b[0;34m=\u001b[0m \u001b[0mlib\u001b[0m\u001b[0;34m.\u001b[0m\u001b[0mmap_infer\u001b[0m\u001b[0;34m(\u001b[0m\u001b[0mvalues\u001b[0m\u001b[0;34m,\u001b[0m \u001b[0mf\u001b[0m\u001b[0;34m,\u001b[0m \u001b[0mconvert\u001b[0m\u001b[0;34m=\u001b[0m\u001b[0mconvert_dtype\u001b[0m\u001b[0;34m)\u001b[0m\u001b[0;34m\u001b[0m\u001b[0;34m\u001b[0m\u001b[0m\n\u001b[0m\u001b[1;32m   4046\u001b[0m \u001b[0;34m\u001b[0m\u001b[0m\n\u001b[1;32m   4047\u001b[0m         \u001b[0;32mif\u001b[0m \u001b[0mlen\u001b[0m\u001b[0;34m(\u001b[0m\u001b[0mmapped\u001b[0m\u001b[0;34m)\u001b[0m \u001b[0;32mand\u001b[0m \u001b[0misinstance\u001b[0m\u001b[0;34m(\u001b[0m\u001b[0mmapped\u001b[0m\u001b[0;34m[\u001b[0m\u001b[0;36m0\u001b[0m\u001b[0;34m]\u001b[0m\u001b[0;34m,\u001b[0m \u001b[0mSeries\u001b[0m\u001b[0;34m)\u001b[0m\u001b[0;34m:\u001b[0m\u001b[0;34m\u001b[0m\u001b[0;34m\u001b[0m\u001b[0m\n",
            "\u001b[0;32mpandas/_libs/lib.pyx\u001b[0m in \u001b[0;36mpandas._libs.lib.map_infer\u001b[0;34m()\u001b[0m\n",
            "\u001b[0;32m<ipython-input-26-11c403afc9cd>\u001b[0m in \u001b[0;36mobject_to_float\u001b[0;34m(cell_contents)\u001b[0m\n\u001b[1;32m      1\u001b[0m \u001b[0;32mdef\u001b[0m \u001b[0mobject_to_float\u001b[0m\u001b[0;34m(\u001b[0m\u001b[0mcell_contents\u001b[0m\u001b[0;34m)\u001b[0m\u001b[0;34m:\u001b[0m\u001b[0;34m\u001b[0m\u001b[0;34m\u001b[0m\u001b[0m\n\u001b[0;32m----> 2\u001b[0;31m   \u001b[0;32mreturn\u001b[0m \u001b[0mfloat\u001b[0m\u001b[0;34m(\u001b[0m\u001b[0mcell_contents\u001b[0m\u001b[0;34m.\u001b[0m\u001b[0mstrip\u001b[0m\u001b[0;34m(\u001b[0m\u001b[0;34m'K'\u001b[0m\u001b[0;34m)\u001b[0m\u001b[0;34m)\u001b[0m\u001b[0;34m\u001b[0m\u001b[0;34m\u001b[0m\u001b[0m\n\u001b[0m",
            "\u001b[0;31mAttributeError\u001b[0m: 'float' object has no attribute 'strip'"
          ]
        }
      ]
    }
  ]
}