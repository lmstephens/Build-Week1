{
  "nbformat": 4,
  "nbformat_minor": 0,
  "metadata": {
    "colab": {
      "name": "2013.ipynb",
      "provenance": [],
      "toc_visible": true
    },
    "kernelspec": {
      "name": "python3",
      "display_name": "Python 3"
    }
  },
  "cells": [
    {
      "cell_type": "code",
      "metadata": {
        "id": "WJnBFfRZDdfG",
        "colab_type": "code",
        "colab": {}
      },
      "source": [
        "#Import all the stuff\n",
        "import pandas as pd\n",
        "import numpy as np\n",
        "import matplotlib.pyplot as plt\n",
        "import random"
      ],
      "execution_count": 0,
      "outputs": []
    },
    {
      "cell_type": "code",
      "metadata": {
        "id": "3PtVPP35Frug",
        "colab_type": "code",
        "colab": {}
      },
      "source": [
        "Weather_url = \"https://www1.ncdc.noaa.gov/pub/data/swdi/stormevents/csvfiles/legacy/stormdata_2013.csv\"\n",
        "\n",
        "#!curl https://www1.ncdc.noaa.gov/pub/data/swdi/stormevents/csvfiles/legacy/stormdata_2013.csv"
      ],
      "execution_count": 0,
      "outputs": []
    },
    {
      "cell_type": "code",
      "metadata": {
        "id": "dDpKN2POGePj",
        "colab_type": "code",
        "outputId": "97ef0ef6-4093-4016-a361-d0b95903069d",
        "colab": {
          "base_uri": "https://localhost:8080/",
          "height": 33
        }
      },
      "source": [
        "weather_data = pd.read_csv(Weather_url)\n",
        "weather_data.shape"
      ],
      "execution_count": 3,
      "outputs": [
        {
          "output_type": "execute_result",
          "data": {
            "text/plain": [
              "(51932, 58)"
            ]
          },
          "metadata": {
            "tags": []
          },
          "execution_count": 3
        }
      ]
    },
    {
      "cell_type": "code",
      "metadata": {
        "id": "SoTomj0BGu5C",
        "colab_type": "code",
        "outputId": "6b4524a4-aed7-4aa6-ee8e-e12d89a8ecdb",
        "colab": {
          "base_uri": "https://localhost:8080/",
          "height": 438
        }
      },
      "source": [
        "weather_data.tail()"
      ],
      "execution_count": 4,
      "outputs": [
        {
          "output_type": "execute_result",
          "data": {
            "text/html": [
              "<div>\n",
              "<style scoped>\n",
              "    .dataframe tbody tr th:only-of-type {\n",
              "        vertical-align: middle;\n",
              "    }\n",
              "\n",
              "    .dataframe tbody tr th {\n",
              "        vertical-align: top;\n",
              "    }\n",
              "\n",
              "    .dataframe thead th {\n",
              "        text-align: right;\n",
              "    }\n",
              "</style>\n",
              "<table border=\"1\" class=\"dataframe\">\n",
              "  <thead>\n",
              "    <tr style=\"text-align: right;\">\n",
              "      <th></th>\n",
              "      <th>BEGIN_YEARMONTH</th>\n",
              "      <th>BEGIN_DAY</th>\n",
              "      <th>BEGIN_TIME</th>\n",
              "      <th>END_YEARMONTH</th>\n",
              "      <th>END_DAY</th>\n",
              "      <th>END_TIME</th>\n",
              "      <th>EPISODE_ID</th>\n",
              "      <th>EVENT_ID</th>\n",
              "      <th>STATE</th>\n",
              "      <th>STATE_FIPS</th>\n",
              "      <th>YEAR</th>\n",
              "      <th>MONTH_NAME</th>\n",
              "      <th>EVENT_TYPE</th>\n",
              "      <th>CZ_TYPE</th>\n",
              "      <th>CZ_FIPS</th>\n",
              "      <th>CZ_NAME</th>\n",
              "      <th>WFO</th>\n",
              "      <th>BEGIN_DATE_TIME</th>\n",
              "      <th>CZ_TIMEZONE</th>\n",
              "      <th>END_DATE_TIME</th>\n",
              "      <th>INJURIES_DIRECT</th>\n",
              "      <th>INJURIES_INDIRECT</th>\n",
              "      <th>DEATHS_DIRECT</th>\n",
              "      <th>DEATHS_INDIRECT</th>\n",
              "      <th>DAMAGE_PROPERTY</th>\n",
              "      <th>DAMAGE_CROPS</th>\n",
              "      <th>SOURCE</th>\n",
              "      <th>MAGNITUDE</th>\n",
              "      <th>MAGNITUDE_TYPE</th>\n",
              "      <th>FLOOD_CAUSE</th>\n",
              "      <th>CATEGORY</th>\n",
              "      <th>TOR_F_SCALE</th>\n",
              "      <th>TOR_LENGTH</th>\n",
              "      <th>TOR_WIDTH</th>\n",
              "      <th>TOR_OTHER_WFO</th>\n",
              "      <th>TOR_OTHER_CZ_STATE</th>\n",
              "      <th>TOR_OTHER_CZ_FIPS</th>\n",
              "      <th>TOR_OTHER_CZ_NAME</th>\n",
              "      <th>BEGIN_RANGE</th>\n",
              "      <th>BEGIN_AZIMUTH</th>\n",
              "      <th>BEGIN_LOCATION</th>\n",
              "      <th>END_RANGE</th>\n",
              "      <th>END_AZIMUTH</th>\n",
              "      <th>END_LOCATION</th>\n",
              "      <th>BEGIN_LAT</th>\n",
              "      <th>BEGIN_LON</th>\n",
              "      <th>END_LAT</th>\n",
              "      <th>END_LON</th>\n",
              "      <th>EPISODE_NARRATIVE</th>\n",
              "      <th>EVENT_NARRATIVE</th>\n",
              "      <th>LAST_MOD_DATE</th>\n",
              "      <th>LAST_MOD_TIME</th>\n",
              "      <th>LAST_CERT_DATE</th>\n",
              "      <th>LAST_CERT_TIME</th>\n",
              "      <th>LAST_MOD</th>\n",
              "      <th>LAST_CERT</th>\n",
              "      <th>ADDCORR_FLG</th>\n",
              "      <th>ADDCORR_DATE</th>\n",
              "    </tr>\n",
              "  </thead>\n",
              "  <tbody>\n",
              "    <tr>\n",
              "      <th>51927</th>\n",
              "      <td>201310</td>\n",
              "      <td>31</td>\n",
              "      <td>2042</td>\n",
              "      <td>201310</td>\n",
              "      <td>31</td>\n",
              "      <td>2042</td>\n",
              "      <td>80210</td>\n",
              "      <td>481800</td>\n",
              "      <td>INDIANA</td>\n",
              "      <td>18</td>\n",
              "      <td>2013</td>\n",
              "      <td>October</td>\n",
              "      <td>Thunderstorm Wind</td>\n",
              "      <td>C</td>\n",
              "      <td>57</td>\n",
              "      <td>HAMILTON</td>\n",
              "      <td>IND</td>\n",
              "      <td>10/31/2013 20:42:00</td>\n",
              "      <td>EST-5</td>\n",
              "      <td>10/31/2013 20:42:00</td>\n",
              "      <td>0</td>\n",
              "      <td>0</td>\n",
              "      <td>0</td>\n",
              "      <td>0</td>\n",
              "      <td>4.00K</td>\n",
              "      <td>0.00K</td>\n",
              "      <td>NWS Employee</td>\n",
              "      <td>56.0</td>\n",
              "      <td>EG</td>\n",
              "      <td>NaN</td>\n",
              "      <td>NaN</td>\n",
              "      <td>NaN</td>\n",
              "      <td>NaN</td>\n",
              "      <td>NaN</td>\n",
              "      <td>NaN</td>\n",
              "      <td>NaN</td>\n",
              "      <td>NaN</td>\n",
              "      <td>NaN</td>\n",
              "      <td>1.0</td>\n",
              "      <td>NW</td>\n",
              "      <td>INDIANAPOLIS METRO A</td>\n",
              "      <td>NaN</td>\n",
              "      <td>NaN</td>\n",
              "      <td>NaN</td>\n",
              "      <td>39.94</td>\n",
              "      <td>-86.06</td>\n",
              "      <td>NaN</td>\n",
              "      <td>NaN</td>\n",
              "      <td>Severe weather occurred on October 31st across...</td>\n",
              "      <td>Trees were reported down at Eller and 106th St...</td>\n",
              "      <td>20131231</td>\n",
              "      <td>1131</td>\n",
              "      <td>20131231</td>\n",
              "      <td>1416</td>\n",
              "      <td>12/31/2013 11:31:14</td>\n",
              "      <td>12/31/2013 14:16:41</td>\n",
              "      <td>NaN</td>\n",
              "      <td>NaN</td>\n",
              "    </tr>\n",
              "    <tr>\n",
              "      <th>51928</th>\n",
              "      <td>201310</td>\n",
              "      <td>31</td>\n",
              "      <td>2045</td>\n",
              "      <td>201310</td>\n",
              "      <td>31</td>\n",
              "      <td>2045</td>\n",
              "      <td>80210</td>\n",
              "      <td>481801</td>\n",
              "      <td>INDIANA</td>\n",
              "      <td>18</td>\n",
              "      <td>2013</td>\n",
              "      <td>October</td>\n",
              "      <td>Thunderstorm Wind</td>\n",
              "      <td>C</td>\n",
              "      <td>97</td>\n",
              "      <td>MARION</td>\n",
              "      <td>IND</td>\n",
              "      <td>10/31/2013 20:45:00</td>\n",
              "      <td>EST-5</td>\n",
              "      <td>10/31/2013 20:45:00</td>\n",
              "      <td>0</td>\n",
              "      <td>0</td>\n",
              "      <td>0</td>\n",
              "      <td>0</td>\n",
              "      <td>1.00K</td>\n",
              "      <td>0.00K</td>\n",
              "      <td>Trained Spotter</td>\n",
              "      <td>61.0</td>\n",
              "      <td>EG</td>\n",
              "      <td>NaN</td>\n",
              "      <td>NaN</td>\n",
              "      <td>NaN</td>\n",
              "      <td>NaN</td>\n",
              "      <td>NaN</td>\n",
              "      <td>NaN</td>\n",
              "      <td>NaN</td>\n",
              "      <td>NaN</td>\n",
              "      <td>NaN</td>\n",
              "      <td>1.0</td>\n",
              "      <td>W</td>\n",
              "      <td>BEECH GROVE</td>\n",
              "      <td>NaN</td>\n",
              "      <td>NaN</td>\n",
              "      <td>NaN</td>\n",
              "      <td>39.72</td>\n",
              "      <td>-86.09</td>\n",
              "      <td>NaN</td>\n",
              "      <td>NaN</td>\n",
              "      <td>Severe weather occurred on October 31st across...</td>\n",
              "      <td>A 20-inch diameter, living tree was broke off ...</td>\n",
              "      <td>20131231</td>\n",
              "      <td>1131</td>\n",
              "      <td>20131231</td>\n",
              "      <td>1416</td>\n",
              "      <td>12/31/2013 11:31:14</td>\n",
              "      <td>12/31/2013 14:16:41</td>\n",
              "      <td>NaN</td>\n",
              "      <td>NaN</td>\n",
              "    </tr>\n",
              "    <tr>\n",
              "      <th>51929</th>\n",
              "      <td>201310</td>\n",
              "      <td>31</td>\n",
              "      <td>2045</td>\n",
              "      <td>201310</td>\n",
              "      <td>31</td>\n",
              "      <td>2045</td>\n",
              "      <td>80210</td>\n",
              "      <td>481802</td>\n",
              "      <td>INDIANA</td>\n",
              "      <td>18</td>\n",
              "      <td>2013</td>\n",
              "      <td>October</td>\n",
              "      <td>Thunderstorm Wind</td>\n",
              "      <td>C</td>\n",
              "      <td>81</td>\n",
              "      <td>JOHNSON</td>\n",
              "      <td>IND</td>\n",
              "      <td>10/31/2013 20:45:00</td>\n",
              "      <td>EST-5</td>\n",
              "      <td>10/31/2013 20:45:00</td>\n",
              "      <td>0</td>\n",
              "      <td>0</td>\n",
              "      <td>0</td>\n",
              "      <td>0</td>\n",
              "      <td>10.00K</td>\n",
              "      <td>0.00K</td>\n",
              "      <td>Public</td>\n",
              "      <td>56.0</td>\n",
              "      <td>EG</td>\n",
              "      <td>NaN</td>\n",
              "      <td>NaN</td>\n",
              "      <td>NaN</td>\n",
              "      <td>NaN</td>\n",
              "      <td>NaN</td>\n",
              "      <td>NaN</td>\n",
              "      <td>NaN</td>\n",
              "      <td>NaN</td>\n",
              "      <td>NaN</td>\n",
              "      <td>1.0</td>\n",
              "      <td>NW</td>\n",
              "      <td>FRANKLIN</td>\n",
              "      <td>NaN</td>\n",
              "      <td>NaN</td>\n",
              "      <td>NaN</td>\n",
              "      <td>39.49</td>\n",
              "      <td>-86.06</td>\n",
              "      <td>NaN</td>\n",
              "      <td>NaN</td>\n",
              "      <td>Severe weather occurred on October 31st across...</td>\n",
              "      <td>Trees were reported to be downed on a vehicle ...</td>\n",
              "      <td>20131231</td>\n",
              "      <td>1131</td>\n",
              "      <td>20131231</td>\n",
              "      <td>1416</td>\n",
              "      <td>12/31/2013 11:31:14</td>\n",
              "      <td>12/31/2013 14:16:41</td>\n",
              "      <td>NaN</td>\n",
              "      <td>NaN</td>\n",
              "    </tr>\n",
              "    <tr>\n",
              "      <th>51930</th>\n",
              "      <td>201310</td>\n",
              "      <td>31</td>\n",
              "      <td>2047</td>\n",
              "      <td>201310</td>\n",
              "      <td>31</td>\n",
              "      <td>2047</td>\n",
              "      <td>80210</td>\n",
              "      <td>481803</td>\n",
              "      <td>INDIANA</td>\n",
              "      <td>18</td>\n",
              "      <td>2013</td>\n",
              "      <td>October</td>\n",
              "      <td>Thunderstorm Wind</td>\n",
              "      <td>C</td>\n",
              "      <td>81</td>\n",
              "      <td>JOHNSON</td>\n",
              "      <td>IND</td>\n",
              "      <td>10/31/2013 20:47:00</td>\n",
              "      <td>EST-5</td>\n",
              "      <td>10/31/2013 20:47:00</td>\n",
              "      <td>0</td>\n",
              "      <td>0</td>\n",
              "      <td>0</td>\n",
              "      <td>0</td>\n",
              "      <td>0.50K</td>\n",
              "      <td>0.00K</td>\n",
              "      <td>Trained Spotter</td>\n",
              "      <td>52.0</td>\n",
              "      <td>EG</td>\n",
              "      <td>NaN</td>\n",
              "      <td>NaN</td>\n",
              "      <td>NaN</td>\n",
              "      <td>NaN</td>\n",
              "      <td>NaN</td>\n",
              "      <td>NaN</td>\n",
              "      <td>NaN</td>\n",
              "      <td>NaN</td>\n",
              "      <td>NaN</td>\n",
              "      <td>1.0</td>\n",
              "      <td>NW</td>\n",
              "      <td>FRANKLIN</td>\n",
              "      <td>NaN</td>\n",
              "      <td>NaN</td>\n",
              "      <td>NaN</td>\n",
              "      <td>39.49</td>\n",
              "      <td>-86.06</td>\n",
              "      <td>NaN</td>\n",
              "      <td>NaN</td>\n",
              "      <td>Severe weather occurred on October 31st across...</td>\n",
              "      <td>Patio furniture was damaged at a residence in ...</td>\n",
              "      <td>20131231</td>\n",
              "      <td>1131</td>\n",
              "      <td>20131231</td>\n",
              "      <td>1416</td>\n",
              "      <td>12/31/2013 11:31:14</td>\n",
              "      <td>12/31/2013 14:16:41</td>\n",
              "      <td>NaN</td>\n",
              "      <td>NaN</td>\n",
              "    </tr>\n",
              "    <tr>\n",
              "      <th>51931</th>\n",
              "      <td>201310</td>\n",
              "      <td>31</td>\n",
              "      <td>2049</td>\n",
              "      <td>201310</td>\n",
              "      <td>31</td>\n",
              "      <td>2049</td>\n",
              "      <td>80210</td>\n",
              "      <td>481804</td>\n",
              "      <td>INDIANA</td>\n",
              "      <td>18</td>\n",
              "      <td>2013</td>\n",
              "      <td>October</td>\n",
              "      <td>Thunderstorm Wind</td>\n",
              "      <td>C</td>\n",
              "      <td>97</td>\n",
              "      <td>MARION</td>\n",
              "      <td>IND</td>\n",
              "      <td>10/31/2013 20:49:00</td>\n",
              "      <td>EST-5</td>\n",
              "      <td>10/31/2013 20:49:00</td>\n",
              "      <td>0</td>\n",
              "      <td>0</td>\n",
              "      <td>0</td>\n",
              "      <td>0</td>\n",
              "      <td>1.50K</td>\n",
              "      <td>0.00K</td>\n",
              "      <td>Public</td>\n",
              "      <td>61.0</td>\n",
              "      <td>EG</td>\n",
              "      <td>NaN</td>\n",
              "      <td>NaN</td>\n",
              "      <td>NaN</td>\n",
              "      <td>NaN</td>\n",
              "      <td>NaN</td>\n",
              "      <td>NaN</td>\n",
              "      <td>NaN</td>\n",
              "      <td>NaN</td>\n",
              "      <td>NaN</td>\n",
              "      <td>1.0</td>\n",
              "      <td>ESE</td>\n",
              "      <td>HUNTER</td>\n",
              "      <td>NaN</td>\n",
              "      <td>NaN</td>\n",
              "      <td>NaN</td>\n",
              "      <td>39.79</td>\n",
              "      <td>-85.98</td>\n",
              "      <td>NaN</td>\n",
              "      <td>NaN</td>\n",
              "      <td>Severe weather occurred on October 31st across...</td>\n",
              "      <td>Some tops of trees were snapped and a 30-inch ...</td>\n",
              "      <td>20131231</td>\n",
              "      <td>1131</td>\n",
              "      <td>20131231</td>\n",
              "      <td>1416</td>\n",
              "      <td>12/31/2013 11:31:14</td>\n",
              "      <td>12/31/2013 14:16:41</td>\n",
              "      <td>NaN</td>\n",
              "      <td>NaN</td>\n",
              "    </tr>\n",
              "  </tbody>\n",
              "</table>\n",
              "</div>"
            ],
            "text/plain": [
              "       BEGIN_YEARMONTH  BEGIN_DAY  ...  ADDCORR_FLG  ADDCORR_DATE\n",
              "51927           201310         31  ...          NaN           NaN\n",
              "51928           201310         31  ...          NaN           NaN\n",
              "51929           201310         31  ...          NaN           NaN\n",
              "51930           201310         31  ...          NaN           NaN\n",
              "51931           201310         31  ...          NaN           NaN\n",
              "\n",
              "[5 rows x 58 columns]"
            ]
          },
          "metadata": {
            "tags": []
          },
          "execution_count": 4
        }
      ]
    },
    {
      "cell_type": "code",
      "metadata": {
        "id": "iZICBByxx23-",
        "colab_type": "code",
        "colab": {
          "base_uri": "https://localhost:8080/",
          "height": 391
        },
        "outputId": "0c8a864a-5e1c-4272-81f1-7f5c199538bc"
      },
      "source": [
        "dfweather_data = weather_data[['STATE','DAMAGE_PROPERTY']].copy()\n",
        "dfweather_data"
      ],
      "execution_count": 5,
      "outputs": [
        {
          "output_type": "execute_result",
          "data": {
            "text/html": [
              "<div>\n",
              "<style scoped>\n",
              "    .dataframe tbody tr th:only-of-type {\n",
              "        vertical-align: middle;\n",
              "    }\n",
              "\n",
              "    .dataframe tbody tr th {\n",
              "        vertical-align: top;\n",
              "    }\n",
              "\n",
              "    .dataframe thead th {\n",
              "        text-align: right;\n",
              "    }\n",
              "</style>\n",
              "<table border=\"1\" class=\"dataframe\">\n",
              "  <thead>\n",
              "    <tr style=\"text-align: right;\">\n",
              "      <th></th>\n",
              "      <th>STATE</th>\n",
              "      <th>DAMAGE_PROPERTY</th>\n",
              "    </tr>\n",
              "  </thead>\n",
              "  <tbody>\n",
              "    <tr>\n",
              "      <th>0</th>\n",
              "      <td>ALABAMA</td>\n",
              "      <td>NaN</td>\n",
              "    </tr>\n",
              "    <tr>\n",
              "      <th>1</th>\n",
              "      <td>COLORADO</td>\n",
              "      <td>0.00K</td>\n",
              "    </tr>\n",
              "    <tr>\n",
              "      <th>2</th>\n",
              "      <td>CALIFORNIA</td>\n",
              "      <td>0.00K</td>\n",
              "    </tr>\n",
              "    <tr>\n",
              "      <th>3</th>\n",
              "      <td>WYOMING</td>\n",
              "      <td>0.00K</td>\n",
              "    </tr>\n",
              "    <tr>\n",
              "      <th>4</th>\n",
              "      <td>SOUTH DAKOTA</td>\n",
              "      <td>0.00K</td>\n",
              "    </tr>\n",
              "    <tr>\n",
              "      <th>...</th>\n",
              "      <td>...</td>\n",
              "      <td>...</td>\n",
              "    </tr>\n",
              "    <tr>\n",
              "      <th>51927</th>\n",
              "      <td>INDIANA</td>\n",
              "      <td>4.00K</td>\n",
              "    </tr>\n",
              "    <tr>\n",
              "      <th>51928</th>\n",
              "      <td>INDIANA</td>\n",
              "      <td>1.00K</td>\n",
              "    </tr>\n",
              "    <tr>\n",
              "      <th>51929</th>\n",
              "      <td>INDIANA</td>\n",
              "      <td>10.00K</td>\n",
              "    </tr>\n",
              "    <tr>\n",
              "      <th>51930</th>\n",
              "      <td>INDIANA</td>\n",
              "      <td>0.50K</td>\n",
              "    </tr>\n",
              "    <tr>\n",
              "      <th>51931</th>\n",
              "      <td>INDIANA</td>\n",
              "      <td>1.50K</td>\n",
              "    </tr>\n",
              "  </tbody>\n",
              "</table>\n",
              "<p>51932 rows × 2 columns</p>\n",
              "</div>"
            ],
            "text/plain": [
              "              STATE DAMAGE_PROPERTY\n",
              "0           ALABAMA             NaN\n",
              "1          COLORADO           0.00K\n",
              "2        CALIFORNIA           0.00K\n",
              "3           WYOMING           0.00K\n",
              "4      SOUTH DAKOTA           0.00K\n",
              "...             ...             ...\n",
              "51927       INDIANA           4.00K\n",
              "51928       INDIANA           1.00K\n",
              "51929       INDIANA          10.00K\n",
              "51930       INDIANA           0.50K\n",
              "51931       INDIANA           1.50K\n",
              "\n",
              "[51932 rows x 2 columns]"
            ]
          },
          "metadata": {
            "tags": []
          },
          "execution_count": 5
        }
      ]
    },
    {
      "cell_type": "code",
      "metadata": {
        "id": "qREC2Mc2zEjR",
        "colab_type": "code",
        "colab": {
          "base_uri": "https://localhost:8080/",
          "height": 66
        },
        "outputId": "08d7971a-dd5b-4a93-b02b-16da2d331f16"
      },
      "source": [
        "dfweather_data.isnull().sum().sort_values()"
      ],
      "execution_count": 45,
      "outputs": [
        {
          "output_type": "execute_result",
          "data": {
            "text/plain": [
              "STATE                 0\n",
              "DAMAGE_PROPERTY    7751\n",
              "dtype: int64"
            ]
          },
          "metadata": {
            "tags": []
          },
          "execution_count": 45
        }
      ]
    },
    {
      "cell_type": "code",
      "metadata": {
        "id": "DEVqg0i2zjcZ",
        "colab_type": "code",
        "colab": {
          "base_uri": "https://localhost:8080/",
          "height": 66
        },
        "outputId": "3353acf9-0304-4d1a-880d-bad4e11e235a"
      },
      "source": [
        "dfweather_data.dtypes"
      ],
      "execution_count": 6,
      "outputs": [
        {
          "output_type": "execute_result",
          "data": {
            "text/plain": [
              "STATE              object\n",
              "DAMAGE_PROPERTY    object\n",
              "dtype: object"
            ]
          },
          "metadata": {
            "tags": []
          },
          "execution_count": 6
        }
      ]
    },
    {
      "cell_type": "code",
      "metadata": {
        "id": "ZQ5creZrAbMW",
        "colab_type": "code",
        "colab": {}
      },
      "source": [
        "#dropping NaN values\n",
        "dfweather_data = dfweather_data.dropna()"
      ],
      "execution_count": 0,
      "outputs": []
    },
    {
      "cell_type": "code",
      "metadata": {
        "id": "dbE6cnyZBk8N",
        "colab_type": "code",
        "colab": {
          "base_uri": "https://localhost:8080/",
          "height": 66
        },
        "outputId": "c1facf10-a38f-45fd-8d32-c4bc62801311"
      },
      "source": [
        "dfweather_data.isnull().sum().sort_values()"
      ],
      "execution_count": 8,
      "outputs": [
        {
          "output_type": "execute_result",
          "data": {
            "text/plain": [
              "STATE              0\n",
              "DAMAGE_PROPERTY    0\n",
              "dtype: int64"
            ]
          },
          "metadata": {
            "tags": []
          },
          "execution_count": 8
        }
      ]
    },
    {
      "cell_type": "code",
      "metadata": {
        "id": "Fgsfs2XSn_Nx",
        "colab_type": "code",
        "colab": {
          "base_uri": "https://localhost:8080/",
          "height": 335
        },
        "outputId": "e1ba2a34-9fb2-4f6c-d5e5-22576e521b40"
      },
      "source": [
        "dfweather_data.sort_values(by='DAMAGE_PROPERTY', ascending= False)\n",
        "dfweather_data.head(10)"
      ],
      "execution_count": 51,
      "outputs": [
        {
          "output_type": "execute_result",
          "data": {
            "text/html": [
              "<div>\n",
              "<style scoped>\n",
              "    .dataframe tbody tr th:only-of-type {\n",
              "        vertical-align: middle;\n",
              "    }\n",
              "\n",
              "    .dataframe tbody tr th {\n",
              "        vertical-align: top;\n",
              "    }\n",
              "\n",
              "    .dataframe thead th {\n",
              "        text-align: right;\n",
              "    }\n",
              "</style>\n",
              "<table border=\"1\" class=\"dataframe\">\n",
              "  <thead>\n",
              "    <tr style=\"text-align: right;\">\n",
              "      <th></th>\n",
              "      <th>STATE</th>\n",
              "      <th>DAMAGE_PROPERTY</th>\n",
              "    </tr>\n",
              "  </thead>\n",
              "  <tbody>\n",
              "    <tr>\n",
              "      <th>1</th>\n",
              "      <td>COLORADO</td>\n",
              "      <td>0.00K</td>\n",
              "    </tr>\n",
              "    <tr>\n",
              "      <th>2</th>\n",
              "      <td>CALIFORNIA</td>\n",
              "      <td>0.00K</td>\n",
              "    </tr>\n",
              "    <tr>\n",
              "      <th>3</th>\n",
              "      <td>WYOMING</td>\n",
              "      <td>0.00K</td>\n",
              "    </tr>\n",
              "    <tr>\n",
              "      <th>4</th>\n",
              "      <td>SOUTH DAKOTA</td>\n",
              "      <td>0.00K</td>\n",
              "    </tr>\n",
              "    <tr>\n",
              "      <th>5</th>\n",
              "      <td>COLORADO</td>\n",
              "      <td>0.00K</td>\n",
              "    </tr>\n",
              "    <tr>\n",
              "      <th>6</th>\n",
              "      <td>COLORADO</td>\n",
              "      <td>0.00K</td>\n",
              "    </tr>\n",
              "    <tr>\n",
              "      <th>7</th>\n",
              "      <td>COLORADO</td>\n",
              "      <td>0.00K</td>\n",
              "    </tr>\n",
              "    <tr>\n",
              "      <th>8</th>\n",
              "      <td>COLORADO</td>\n",
              "      <td>0.00K</td>\n",
              "    </tr>\n",
              "    <tr>\n",
              "      <th>9</th>\n",
              "      <td>COLORADO</td>\n",
              "      <td>0.00K</td>\n",
              "    </tr>\n",
              "    <tr>\n",
              "      <th>11</th>\n",
              "      <td>OKLAHOMA</td>\n",
              "      <td>0.00K</td>\n",
              "    </tr>\n",
              "  </tbody>\n",
              "</table>\n",
              "</div>"
            ],
            "text/plain": [
              "           STATE DAMAGE_PROPERTY\n",
              "1       COLORADO           0.00K\n",
              "2     CALIFORNIA           0.00K\n",
              "3        WYOMING           0.00K\n",
              "4   SOUTH DAKOTA           0.00K\n",
              "5       COLORADO           0.00K\n",
              "6       COLORADO           0.00K\n",
              "7       COLORADO           0.00K\n",
              "8       COLORADO           0.00K\n",
              "9       COLORADO           0.00K\n",
              "11      OKLAHOMA           0.00K"
            ]
          },
          "metadata": {
            "tags": []
          },
          "execution_count": 51
        }
      ]
    },
    {
      "cell_type": "code",
      "metadata": {
        "id": "8olwipel_wdI",
        "colab_type": "code",
        "colab": {
          "base_uri": "https://localhost:8080/",
          "height": 191
        },
        "outputId": "31f733ce-c383-4232-9deb-17737aaac43a"
      },
      "source": [
        "dfweather_data.head()\n",
        "\n",
        "#look at https://stackoverflow.com/questions/39684548/convert-the-string-2-90k-to-2900-or-5-2m-to-5200000-in-pandas-dataframe"
      ],
      "execution_count": 10,
      "outputs": [
        {
          "output_type": "execute_result",
          "data": {
            "text/html": [
              "<div>\n",
              "<style scoped>\n",
              "    .dataframe tbody tr th:only-of-type {\n",
              "        vertical-align: middle;\n",
              "    }\n",
              "\n",
              "    .dataframe tbody tr th {\n",
              "        vertical-align: top;\n",
              "    }\n",
              "\n",
              "    .dataframe thead th {\n",
              "        text-align: right;\n",
              "    }\n",
              "</style>\n",
              "<table border=\"1\" class=\"dataframe\">\n",
              "  <thead>\n",
              "    <tr style=\"text-align: right;\">\n",
              "      <th></th>\n",
              "      <th>STATE</th>\n",
              "      <th>DAMAGE_PROPERTY</th>\n",
              "    </tr>\n",
              "  </thead>\n",
              "  <tbody>\n",
              "    <tr>\n",
              "      <th>1</th>\n",
              "      <td>COLORADO</td>\n",
              "      <td>0.00K</td>\n",
              "    </tr>\n",
              "    <tr>\n",
              "      <th>2</th>\n",
              "      <td>CALIFORNIA</td>\n",
              "      <td>0.00K</td>\n",
              "    </tr>\n",
              "    <tr>\n",
              "      <th>3</th>\n",
              "      <td>WYOMING</td>\n",
              "      <td>0.00K</td>\n",
              "    </tr>\n",
              "    <tr>\n",
              "      <th>4</th>\n",
              "      <td>SOUTH DAKOTA</td>\n",
              "      <td>0.00K</td>\n",
              "    </tr>\n",
              "    <tr>\n",
              "      <th>5</th>\n",
              "      <td>COLORADO</td>\n",
              "      <td>0.00K</td>\n",
              "    </tr>\n",
              "  </tbody>\n",
              "</table>\n",
              "</div>"
            ],
            "text/plain": [
              "          STATE DAMAGE_PROPERTY\n",
              "1      COLORADO           0.00K\n",
              "2    CALIFORNIA           0.00K\n",
              "3       WYOMING           0.00K\n",
              "4  SOUTH DAKOTA           0.00K\n",
              "5      COLORADO           0.00K"
            ]
          },
          "metadata": {
            "tags": []
          },
          "execution_count": 10
        }
      ]
    },
    {
      "cell_type": "code",
      "metadata": {
        "id": "JLU0yOudezrJ",
        "colab_type": "code",
        "colab": {
          "base_uri": "https://localhost:8080/",
          "height": 115
        },
        "outputId": "42c63ae8-43d9-4ec1-85b4-edff41189d42"
      },
      "source": [
        "dfweather_data['DAMAGE_PROPERTY'] = dfweather_data['DAMAGE_PROPERTY'].replace({'K': '*1e3', 'M': '*1e6', 'B': '1e9'}, regex=True).map(pd.eval)"
      ],
      "execution_count": 16,
      "outputs": [
        {
          "output_type": "stream",
          "text": [
            "/usr/local/lib/python3.6/dist-packages/ipykernel_launcher.py:1: SettingWithCopyWarning: \n",
            "A value is trying to be set on a copy of a slice from a DataFrame.\n",
            "Try using .loc[row_indexer,col_indexer] = value instead\n",
            "\n",
            "See the caveats in the documentation: http://pandas.pydata.org/pandas-docs/stable/user_guide/indexing.html#returning-a-view-versus-a-copy\n",
            "  \"\"\"Entry point for launching an IPython kernel.\n"
          ],
          "name": "stderr"
        }
      ]
    },
    {
      "cell_type": "code",
      "metadata": {
        "id": "N8xBemLEfhTc",
        "colab_type": "code",
        "colab": {
          "base_uri": "https://localhost:8080/",
          "height": 191
        },
        "outputId": "a87cbc1a-2346-4e6e-a168-7d2df6f79939"
      },
      "source": [
        "dfweather_data.head()"
      ],
      "execution_count": 17,
      "outputs": [
        {
          "output_type": "execute_result",
          "data": {
            "text/html": [
              "<div>\n",
              "<style scoped>\n",
              "    .dataframe tbody tr th:only-of-type {\n",
              "        vertical-align: middle;\n",
              "    }\n",
              "\n",
              "    .dataframe tbody tr th {\n",
              "        vertical-align: top;\n",
              "    }\n",
              "\n",
              "    .dataframe thead th {\n",
              "        text-align: right;\n",
              "    }\n",
              "</style>\n",
              "<table border=\"1\" class=\"dataframe\">\n",
              "  <thead>\n",
              "    <tr style=\"text-align: right;\">\n",
              "      <th></th>\n",
              "      <th>STATE</th>\n",
              "      <th>DAMAGE_PROPERTY</th>\n",
              "    </tr>\n",
              "  </thead>\n",
              "  <tbody>\n",
              "    <tr>\n",
              "      <th>1</th>\n",
              "      <td>COLORADO</td>\n",
              "      <td>0.0</td>\n",
              "    </tr>\n",
              "    <tr>\n",
              "      <th>2</th>\n",
              "      <td>CALIFORNIA</td>\n",
              "      <td>0.0</td>\n",
              "    </tr>\n",
              "    <tr>\n",
              "      <th>3</th>\n",
              "      <td>WYOMING</td>\n",
              "      <td>0.0</td>\n",
              "    </tr>\n",
              "    <tr>\n",
              "      <th>4</th>\n",
              "      <td>SOUTH DAKOTA</td>\n",
              "      <td>0.0</td>\n",
              "    </tr>\n",
              "    <tr>\n",
              "      <th>5</th>\n",
              "      <td>COLORADO</td>\n",
              "      <td>0.0</td>\n",
              "    </tr>\n",
              "  </tbody>\n",
              "</table>\n",
              "</div>"
            ],
            "text/plain": [
              "          STATE  DAMAGE_PROPERTY\n",
              "1      COLORADO              0.0\n",
              "2    CALIFORNIA              0.0\n",
              "3       WYOMING              0.0\n",
              "4  SOUTH DAKOTA              0.0\n",
              "5      COLORADO              0.0"
            ]
          },
          "metadata": {
            "tags": []
          },
          "execution_count": 17
        }
      ]
    }
  ]
}